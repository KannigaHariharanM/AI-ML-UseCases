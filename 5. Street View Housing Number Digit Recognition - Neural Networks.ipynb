{
 "cells": [
  {
   "cell_type": "markdown",
   "metadata": {},
   "source": [
    "# Neural Networks - Street View Housing Number Digit Recognition"
   ]
  },
  {
   "cell_type": "markdown",
   "metadata": {},
   "source": [
    "**The Problem Description:**\n",
    "\n",
    "Recognizing multi-digit numbers in photographs captured at street level is an important component of modernday map making. A classic example of a corpus of such street-level photographs is Google’s Street View\n",
    "imagery comprised of hundreds of millions of geo-located 360-degree panoramic images. The ability to\n",
    "automatically transcribe an address number from a geo-located patch of pixels and associate the transcribed\n",
    "number with a known street address helps pinpoint, with a high degree of accuracy, the location of the building\n",
    "it represents. More broadly, recognizing numbers in photographs is a problem of interest to the optical\n",
    "character recognition community. While OCR on constrained domains like document processing is well\n",
    "studied, arbitrary multi-character text recognition in photographs is still highly challenging. This difficulty arises\n",
    "due to the wide variability in the visual appearance of text in the wild on account of a large range of fonts,\n",
    "colours, styles, orientations, and character arrangements. The recognition problem is further complicated by\n",
    "environmental factors such as lighting, shadows, specularities, and occlusions as well as by image acquisition\n",
    "factors such as resolution, motion, and focus blurs. In this project, we will use the dataset with images centred\n",
    "around a single digit (many of the images do contain some distractors at the sides). Although we are taking a\n",
    "sample of the data which is simpler, it is more complex than MNIST because of the distractors.\n",
    "\n",
    "**Dataset:**\n",
    "\n",
    "SVHN is a real-world image dataset for developing machine learning and object recognition algorithms with the\n",
    "minimal requirement on data formatting but comes from a significantly harder, unsolved, real-world problem\n",
    "(recognizing digits and numbers in natural scene images). SVHN is obtained from house numbers in Google\n",
    "Street View images."
   ]
  },
  {
   "cell_type": "code",
   "execution_count": 309,
   "metadata": {},
   "outputs": [],
   "source": [
    "# Import required libraries\n",
    "\n",
    "import h5py\n",
    "import itertools\n",
    "import numpy as np\n",
    "import pandas as pd\n",
    "import matplotlib.pyplot as plt\n",
    "\n",
    "from tensorflow.keras.models import Sequential\n",
    "from tensorflow.keras.utils import to_categorical\n",
    "from tensorflow.keras.layers import Dense, Activation, Flatten, BatchNormalization, Dropout\n",
    "from tensorflow.keras.callbacks import EarlyStopping\n",
    "from tensorflow.keras import optimizers, regularizers\n",
    "from tensorflow.keras.layers import LeakyReLU\n",
    "from tensorflow.keras.wrappers.scikit_learn import KerasClassifier\n",
    "\n",
    "from sklearn.model_selection import GridSearchCV\n",
    "from sklearn.metrics import confusion_matrix"
   ]
  },
  {
   "cell_type": "code",
   "execution_count": 2,
   "metadata": {},
   "outputs": [],
   "source": [
    "infile = h5py.File('SVHN_single_grey1.h5','r')"
   ]
  },
  {
   "cell_type": "code",
   "execution_count": 3,
   "metadata": {},
   "outputs": [
    {
     "data": {
      "text/plain": [
       "<KeysViewHDF5 ['X_test', 'X_train', 'X_val', 'y_test', 'y_train', 'y_val']>"
      ]
     },
     "execution_count": 3,
     "metadata": {},
     "output_type": "execute_result"
    }
   ],
   "source": [
    "infile.keys()"
   ]
  },
  {
   "cell_type": "code",
   "execution_count": 4,
   "metadata": {},
   "outputs": [],
   "source": [
    "X_train1 = infile['X_train'][:]\n",
    "X_test1 = infile['X_test'][:]\n",
    "X_val1 = infile['X_val'][:]\n",
    "y_train1 = infile['y_train'][:]\n",
    "y_test1 = infile['y_test'][:]\n",
    "y_val1 = infile['y_val'][:]"
   ]
  },
  {
   "cell_type": "code",
   "execution_count": 5,
   "metadata": {},
   "outputs": [],
   "source": [
    "# backup\n",
    "X_train = X_train1.copy()\n",
    "X_test = X_test1.copy()\n",
    "X_val = X_val1.copy()\n",
    "y_train = y_train1.copy()\n",
    "y_test = y_test1.copy()\n",
    "y_val = y_val1.copy()"
   ]
  },
  {
   "cell_type": "code",
   "execution_count": 6,
   "metadata": {},
   "outputs": [
    {
     "name": "stdout",
     "output_type": "stream",
     "text": [
      "Shape of X_train :  (42000, 32, 32)\n",
      "Shape of y_train :  (42000,)\n",
      "Shape of X_test :  (18000, 32, 32)\n",
      "Shape of y_test :  (18000,)\n",
      "Shape of X_val :  (60000, 32, 32)\n",
      "Shape of y_val :  (60000,)\n"
     ]
    }
   ],
   "source": [
    "print(\"Shape of X_train : \", X_train.shape)\n",
    "print(\"Shape of y_train : \", y_train.shape)\n",
    "print(\"Shape of X_test : \", X_test.shape)\n",
    "print(\"Shape of y_test : \", y_test.shape)\n",
    "print(\"Shape of X_val : \", X_val.shape)\n",
    "print(\"Shape of y_val : \", y_val.shape)"
   ]
  },
  {
   "cell_type": "markdown",
   "metadata": {},
   "source": [
    "Size of each image is 32X32 pixels. Training, Validation and Test set contains 42000, 60000 and 18000 images respectively."
   ]
  },
  {
   "cell_type": "code",
   "execution_count": 7,
   "metadata": {},
   "outputs": [
    {
     "name": "stdout",
     "output_type": "stream",
     "text": [
      "\n",
      "Minimum value in the array :  0.0\n",
      "\n",
      "Maximum value in the array :  254.9745\n"
     ]
    }
   ],
   "source": [
    "print('\\nMinimum value in the array : ', X_train.min()) # minimum value in the array. values will be in the range of 0 to 255\n",
    "print('\\nMaximum value in the array : ', X_train.max()) # maximum value in the array"
   ]
  },
  {
   "cell_type": "code",
   "execution_count": 8,
   "metadata": {
    "scrolled": false
   },
   "outputs": [
    {
     "name": "stdout",
     "output_type": "stream",
     "text": [
      "Randomly selected an array from X_train - \n",
      "\n",
      "[[ 33.0704  30.2601  26.852  ...  71.4471  58.2204  42.9939]\n",
      " [ 25.2283  25.5533  29.9765 ... 113.0209 103.3639  84.2949]\n",
      " [ 26.2775  22.6137  40.4763 ... 113.3028 121.775  115.4228]\n",
      " ...\n",
      " [ 28.5502  36.212   45.0801 ...  24.1359  25.0927  26.0603]\n",
      " [ 38.4352  26.4733  23.2717 ...  28.1094  29.4683  30.0661]\n",
      " [ 50.2984  26.0773  24.0389 ...  49.6682  50.853   53.0377]]\n"
     ]
    }
   ],
   "source": [
    "print(\"Randomly selected an array from X_train - \\n\")\n",
    "print(X_train[0]) # prints the 32X32 array"
   ]
  },
  {
   "cell_type": "code",
   "execution_count": 9,
   "metadata": {
    "scrolled": true
   },
   "outputs": [
    {
     "data": {
      "image/png": "[encoded data removed]",
      "text/plain": [
       "<Figure size 432x288 with 1 Axes>"
      ]
     },
     "metadata": {
      "needs_background": "light"
     },
     "output_type": "display_data"
    }
   ],
   "source": [
    "plt.imshow(X_train[0]) #display the image in index position 0\n",
    "plt.show()"
   ]
  },
  {
   "cell_type": "code",
   "execution_count": 10,
   "metadata": {
    "scrolled": false
   },
   "outputs": [
    {
     "data": {
      "image/png": "[encoded data removed]",
      "text/plain": [
       "<Figure size 1152x288 with 10 Axes>"
      ]
     },
     "metadata": {
      "needs_background": "light"
     },
     "output_type": "display_data"
    },
    {
     "name": "stdout",
     "output_type": "stream",
     "text": [
      "label for each of the above image: [2 6 7 4 4 0 3 0 7 3]\n"
     ]
    }
   ],
   "source": [
    "# visualizing the first 10 images in the dataset and their labels\n",
    "\n",
    "plt.figure(figsize=(16, 4))\n",
    "for i in range(10):\n",
    "    plt.subplot(1, 10, i+1)\n",
    "    plt.imshow(X_train[i])\n",
    "    plt.axis('off')\n",
    "plt.show()\n",
    "print('label for each of the above image: %s' % (y_train[0:10]))"
   ]
  },
  {
   "cell_type": "markdown",
   "metadata": {},
   "source": [
    "**In the images, apart from target values, other values are also present. For example, the first image contains value 128 but the label has 2. For some images, unwanted information is present on both sides target value.**"
   ]
  },
  {
   "cell_type": "code",
   "execution_count": 11,
   "metadata": {},
   "outputs": [
    {
     "data": {
      "image/png": "[encoded data removed]",
      "text/plain": [
       "<Figure size 1152x288 with 10 Axes>"
      ]
     },
     "metadata": {
      "needs_background": "light"
     },
     "output_type": "display_data"
    },
    {
     "name": "stdout",
     "output_type": "stream",
     "text": [
      "label for each of the above image: [2 6 7 4 4 0 3 0 7 3]\n"
     ]
    }
   ],
   "source": [
    "# checking how the image looks with cropping  \n",
    "plt.figure(figsize=(16, 4))\n",
    "for i in range(10):\n",
    "    plt.subplot(1, 10, i+1)\n",
    "    plt.imshow(X_train[i][2:30,5:22]) # selects the rows from index 2 and until 30, and columns from index 5 and until 22.\n",
    "    plt.axis('off')\n",
    "plt.show()\n",
    "print('label for each of the above image: %s' % (y_train1[0:10]))"
   ]
  },
  {
   "cell_type": "markdown",
   "metadata": {},
   "source": [
    "### After crop, values on the both sides of target values are removed. Neural networks will be built for both Full image and Cropped Image data"
   ]
  },
  {
   "cell_type": "code",
   "execution_count": 15,
   "metadata": {},
   "outputs": [
    {
     "name": "stdout",
     "output_type": "stream",
     "text": [
      "Shape of X_train, X_val and X_test after cropping\n",
      "(42000, 28, 17)\n",
      "(60000, 28, 17)\n",
      "(18000, 28, 17)\n"
     ]
    }
   ],
   "source": [
    "#cropped images are stored in _temp variables\n",
    "X_train_temp = X_train[:,2:30,5:22]\n",
    "X_val_temp = X_val[:,2:30,5:22]\n",
    "X_test_temp = X_test[:,2:30,5:22]\n",
    "\n",
    "print(\"Shape of X_train, X_val and X_test after cropping\")\n",
    "print(X_train_temp.shape)\n",
    "print(X_val_temp.shape)\n",
    "print(X_test_temp.shape)"
   ]
  },
  {
   "cell_type": "markdown",
   "metadata": {},
   "source": [
    "**Original image has 32X32 pixels, cropped image has 28X17 pixels**"
   ]
  },
  {
   "cell_type": "code",
   "execution_count": 19,
   "metadata": {},
   "outputs": [],
   "source": [
    "# reshaping X data: (n, 32, 32) => (n, 1024). Full image data is reshaped.\n",
    "X_train_fi_re = X_train.reshape((X_train.shape[0], -1)) #.reshaped 32*32 array into single dimensional 1024 size array \n",
    "X_test_fi_re = X_test.reshape((X_test.shape[0], -1))\n",
    "X_val_fi_re = X_val.reshape((X_val.shape[0], -1))"
   ]
  },
  {
   "cell_type": "code",
   "execution_count": 25,
   "metadata": {},
   "outputs": [],
   "source": [
    "# reshaping X data: (n, 32, 32) => (n, 1024). Cropped image data is reshaped.\n",
    "X_train_ci_re = X_train_temp.reshape((X_train_temp.shape[0], -1)) #.reshaped 32*32 array into single dimensional 1024 size array \n",
    "X_test_ci_re = X_test_temp.reshape((X_test_temp.shape[0], -1))\n",
    "X_val_ci_re = X_val_temp.reshape((X_val_temp.shape[0], -1))"
   ]
  },
  {
   "cell_type": "code",
   "execution_count": 21,
   "metadata": {},
   "outputs": [],
   "source": [
    "# converting y data into categorical (one-hot encoding)\n",
    "y_train = to_categorical(y_train)\n",
    "y_val = to_categorical(y_val)\n",
    "y_test = to_categorical(y_test)"
   ]
  },
  {
   "cell_type": "code",
   "execution_count": 363,
   "metadata": {},
   "outputs": [
    {
     "name": "stdout",
     "output_type": "stream",
     "text": [
      "Before One hot encoding :  2\n",
      "After One hot encoding  :  [0. 0. 1. 0. 0. 0. 0. 0. 0. 0.]\n"
     ]
    }
   ],
   "source": [
    "print(\"Before One hot encoding : \", y_train1[0])\n",
    "print(\"After One hot encoding  : \", y_train[0])"
   ]
  },
  {
   "cell_type": "markdown",
   "metadata": {},
   "source": [
    "    After encoding, index position 2 is marked as 1, and remaining with 0's."
   ]
  },
  {
   "cell_type": "code",
   "execution_count": 23,
   "metadata": {},
   "outputs": [
    {
     "name": "stdout",
     "output_type": "stream",
     "text": [
      "Shape of X_train :  (42000, 1024)\n",
      "Shape of y_train :  (42000, 10)\n",
      "Shape of X_test :  (18000, 1024)\n",
      "Shape of y_test :  (18000, 10)\n",
      "Shape of X_val :  (60000, 1024)\n",
      "Shape of y_val :  (60000, 10)\n"
     ]
    }
   ],
   "source": [
    "print(\"Shape of X_train : \", X_train_fi_re.shape)\n",
    "print(\"Shape of y_train : \", y_train.shape)\n",
    "print(\"Shape of X_test : \", X_test_fi_re.shape)\n",
    "print(\"Shape of y_test : \", y_test.shape)\n",
    "print(\"Shape of X_val : \", X_val_fi_re.shape)\n",
    "print(\"Shape of y_val : \", y_val.shape)"
   ]
  },
  {
   "cell_type": "code",
   "execution_count": 26,
   "metadata": {},
   "outputs": [
    {
     "name": "stdout",
     "output_type": "stream",
     "text": [
      "Shape of X_train :  (42000, 476)\n",
      "Shape of y_train :  (42000, 10)\n",
      "Shape of X_test :  (18000, 476)\n",
      "Shape of y_test :  (18000, 10)\n",
      "Shape of X_val :  (60000, 476)\n",
      "Shape of y_val :  (60000, 10)\n"
     ]
    }
   ],
   "source": [
    "print(\"Shape of X_train : \", X_train_ci_re.shape)\n",
    "print(\"Shape of y_train : \", y_train.shape)\n",
    "print(\"Shape of X_test : \", X_test_ci_re.shape)\n",
    "print(\"Shape of y_test : \", y_test.shape)\n",
    "print(\"Shape of X_val : \", X_val_ci_re.shape)\n",
    "print(\"Shape of y_val : \", y_val.shape)"
   ]
  },
  {
   "cell_type": "markdown",
   "metadata": {},
   "source": [
    "**Before Reshape:**\n",
    "    * Each image in X_train is represented by 32X32 array. \n",
    "    * y_train had single column to represent label\n",
    "    \n",
    "**After Reshape:** \n",
    "    * In full image X_train, multi dimentional 32X32 array reshaped into single dimensional array of size 1024.\n",
    "    * In cropped image X_train, multi dimentional 28X17 array reshaped into single dimensional array of size 476.\n",
    "    * In y_train, instead of single column(label), 10 columns were created as part of one hot encoding."
   ]
  },
  {
   "cell_type": "code",
   "execution_count": 28,
   "metadata": {
    "scrolled": true
   },
   "outputs": [
    {
     "name": "stdout",
     "output_type": "stream",
     "text": [
      "Minimum value in X_train - \n",
      "0.0 0.0\n",
      "Maximum value in X_train - \n",
      "254.9745 254.9745\n"
     ]
    }
   ],
   "source": [
    "print(\"Minimum value in X_train - \")\n",
    "print(X_train_fi_re.min(), X_train_ci_re.min())\n",
    "print(\"Maximum value in X_train - \") \n",
    "print(X_train_fi_re.max(), X_train_ci_re.max())"
   ]
  },
  {
   "cell_type": "code",
   "execution_count": 29,
   "metadata": {},
   "outputs": [],
   "source": [
    "# Normalize the Train, Validation and Test sets. Get the values in the range of 0 to 1\n",
    "X_train_fi = X_train_fi_re / 255.0\n",
    "X_val_fi = X_val_fi_re / 255.0\n",
    "X_test_fi = X_test_fi_re / 255.0\n",
    "X_train_ci = X_train_ci_re / 255.0\n",
    "X_val_ci = X_val_ci_re / 255.0\n",
    "X_test_ci = X_test_ci_re / 255.0"
   ]
  },
  {
   "cell_type": "code",
   "execution_count": 30,
   "metadata": {},
   "outputs": [
    {
     "name": "stdout",
     "output_type": "stream",
     "text": [
      "Min and Max values after normalization -\n",
      "0.0 0.9999\n",
      "0.0 0.9999\n"
     ]
    }
   ],
   "source": [
    "print(\"Min and Max values after normalization -\")\n",
    "print(X_train_fi.min(), X_train_fi.max())\n",
    "print(X_train_ci.min(), X_train_ci.max())"
   ]
  },
  {
   "cell_type": "markdown",
   "metadata": {},
   "source": [
    "* X_train_fi, X_val_fi and X_test_fi denotes the data of FULL image.\n",
    "\n",
    "\n",
    "* X_train_ci, X_val_ci and X_test_ci denotes the data of CROPPED image."
   ]
  },
  {
   "cell_type": "markdown",
   "metadata": {},
   "source": [
    "### 1. Build neural networks with single hidden layer"
   ]
  },
  {
   "cell_type": "markdown",
   "metadata": {},
   "source": [
    "### NN for Full image"
   ]
  },
  {
   "cell_type": "code",
   "execution_count": 35,
   "metadata": {
    "scrolled": true
   },
   "outputs": [
    {
     "name": "stdout",
     "output_type": "stream",
     "text": [
      "Train on 42000 samples, validate on 60000 samples\n",
      "Epoch 1/50\n",
      "42000/42000 [==============================] - 7s 162us/sample - loss: 2.2851 - accuracy: 0.1581 - val_loss: 2.1244 - val_accuracy: 0.2910\n",
      "Epoch 2/50\n",
      "42000/42000 [==============================] - 6s 135us/sample - loss: 1.8958 - accuracy: 0.3919 - val_loss: 1.6555 - val_accuracy: 0.5112\n",
      "Epoch 3/50\n",
      "42000/42000 [==============================] - 6s 144us/sample - loss: 1.5154 - accuracy: 0.5415 - val_loss: 1.3945 - val_accuracy: 0.5741\n",
      "Epoch 4/50\n",
      "42000/42000 [==============================] - 6s 137us/sample - loss: 1.3132 - accuracy: 0.6103 - val_loss: 1.2287 - val_accuracy: 0.6358\n",
      "Epoch 5/50\n",
      "42000/42000 [==============================] - 6s 143us/sample - loss: 1.1889 - accuracy: 0.6461 - val_loss: 1.1356 - val_accuracy: 0.6655\n",
      "Epoch 6/50\n",
      "42000/42000 [==============================] - 6s 143us/sample - loss: 1.1176 - accuracy: 0.6667 - val_loss: 1.0667 - val_accuracy: 0.6873\n",
      "Epoch 7/50\n",
      "42000/42000 [==============================] - 6s 148us/sample - loss: 1.0650 - accuracy: 0.6835 - val_loss: 1.0355 - val_accuracy: 0.6944\n",
      "Epoch 8/50\n",
      "42000/42000 [==============================] - 6s 141us/sample - loss: 1.0202 - accuracy: 0.6957 - val_loss: 0.9930 - val_accuracy: 0.7052\n",
      "Epoch 9/50\n",
      "42000/42000 [==============================] - 6s 137us/sample - loss: 0.9780 - accuracy: 0.7092 - val_loss: 1.0098 - val_accuracy: 0.7002\n",
      "Epoch 10/50\n",
      "42000/42000 [==============================] - 6s 138us/sample - loss: 0.9419 - accuracy: 0.7201 - val_loss: 0.9305 - val_accuracy: 0.7262\n",
      "Epoch 11/50\n",
      "42000/42000 [==============================] - 6s 139us/sample - loss: 0.9108 - accuracy: 0.7280 - val_loss: 0.8984 - val_accuracy: 0.7297\n",
      "Epoch 12/50\n",
      "42000/42000 [==============================] - 6s 138us/sample - loss: 0.8750 - accuracy: 0.7385 - val_loss: 0.8560 - val_accuracy: 0.7447\n",
      "Epoch 13/50\n",
      "42000/42000 [==============================] - 6s 137us/sample - loss: 0.8571 - accuracy: 0.7444 - val_loss: 0.8545 - val_accuracy: 0.7441\n",
      "Epoch 14/50\n",
      "42000/42000 [==============================] - 6s 132us/sample - loss: 0.8368 - accuracy: 0.7518 - val_loss: 0.8187 - val_accuracy: 0.7593\n",
      "Epoch 15/50\n",
      "42000/42000 [==============================] - 6s 140us/sample - loss: 0.8125 - accuracy: 0.7578 - val_loss: 0.7941 - val_accuracy: 0.7653\n",
      "Epoch 16/50\n",
      "42000/42000 [==============================] - 6s 142us/sample - loss: 0.7952 - accuracy: 0.7609 - val_loss: 0.8275 - val_accuracy: 0.7486\n",
      "Epoch 17/50\n",
      "42000/42000 [==============================] - 6s 146us/sample - loss: 0.7774 - accuracy: 0.7684 - val_loss: 0.7801 - val_accuracy: 0.7689\n",
      "Epoch 18/50\n",
      "42000/42000 [==============================] - 6s 133us/sample - loss: 0.7584 - accuracy: 0.7732 - val_loss: 0.7560 - val_accuracy: 0.7783\n",
      "Epoch 19/50\n",
      "42000/42000 [==============================] - 6s 139us/sample - loss: 0.7418 - accuracy: 0.7786 - val_loss: 0.7531 - val_accuracy: 0.7785\n",
      "Epoch 20/50\n",
      "42000/42000 [==============================] - 6s 147us/sample - loss: 0.7229 - accuracy: 0.7862 - val_loss: 0.7423 - val_accuracy: 0.7803\n",
      "Epoch 21/50\n",
      "42000/42000 [==============================] - 6s 138us/sample - loss: 0.7205 - accuracy: 0.7861 - val_loss: 0.7480 - val_accuracy: 0.7781\n",
      "Epoch 22/50\n",
      "42000/42000 [==============================] - 6s 141us/sample - loss: 0.7023 - accuracy: 0.7924 - val_loss: 0.7420 - val_accuracy: 0.7785\n",
      "Epoch 23/50\n",
      "42000/42000 [==============================] - 6s 140us/sample - loss: 0.6958 - accuracy: 0.7932 - val_loss: 0.6874 - val_accuracy: 0.8005\n",
      "Epoch 24/50\n",
      "42000/42000 [==============================] - 6s 141us/sample - loss: 0.6839 - accuracy: 0.7983 - val_loss: 0.7073 - val_accuracy: 0.7901\n",
      "Epoch 25/50\n",
      "42000/42000 [==============================] - 6s 138us/sample - loss: 0.6750 - accuracy: 0.7993 - val_loss: 0.6733 - val_accuracy: 0.8029\n",
      "Epoch 26/50\n",
      "42000/42000 [==============================] - 6s 142us/sample - loss: 0.6563 - accuracy: 0.8063 - val_loss: 0.6913 - val_accuracy: 0.7948\n",
      "Epoch 27/50\n",
      "42000/42000 [==============================] - 6s 146us/sample - loss: 0.6645 - accuracy: 0.8034 - val_loss: 0.6787 - val_accuracy: 0.8011\n",
      "Epoch 28/50\n",
      "42000/42000 [==============================] - 6s 139us/sample - loss: 0.6564 - accuracy: 0.8048 - val_loss: 0.6739 - val_accuracy: 0.8041\n",
      "Epoch 29/50\n",
      "42000/42000 [==============================] - 6s 142us/sample - loss: 0.6434 - accuracy: 0.8100 - val_loss: 0.6384 - val_accuracy: 0.8150\n",
      "Epoch 30/50\n",
      "42000/42000 [==============================] - 6s 137us/sample - loss: 0.6372 - accuracy: 0.8103 - val_loss: 0.6612 - val_accuracy: 0.8045\n",
      "Epoch 31/50\n",
      "42000/42000 [==============================] - 6s 140us/sample - loss: 0.6288 - accuracy: 0.8129 - val_loss: 0.6676 - val_accuracy: 0.8028\n",
      "Epoch 32/50\n",
      "42000/42000 [==============================] - 6s 146us/sample - loss: 0.6209 - accuracy: 0.8164 - val_loss: 0.6398 - val_accuracy: 0.8133\n",
      "Epoch 33/50\n",
      "42000/42000 [==============================] - 6s 137us/sample - loss: 0.6130 - accuracy: 0.8176 - val_loss: 0.6326 - val_accuracy: 0.8132\n",
      "Epoch 34/50\n",
      "42000/42000 [==============================] - 6s 141us/sample - loss: 0.6081 - accuracy: 0.8203 - val_loss: 0.6432 - val_accuracy: 0.8129\n",
      "Epoch 35/50\n",
      "42000/42000 [==============================] - 6s 137us/sample - loss: 0.6075 - accuracy: 0.8203 - val_loss: 0.6300 - val_accuracy: 0.8161\n",
      "Epoch 36/50\n",
      "42000/42000 [==============================] - 6s 140us/sample - loss: 0.5998 - accuracy: 0.8213 - val_loss: 0.6398 - val_accuracy: 0.8097\n",
      "Epoch 37/50\n",
      "42000/42000 [==============================] - 6s 137us/sample - loss: 0.5949 - accuracy: 0.8239 - val_loss: 0.6142 - val_accuracy: 0.8195\n",
      "Epoch 38/50\n",
      "42000/42000 [==============================] - 6s 139us/sample - loss: 0.5921 - accuracy: 0.8247 - val_loss: 0.6160 - val_accuracy: 0.8216\n",
      "Epoch 39/50\n",
      "42000/42000 [==============================] - 6s 140us/sample - loss: 0.5874 - accuracy: 0.8255 - val_loss: 0.6039 - val_accuracy: 0.8243\n",
      "Epoch 40/50\n",
      "42000/42000 [==============================] - 6s 142us/sample - loss: 0.5730 - accuracy: 0.8311 - val_loss: 0.5881 - val_accuracy: 0.8287\n",
      "Epoch 41/50\n",
      "42000/42000 [==============================] - 6s 141us/sample - loss: 0.5729 - accuracy: 0.8293 - val_loss: 0.5978 - val_accuracy: 0.8276\n",
      "Epoch 42/50\n",
      "42000/42000 [==============================] - 6s 150us/sample - loss: 0.5795 - accuracy: 0.8274 - val_loss: 0.6307 - val_accuracy: 0.8097\n",
      "Epoch 43/50\n",
      "42000/42000 [==============================] - 6s 151us/sample - loss: 0.5672 - accuracy: 0.8322 - val_loss: 0.5902 - val_accuracy: 0.8272\n",
      "Epoch 44/50\n",
      "42000/42000 [==============================] - 6s 145us/sample - loss: 0.5612 - accuracy: 0.8352 - val_loss: 0.5792 - val_accuracy: 0.8313\n",
      "Epoch 45/50\n",
      "42000/42000 [==============================] - 6s 139us/sample - loss: 0.5491 - accuracy: 0.8376 - val_loss: 0.5794 - val_accuracy: 0.8319\n",
      "Epoch 46/50\n",
      "42000/42000 [==============================] - 6s 145us/sample - loss: 0.5562 - accuracy: 0.8343 - val_loss: 0.5624 - val_accuracy: 0.8380\n",
      "Epoch 47/50\n",
      "42000/42000 [==============================] - 6s 134us/sample - loss: 0.5528 - accuracy: 0.8357 - val_loss: 0.6113 - val_accuracy: 0.8191\n",
      "Epoch 48/50\n",
      "42000/42000 [==============================] - 6s 148us/sample - loss: 0.5523 - accuracy: 0.8360 - val_loss: 0.5782 - val_accuracy: 0.8324\n",
      "Epoch 49/50\n",
      "42000/42000 [==============================] - 6s 140us/sample - loss: 0.5449 - accuracy: 0.8391 - val_loss: 0.5550 - val_accuracy: 0.8419\n",
      "Epoch 50/50\n",
      "42000/42000 [==============================] - 6s 140us/sample - loss: 0.5412 - accuracy: 0.8392 - val_loss: 0.5634 - val_accuracy: 0.8351\n"
     ]
    },
    {
     "data": {
      "text/plain": [
       "<tensorflow.python.keras.callbacks.History at 0x20ce3fe93c8>"
      ]
     },
     "execution_count": 35,
     "metadata": {},
     "output_type": "execute_result"
    }
   ],
   "source": [
    "import tensorflow as tf\n",
    "tf.keras.backend.clear_session()\n",
    "\n",
    "mod1 = Sequential()\n",
    "mod1.add(Dense(777, input_shape = (1024,), activation='relu', name='Hidden_Layer_1')) #first hidden layer with 777 neurons, and activation function relu.\n",
    "mod1.add(Dense(10, activation='softmax', name='Output_Layer')) #output layer with 10 neurons since we have 10 different classes\n",
    "mod1.compile(optimizer='adam', loss='categorical_crossentropy', metrics=['accuracy']) # Adam optimizer is used\n",
    "mod1.fit(X_train_fi, y_train, batch_size = 200, validation_data=(X_val_fi,y_val), epochs = 50, verbose = 1) #50 epochs with batch size 200."
   ]
  },
  {
   "cell_type": "code",
   "execution_count": 36,
   "metadata": {
    "scrolled": true
   },
   "outputs": [
    {
     "name": "stdout",
     "output_type": "stream",
     "text": [
      "Model: \"sequential\"\n",
      "_________________________________________________________________\n",
      "Layer (type)                 Output Shape              Param #   \n",
      "=================================================================\n",
      "Layer_1 (Dense)              (None, 777)               796425    \n",
      "_________________________________________________________________\n",
      "Output (Dense)               (None, 10)                7780      \n",
      "=================================================================\n",
      "Total params: 804,205\n",
      "Trainable params: 804,205\n",
      "Non-trainable params: 0\n",
      "_________________________________________________________________\n"
     ]
    }
   ],
   "source": [
    "mod1.summary()"
   ]
  },
  {
   "cell_type": "code",
   "execution_count": 46,
   "metadata": {
    "scrolled": true
   },
   "outputs": [
    {
     "name": "stdout",
     "output_type": "stream",
     "text": [
      "18000/18000 [==============================] - 3s 152us/sample - loss: 0.6546 - accuracy: 0.8147\n"
     ]
    }
   ],
   "source": [
    "result = mod1.evaluate(X_test_fi, y_test)"
   ]
  },
  {
   "cell_type": "markdown",
   "metadata": {},
   "source": [
    "    * On full image data, Neural networks with single hidden layer gave an accuracy of 81%."
   ]
  },
  {
   "cell_type": "code",
   "execution_count": 51,
   "metadata": {},
   "outputs": [
    {
     "data": {
      "text/html": [
       "<div>\n",
       "<style scoped>\n",
       "    .dataframe tbody tr th:only-of-type {\n",
       "        vertical-align: middle;\n",
       "    }\n",
       "\n",
       "    .dataframe tbody tr th {\n",
       "        vertical-align: top;\n",
       "    }\n",
       "\n",
       "    .dataframe thead th {\n",
       "        text-align: right;\n",
       "    }\n",
       "</style>\n",
       "<table border=\"1\" class=\"dataframe\">\n",
       "  <thead>\n",
       "    <tr style=\"text-align: right;\">\n",
       "      <th></th>\n",
       "      <th>Models</th>\n",
       "      <th>Accuracy</th>\n",
       "    </tr>\n",
       "  </thead>\n",
       "  <tbody>\n",
       "    <tr>\n",
       "      <th>1</th>\n",
       "      <td>FI_1Lyr</td>\n",
       "      <td>0.814722</td>\n",
       "    </tr>\n",
       "  </tbody>\n",
       "</table>\n",
       "</div>"
      ],
      "text/plain": [
       "    Models  Accuracy\n",
       "1  FI_1Lyr  0.814722"
      ]
     },
     "execution_count": 51,
     "metadata": {},
     "output_type": "execute_result"
    }
   ],
   "source": [
    "#Store the Accuracy in a dataframe for final comparison\n",
    "final_df = pd.DataFrame({'Models':['FI_1Lyr'], 'Accuracy': result[1]},index={'1'})\n",
    "final_df = final_df[['Models', 'Accuracy']]\n",
    "final_df"
   ]
  },
  {
   "cell_type": "code",
   "execution_count": 40,
   "metadata": {
    "scrolled": true
   },
   "outputs": [
    {
     "name": "stdout",
     "output_type": "stream",
     "text": [
      "Train on 42000 samples, validate on 60000 samples\n",
      "Epoch 1/50\n",
      "42000/42000 [==============================] - 7s 158us/sample - loss: 78.6932 - accuracy: 0.1055 - val_loss: 6.0189 - val_accuracy: 0.1134\n",
      "Epoch 2/50\n",
      "42000/42000 [==============================] - 6s 139us/sample - loss: 6.2298 - accuracy: 0.1306 - val_loss: 4.6194 - val_accuracy: 0.1567\n",
      "Epoch 3/50\n",
      "42000/42000 [==============================] - 6s 143us/sample - loss: 3.7215 - accuracy: 0.1693 - val_loss: 2.7636 - val_accuracy: 0.1991\n",
      "Epoch 4/50\n",
      "42000/42000 [==============================] - 6s 146us/sample - loss: 2.7922 - accuracy: 0.2199 - val_loss: 2.7213 - val_accuracy: 0.2401\n",
      "Epoch 5/50\n",
      "42000/42000 [==============================] - 6s 142us/sample - loss: 2.3115 - accuracy: 0.2806 - val_loss: 2.0254 - val_accuracy: 0.3308\n",
      "Epoch 6/50\n",
      "42000/42000 [==============================] - 6s 141us/sample - loss: 1.9759 - accuracy: 0.3423 - val_loss: 1.8824 - val_accuracy: 0.3857\n",
      "Epoch 7/50\n",
      "42000/42000 [==============================] - 6s 140us/sample - loss: 1.7816 - accuracy: 0.4110 - val_loss: 1.6861 - val_accuracy: 0.4367\n",
      "Epoch 8/50\n",
      "42000/42000 [==============================] - 6s 141us/sample - loss: 1.6628 - accuracy: 0.4554 - val_loss: 1.5286 - val_accuracy: 0.5006\n",
      "Epoch 9/50\n",
      "42000/42000 [==============================] - 6s 153us/sample - loss: 1.5758 - accuracy: 0.4829 - val_loss: 1.5068 - val_accuracy: 0.5083\n",
      "Epoch 10/50\n",
      "42000/42000 [==============================] - 6s 146us/sample - loss: 1.4934 - accuracy: 0.5170 - val_loss: 1.4298 - val_accuracy: 0.5320\n",
      "Epoch 11/50\n",
      "42000/42000 [==============================] - 7s 155us/sample - loss: 1.4453 - accuracy: 0.5345 - val_loss: 1.4595 - val_accuracy: 0.5314\n",
      "Epoch 12/50\n",
      "42000/42000 [==============================] - 6s 147us/sample - loss: 1.3536 - accuracy: 0.5720 - val_loss: 1.3774 - val_accuracy: 0.5554\n",
      "Epoch 13/50\n",
      "42000/42000 [==============================] - 7s 155us/sample - loss: 1.3547 - accuracy: 0.5672 - val_loss: 1.3138 - val_accuracy: 0.5899\n",
      "Epoch 14/50\n",
      "42000/42000 [==============================] - 6s 144us/sample - loss: 1.3146 - accuracy: 0.5827 - val_loss: 1.3445 - val_accuracy: 0.5792\n",
      "Epoch 15/50\n",
      "42000/42000 [==============================] - 6s 141us/sample - loss: 1.2944 - accuracy: 0.5943 - val_loss: 1.2600 - val_accuracy: 0.6014\n",
      "Epoch 16/50\n",
      "42000/42000 [==============================] - 6s 134us/sample - loss: 1.2505 - accuracy: 0.6076 - val_loss: 1.3257 - val_accuracy: 0.5759\n",
      "Epoch 17/50\n",
      "42000/42000 [==============================] - 6s 142us/sample - loss: 1.2286 - accuracy: 0.6178 - val_loss: 1.1897 - val_accuracy: 0.6381\n",
      "Epoch 18/50\n",
      "42000/42000 [==============================] - 6s 144us/sample - loss: 1.2216 - accuracy: 0.6192 - val_loss: 1.1526 - val_accuracy: 0.6452\n",
      "Epoch 19/50\n",
      "42000/42000 [==============================] - 6s 147us/sample - loss: 1.1783 - accuracy: 0.6336 - val_loss: 1.2398 - val_accuracy: 0.6108\n",
      "Epoch 20/50\n",
      "42000/42000 [==============================] - 6s 149us/sample - loss: 1.1946 - accuracy: 0.6287 - val_loss: 1.1932 - val_accuracy: 0.6319\n",
      "Epoch 21/50\n",
      "42000/42000 [==============================] - 7s 155us/sample - loss: 1.1550 - accuracy: 0.6437 - val_loss: 1.1270 - val_accuracy: 0.6559\n",
      "Epoch 22/50\n",
      "42000/42000 [==============================] - 6s 146us/sample - loss: 1.1767 - accuracy: 0.6356 - val_loss: 1.1752 - val_accuracy: 0.6326\n",
      "Epoch 23/50\n",
      "42000/42000 [==============================] - 6s 141us/sample - loss: 1.1372 - accuracy: 0.6512 - val_loss: 1.1428 - val_accuracy: 0.6461\n",
      "Epoch 24/50\n",
      "42000/42000 [==============================] - 6s 141us/sample - loss: 1.1289 - accuracy: 0.6547 - val_loss: 1.1233 - val_accuracy: 0.6539\n",
      "Epoch 25/50\n",
      "42000/42000 [==============================] - 6s 137us/sample - loss: 1.1269 - accuracy: 0.6533 - val_loss: 1.1673 - val_accuracy: 0.6426\n",
      "Epoch 26/50\n",
      "42000/42000 [==============================] - 6s 140us/sample - loss: 1.1512 - accuracy: 0.6451 - val_loss: 1.1676 - val_accuracy: 0.6386\n",
      "Epoch 27/50\n",
      "42000/42000 [==============================] - 6s 149us/sample - loss: 1.1078 - accuracy: 0.6571 - val_loss: 1.1070 - val_accuracy: 0.6586\n",
      "Epoch 28/50\n",
      "42000/42000 [==============================] - 6s 145us/sample - loss: 1.1288 - accuracy: 0.6523 - val_loss: 1.1710 - val_accuracy: 0.6302\n",
      "Epoch 29/50\n",
      "42000/42000 [==============================] - 6s 135us/sample - loss: 1.1185 - accuracy: 0.6551 - val_loss: 1.0528 - val_accuracy: 0.6850\n",
      "Epoch 30/50\n",
      "42000/42000 [==============================] - 6s 141us/sample - loss: 1.1180 - accuracy: 0.6564 - val_loss: 1.0784 - val_accuracy: 0.6699\n",
      "Epoch 31/50\n",
      "42000/42000 [==============================] - 6s 136us/sample - loss: 1.0864 - accuracy: 0.6665 - val_loss: 1.0893 - val_accuracy: 0.6651\n",
      "Epoch 32/50\n",
      "42000/42000 [==============================] - 6s 136us/sample - loss: 1.0909 - accuracy: 0.6652 - val_loss: 1.1742 - val_accuracy: 0.6306\n",
      "Epoch 33/50\n",
      "42000/42000 [==============================] - 6s 144us/sample - loss: 1.1108 - accuracy: 0.6570 - val_loss: 1.0589 - val_accuracy: 0.6790\n",
      "Epoch 34/50\n",
      "42000/42000 [==============================] - 6s 142us/sample - loss: 1.0912 - accuracy: 0.6653 - val_loss: 1.1301 - val_accuracy: 0.6448\n",
      "Epoch 35/50\n",
      "42000/42000 [==============================] - 6s 136us/sample - loss: 1.0830 - accuracy: 0.6700 - val_loss: 1.0359 - val_accuracy: 0.6890\n",
      "Epoch 36/50\n",
      "42000/42000 [==============================] - 6s 138us/sample - loss: 1.0909 - accuracy: 0.6657 - val_loss: 1.0321 - val_accuracy: 0.6862\n",
      "Epoch 37/50\n",
      "42000/42000 [==============================] - 6s 137us/sample - loss: 1.1078 - accuracy: 0.6565 - val_loss: 1.1009 - val_accuracy: 0.6569\n",
      "Epoch 38/50\n",
      "42000/42000 [==============================] - 6s 137us/sample - loss: 1.0836 - accuracy: 0.6652 - val_loss: 1.1590 - val_accuracy: 0.6366\n",
      "Epoch 39/50\n",
      "42000/42000 [==============================] - 6s 140us/sample - loss: 1.1043 - accuracy: 0.6601 - val_loss: 1.1719 - val_accuracy: 0.6463\n",
      "Epoch 40/50\n",
      "42000/42000 [==============================] - 6s 142us/sample - loss: 1.0891 - accuracy: 0.6627 - val_loss: 1.1661 - val_accuracy: 0.6400\n",
      "Epoch 41/50\n",
      "42000/42000 [==============================] - 6s 142us/sample - loss: 1.0789 - accuracy: 0.6645 - val_loss: 1.1392 - val_accuracy: 0.6558\n",
      "Epoch 42/50\n",
      "42000/42000 [==============================] - 6s 155us/sample - loss: 1.0787 - accuracy: 0.6665 - val_loss: 1.1317 - val_accuracy: 0.6539\n",
      "Epoch 43/50\n",
      "42000/42000 [==============================] - 6s 142us/sample - loss: 1.0753 - accuracy: 0.6703 - val_loss: 1.0048 - val_accuracy: 0.6989\n",
      "Epoch 44/50\n",
      "42000/42000 [==============================] - 6s 147us/sample - loss: 1.0567 - accuracy: 0.6767 - val_loss: 1.0943 - val_accuracy: 0.6679\n",
      "Epoch 45/50\n",
      "42000/42000 [==============================] - 6s 147us/sample - loss: 1.0732 - accuracy: 0.6705 - val_loss: 1.0855 - val_accuracy: 0.6635\n",
      "Epoch 46/50\n",
      "42000/42000 [==============================] - 6s 148us/sample - loss: 1.0667 - accuracy: 0.6702 - val_loss: 1.1264 - val_accuracy: 0.6515\n",
      "Epoch 47/50\n",
      "42000/42000 [==============================] - 7s 155us/sample - loss: 1.0701 - accuracy: 0.6694 - val_loss: 1.0740 - val_accuracy: 0.6776\n",
      "Epoch 48/50\n",
      "42000/42000 [==============================] - 6s 154us/sample - loss: 1.0650 - accuracy: 0.6738 - val_loss: 1.1187 - val_accuracy: 0.6536\n",
      "Epoch 49/50\n",
      "42000/42000 [==============================] - 6s 143us/sample - loss: 1.0614 - accuracy: 0.6756 - val_loss: 1.0352 - val_accuracy: 0.6812\n",
      "Epoch 50/50\n",
      "42000/42000 [==============================] - 6s 144us/sample - loss: 1.0413 - accuracy: 0.6807 - val_loss: 1.0195 - val_accuracy: 0.6926\n"
     ]
    },
    {
     "data": {
      "text/plain": [
       "<tensorflow.python.keras.callbacks.History at 0x20d13680080>"
      ]
     },
     "execution_count": 40,
     "metadata": {},
     "output_type": "execute_result"
    }
   ],
   "source": [
    "#check the performance if we have a Flatten layer (input data with 32X32 pixels is passed as input)\n",
    "tf.keras.backend.clear_session()\n",
    "\n",
    "mod2 = Sequential()\n",
    "mod2.add(Flatten()) #Flatten layer is added to network architecture\n",
    "mod2.add(Dense(777, activation='relu', name='Hidden_Layer_1')) #First hidden layer with 777 neurons\n",
    "mod2.add(Dense(10, activation='softmax', name='Output_Layer')) #output layer with 10 neurons since we have 10 different classes\n",
    "mod2.compile(optimizer='adam', loss='categorical_crossentropy', metrics=['accuracy']) # Adam optimizer is used\n",
    "mod2.fit(X_train, y_train, batch_size = 200, validation_data=(X_val,y_val), epochs = 50, verbose = 1) #50 epochs with batch size 200."
   ]
  },
  {
   "cell_type": "code",
   "execution_count": 41,
   "metadata": {
    "scrolled": true
   },
   "outputs": [
    {
     "name": "stdout",
     "output_type": "stream",
     "text": [
      "Model: \"sequential\"\n",
      "_________________________________________________________________\n",
      "Layer (type)                 Output Shape              Param #   \n",
      "=================================================================\n",
      "flatten (Flatten)            multiple                  0         \n",
      "_________________________________________________________________\n",
      "Hidden_Layer_1 (Dense)       multiple                  796425    \n",
      "_________________________________________________________________\n",
      "Output_Layer (Dense)         multiple                  7780      \n",
      "=================================================================\n",
      "Total params: 804,205\n",
      "Trainable params: 804,205\n",
      "Non-trainable params: 0\n",
      "_________________________________________________________________\n"
     ]
    }
   ],
   "source": [
    "mod2.summary()"
   ]
  },
  {
   "cell_type": "code",
   "execution_count": 52,
   "metadata": {},
   "outputs": [
    {
     "name": "stdout",
     "output_type": "stream",
     "text": [
      "18000/18000 [==============================] - 3s 166us/sample - loss: 1.0687 - accuracy: 0.6816\n"
     ]
    }
   ],
   "source": [
    "result = mod2.evaluate(X_test, y_test)"
   ]
  },
  {
   "cell_type": "markdown",
   "metadata": {},
   "source": [
    "    * On full image data, Neural networks with Flatten and single hidden layer gave an accuracy of 68%. "
   ]
  },
  {
   "cell_type": "code",
   "execution_count": 59,
   "metadata": {},
   "outputs": [
    {
     "data": {
      "text/html": [
       "<div>\n",
       "<style scoped>\n",
       "    .dataframe tbody tr th:only-of-type {\n",
       "        vertical-align: middle;\n",
       "    }\n",
       "\n",
       "    .dataframe tbody tr th {\n",
       "        vertical-align: top;\n",
       "    }\n",
       "\n",
       "    .dataframe thead th {\n",
       "        text-align: right;\n",
       "    }\n",
       "</style>\n",
       "<table border=\"1\" class=\"dataframe\">\n",
       "  <thead>\n",
       "    <tr style=\"text-align: right;\">\n",
       "      <th></th>\n",
       "      <th>Models</th>\n",
       "      <th>Accuracy</th>\n",
       "    </tr>\n",
       "  </thead>\n",
       "  <tbody>\n",
       "    <tr>\n",
       "      <th>1</th>\n",
       "      <td>FI_1Lyr</td>\n",
       "      <td>0.814722</td>\n",
       "    </tr>\n",
       "    <tr>\n",
       "      <th>2</th>\n",
       "      <td>FI_1Lyr_Flatten</td>\n",
       "      <td>0.681556</td>\n",
       "    </tr>\n",
       "  </tbody>\n",
       "</table>\n",
       "</div>"
      ],
      "text/plain": [
       "            Models  Accuracy\n",
       "1          FI_1Lyr  0.814722\n",
       "2  FI_1Lyr_Flatten  0.681556"
      ]
     },
     "execution_count": 59,
     "metadata": {},
     "output_type": "execute_result"
    }
   ],
   "source": [
    "temp_df = pd.DataFrame({'Models':['FI_1Lyr_Flatten'], 'Accuracy': [result[1]]},index={'2'})\n",
    "final_df= pd.concat([final_df, temp_df])\n",
    "final_df = final_df[['Models', 'Accuracy']]\n",
    "final_df"
   ]
  },
  {
   "cell_type": "markdown",
   "metadata": {},
   "source": [
    "### NN for CROPPED image"
   ]
  },
  {
   "cell_type": "code",
   "execution_count": 70,
   "metadata": {
    "scrolled": true
   },
   "outputs": [
    {
     "name": "stdout",
     "output_type": "stream",
     "text": [
      "Train on 42000 samples, validate on 60000 samples\n",
      "Epoch 1/50\n",
      "42000/42000 [==============================] - 2s 45us/sample - loss: 2.1330 - accuracy: 0.2748 - val_loss: 1.8263 - val_accuracy: 0.4192\n",
      "Epoch 2/50\n",
      "42000/42000 [==============================] - 2s 38us/sample - loss: 1.5956 - accuracy: 0.5419 - val_loss: 1.4100 - val_accuracy: 0.6065\n",
      "Epoch 3/50\n",
      "42000/42000 [==============================] - 2s 39us/sample - loss: 1.2972 - accuracy: 0.6293 - val_loss: 1.1981 - val_accuracy: 0.6598\n",
      "Epoch 4/50\n",
      "42000/42000 [==============================] - 2s 39us/sample - loss: 1.1443 - accuracy: 0.6694 - val_loss: 1.0833 - val_accuracy: 0.6867\n",
      "Epoch 5/50\n",
      "42000/42000 [==============================] - 2s 39us/sample - loss: 1.0510 - accuracy: 0.6962 - val_loss: 1.0243 - val_accuracy: 0.7017\n",
      "Epoch 6/50\n",
      "42000/42000 [==============================] - 2s 39us/sample - loss: 0.9859 - accuracy: 0.7131 - val_loss: 0.9610 - val_accuracy: 0.7220\n",
      "Epoch 7/50\n",
      "42000/42000 [==============================] - 2s 41us/sample - loss: 0.9311 - accuracy: 0.7286 - val_loss: 0.8943 - val_accuracy: 0.7456\n",
      "Epoch 8/50\n",
      "42000/42000 [==============================] - 2s 39us/sample - loss: 0.8871 - accuracy: 0.7426 - val_loss: 0.8735 - val_accuracy: 0.7486\n",
      "Epoch 9/50\n",
      "42000/42000 [==============================] - 2s 39us/sample - loss: 0.8510 - accuracy: 0.7544 - val_loss: 0.8239 - val_accuracy: 0.7647\n",
      "Epoch 10/50\n",
      "42000/42000 [==============================] - 2s 39us/sample - loss: 0.8274 - accuracy: 0.7600 - val_loss: 0.8166 - val_accuracy: 0.7659\n",
      "Epoch 11/50\n",
      "42000/42000 [==============================] - 2s 39us/sample - loss: 0.7945 - accuracy: 0.7713 - val_loss: 0.8104 - val_accuracy: 0.7605\n",
      "Epoch 12/50\n",
      "42000/42000 [==============================] - 2s 39us/sample - loss: 0.7765 - accuracy: 0.7755 - val_loss: 0.7628 - val_accuracy: 0.7798\n",
      "Epoch 13/50\n",
      "42000/42000 [==============================] - 2s 39us/sample - loss: 0.7516 - accuracy: 0.7831 - val_loss: 0.7702 - val_accuracy: 0.7746\n",
      "Epoch 14/50\n",
      "42000/42000 [==============================] - 2s 39us/sample - loss: 0.7311 - accuracy: 0.7908 - val_loss: 0.7197 - val_accuracy: 0.7945\n",
      "Epoch 15/50\n",
      "42000/42000 [==============================] - 2s 39us/sample - loss: 0.7194 - accuracy: 0.7935 - val_loss: 0.7299 - val_accuracy: 0.7918\n",
      "Epoch 16/50\n",
      "42000/42000 [==============================] - 2s 39us/sample - loss: 0.7013 - accuracy: 0.7967 - val_loss: 0.7115 - val_accuracy: 0.7953\n",
      "Epoch 17/50\n",
      "42000/42000 [==============================] - 2s 39us/sample - loss: 0.6951 - accuracy: 0.7984 - val_loss: 0.6801 - val_accuracy: 0.8073\n",
      "Epoch 18/50\n",
      "42000/42000 [==============================] - 2s 39us/sample - loss: 0.6745 - accuracy: 0.8074 - val_loss: 0.6717 - val_accuracy: 0.8086\n",
      "Epoch 19/50\n",
      "42000/42000 [==============================] - 2s 38us/sample - loss: 0.6625 - accuracy: 0.8100 - val_loss: 0.6724 - val_accuracy: 0.8085\n",
      "Epoch 20/50\n",
      "42000/42000 [==============================] - 2s 39us/sample - loss: 0.6492 - accuracy: 0.8151 - val_loss: 0.6536 - val_accuracy: 0.8151\n",
      "Epoch 21/50\n",
      "42000/42000 [==============================] - 2s 39us/sample - loss: 0.6413 - accuracy: 0.8155 - val_loss: 0.6447 - val_accuracy: 0.8163\n",
      "Epoch 22/50\n",
      "42000/42000 [==============================] - 2s 38us/sample - loss: 0.6332 - accuracy: 0.8165 - val_loss: 0.6409 - val_accuracy: 0.8171\n",
      "Epoch 23/50\n",
      "42000/42000 [==============================] - 2s 38us/sample - loss: 0.6306 - accuracy: 0.8185 - val_loss: 0.6233 - val_accuracy: 0.8242\n",
      "Epoch 24/50\n",
      "42000/42000 [==============================] - 2s 38us/sample - loss: 0.6145 - accuracy: 0.8232 - val_loss: 0.6407 - val_accuracy: 0.8154\n",
      "Epoch 25/50\n",
      "42000/42000 [==============================] - 2s 38us/sample - loss: 0.6078 - accuracy: 0.8258 - val_loss: 0.6222 - val_accuracy: 0.8218\n",
      "Epoch 26/50\n",
      "42000/42000 [==============================] - 2s 38us/sample - loss: 0.6026 - accuracy: 0.8265 - val_loss: 0.6062 - val_accuracy: 0.8266\n",
      "Epoch 27/50\n",
      "42000/42000 [==============================] - 2s 38us/sample - loss: 0.5951 - accuracy: 0.8292 - val_loss: 0.5976 - val_accuracy: 0.8330\n",
      "Epoch 28/50\n",
      "42000/42000 [==============================] - 2s 38us/sample - loss: 0.5947 - accuracy: 0.8286 - val_loss: 0.6012 - val_accuracy: 0.8280\n",
      "Epoch 29/50\n",
      "42000/42000 [==============================] - 2s 38us/sample - loss: 0.5815 - accuracy: 0.8340 - val_loss: 0.5882 - val_accuracy: 0.8349\n",
      "Epoch 30/50\n",
      "42000/42000 [==============================] - 2s 38us/sample - loss: 0.5797 - accuracy: 0.8328 - val_loss: 0.5854 - val_accuracy: 0.8343\n",
      "Epoch 31/50\n",
      "42000/42000 [==============================] - 2s 38us/sample - loss: 0.5721 - accuracy: 0.8356 - val_loss: 0.5832 - val_accuracy: 0.8346\n",
      "Epoch 32/50\n",
      "42000/42000 [==============================] - 2s 38us/sample - loss: 0.5689 - accuracy: 0.8367 - val_loss: 0.5842 - val_accuracy: 0.8322\n",
      "Epoch 33/50\n",
      "42000/42000 [==============================] - 2s 39us/sample - loss: 0.5618 - accuracy: 0.8378 - val_loss: 0.5802 - val_accuracy: 0.8336\n",
      "Epoch 34/50\n",
      "42000/42000 [==============================] - 2s 41us/sample - loss: 0.5578 - accuracy: 0.8408 - val_loss: 0.5686 - val_accuracy: 0.8377\n",
      "Epoch 35/50\n",
      "42000/42000 [==============================] - 2s 39us/sample - loss: 0.5474 - accuracy: 0.8430 - val_loss: 0.5669 - val_accuracy: 0.8386\n",
      "Epoch 36/50\n",
      "42000/42000 [==============================] - 2s 39us/sample - loss: 0.5451 - accuracy: 0.8429 - val_loss: 0.5533 - val_accuracy: 0.8452\n",
      "Epoch 37/50\n",
      "42000/42000 [==============================] - 2s 39us/sample - loss: 0.5399 - accuracy: 0.8442 - val_loss: 0.5654 - val_accuracy: 0.8410\n",
      "Epoch 38/50\n",
      "42000/42000 [==============================] - 2s 40us/sample - loss: 0.5427 - accuracy: 0.8447 - val_loss: 0.5570 - val_accuracy: 0.8425\n",
      "Epoch 39/50\n",
      "42000/42000 [==============================] - 2s 42us/sample - loss: 0.5297 - accuracy: 0.8480 - val_loss: 0.5388 - val_accuracy: 0.8470\n",
      "Epoch 40/50\n",
      "42000/42000 [==============================] - 2s 51us/sample - loss: 0.5305 - accuracy: 0.8474 - val_loss: 0.5607 - val_accuracy: 0.8391\n",
      "Epoch 41/50\n",
      "42000/42000 [==============================] - 2s 46us/sample - loss: 0.5316 - accuracy: 0.8464 - val_loss: 0.5564 - val_accuracy: 0.8419\n",
      "Epoch 42/50\n",
      "42000/42000 [==============================] - 2s 39us/sample - loss: 0.5207 - accuracy: 0.8496 - val_loss: 0.5205 - val_accuracy: 0.8558\n",
      "Epoch 43/50\n",
      "42000/42000 [==============================] - 2s 41us/sample - loss: 0.5173 - accuracy: 0.8519 - val_loss: 0.5234 - val_accuracy: 0.8533\n",
      "Epoch 44/50\n",
      "42000/42000 [==============================] - 2s 44us/sample - loss: 0.5173 - accuracy: 0.8496 - val_loss: 0.5240 - val_accuracy: 0.8517\n",
      "Epoch 45/50\n",
      "42000/42000 [==============================] - 2s 43us/sample - loss: 0.5170 - accuracy: 0.8500 - val_loss: 0.5391 - val_accuracy: 0.8475\n",
      "Epoch 46/50\n",
      "42000/42000 [==============================] - 2s 42us/sample - loss: 0.5105 - accuracy: 0.8515 - val_loss: 0.5231 - val_accuracy: 0.8539\n",
      "Epoch 47/50\n",
      "42000/42000 [==============================] - 2s 41us/sample - loss: 0.5119 - accuracy: 0.8514 - val_loss: 0.5185 - val_accuracy: 0.8531\n",
      "Epoch 48/50\n",
      "42000/42000 [==============================] - 2s 46us/sample - loss: 0.4993 - accuracy: 0.8573 - val_loss: 0.5209 - val_accuracy: 0.8533\n",
      "Epoch 49/50\n",
      "42000/42000 [==============================] - 2s 44us/sample - loss: 0.5006 - accuracy: 0.8554 - val_loss: 0.5085 - val_accuracy: 0.8567\n",
      "Epoch 50/50\n",
      "42000/42000 [==============================] - 2s 41us/sample - loss: 0.4946 - accuracy: 0.8561 - val_loss: 0.5101 - val_accuracy: 0.8543\n"
     ]
    },
    {
     "data": {
      "text/plain": [
       "<tensorflow.python.keras.callbacks.History at 0x20d1a9198d0>"
      ]
     },
     "execution_count": 70,
     "metadata": {},
     "output_type": "execute_result"
    }
   ],
   "source": [
    "import tensorflow as tf\n",
    "tf.keras.backend.clear_session()\n",
    "\n",
    "mod1 = Sequential()\n",
    "mod1.add(Dense(340, input_shape = (476,), activation='relu', name='Hidden_Layer_1')) #first hidden layer with 340 neurons, and activation function relu.\n",
    "mod1.add(Dense(10, activation='softmax', name='Output_Layer')) #output layer with 10 neurons since we have 10 different classes\n",
    "mod1.compile(optimizer='adam', loss='categorical_crossentropy', metrics=['accuracy']) # Adam optimizer is used\n",
    "mod1.fit(X_train_ci, y_train, batch_size = 200, validation_data=(X_val_ci,y_val), epochs = 50, verbose = 1) #50 epochs with batch size 200."
   ]
  },
  {
   "cell_type": "code",
   "execution_count": 72,
   "metadata": {},
   "outputs": [
    {
     "name": "stdout",
     "output_type": "stream",
     "text": [
      "Model: \"sequential\"\n",
      "_________________________________________________________________\n",
      "Layer (type)                 Output Shape              Param #   \n",
      "=================================================================\n",
      "Hidden_Layer_1 (Dense)       (None, 340)               162180    \n",
      "_________________________________________________________________\n",
      "Output_Layer (Dense)         (None, 10)                3410      \n",
      "=================================================================\n",
      "Total params: 165,590\n",
      "Trainable params: 165,590\n",
      "Non-trainable params: 0\n",
      "_________________________________________________________________\n"
     ]
    }
   ],
   "source": [
    "mod1.summary()"
   ]
  },
  {
   "cell_type": "code",
   "execution_count": 74,
   "metadata": {
    "scrolled": true
   },
   "outputs": [
    {
     "name": "stdout",
     "output_type": "stream",
     "text": [
      "18000/18000 [==============================] - 1s 42us/sample - loss: 0.5877 - accuracy: 0.8381\n"
     ]
    }
   ],
   "source": [
    "res1 = mod1.evaluate(X_test_ci, y_test)"
   ]
  },
  {
   "cell_type": "code",
   "execution_count": 75,
   "metadata": {
    "scrolled": true
   },
   "outputs": [
    {
     "data": {
      "text/html": [
       "<div>\n",
       "<style scoped>\n",
       "    .dataframe tbody tr th:only-of-type {\n",
       "        vertical-align: middle;\n",
       "    }\n",
       "\n",
       "    .dataframe tbody tr th {\n",
       "        vertical-align: top;\n",
       "    }\n",
       "\n",
       "    .dataframe thead th {\n",
       "        text-align: right;\n",
       "    }\n",
       "</style>\n",
       "<table border=\"1\" class=\"dataframe\">\n",
       "  <thead>\n",
       "    <tr style=\"text-align: right;\">\n",
       "      <th></th>\n",
       "      <th>Models</th>\n",
       "      <th>Accuracy</th>\n",
       "    </tr>\n",
       "  </thead>\n",
       "  <tbody>\n",
       "    <tr>\n",
       "      <th>1</th>\n",
       "      <td>FI_1Lyr</td>\n",
       "      <td>0.814722</td>\n",
       "    </tr>\n",
       "    <tr>\n",
       "      <th>2</th>\n",
       "      <td>FI_1Lyr_Flatten</td>\n",
       "      <td>0.681556</td>\n",
       "    </tr>\n",
       "    <tr>\n",
       "      <th>3</th>\n",
       "      <td>CI_1Lyr</td>\n",
       "      <td>0.838056</td>\n",
       "    </tr>\n",
       "  </tbody>\n",
       "</table>\n",
       "</div>"
      ],
      "text/plain": [
       "            Models  Accuracy\n",
       "1          FI_1Lyr  0.814722\n",
       "2  FI_1Lyr_Flatten  0.681556\n",
       "3          CI_1Lyr  0.838056"
      ]
     },
     "execution_count": 75,
     "metadata": {},
     "output_type": "execute_result"
    }
   ],
   "source": [
    "temp_df = pd.DataFrame({'Models':['CI_1Lyr'], 'Accuracy': [res1[1]]},index={'3'})\n",
    "final_df= pd.concat([final_df, temp_df])\n",
    "final_df = final_df[['Models', 'Accuracy']]\n",
    "final_df"
   ]
  },
  {
   "cell_type": "markdown",
   "metadata": {},
   "source": [
    "**With single layer, NN on cropped image gives better accuracy than NN on full image.**"
   ]
  },
  {
   "cell_type": "markdown",
   "metadata": {},
   "source": [
    "### 2. Build neural networks with Two hidden layers"
   ]
  },
  {
   "cell_type": "markdown",
   "metadata": {},
   "source": [
    "### Two hidden layer NN for Full image"
   ]
  },
  {
   "cell_type": "code",
   "execution_count": 76,
   "metadata": {
    "scrolled": true
   },
   "outputs": [
    {
     "name": "stdout",
     "output_type": "stream",
     "text": [
      "Train on 42000 samples, validate on 60000 samples\n",
      "Epoch 1/50\n",
      "42000/42000 [==============================] - 6s 154us/sample - loss: 2.2533 - accuracy: 0.1571 - val_loss: 1.9467 - val_accuracy: 0.3156\n",
      "Epoch 2/50\n",
      "42000/42000 [==============================] - 6s 134us/sample - loss: 1.5980 - accuracy: 0.4638 - val_loss: 1.3238 - val_accuracy: 0.5856\n",
      "Epoch 3/50\n",
      "42000/42000 [==============================] - 6s 140us/sample - loss: 1.2421 - accuracy: 0.6125 - val_loss: 1.1513 - val_accuracy: 0.6431\n",
      "Epoch 4/50\n",
      "42000/42000 [==============================] - 6s 139us/sample - loss: 1.0987 - accuracy: 0.6604 - val_loss: 1.0436 - val_accuracy: 0.6757\n",
      "Epoch 5/50\n",
      "42000/42000 [==============================] - 6s 145us/sample - loss: 1.0180 - accuracy: 0.6859 - val_loss: 0.9550 - val_accuracy: 0.7077\n",
      "Epoch 6/50\n",
      "42000/42000 [==============================] - 6s 136us/sample - loss: 0.9367 - accuracy: 0.7133 - val_loss: 0.9007 - val_accuracy: 0.7265\n",
      "Epoch 7/50\n",
      "42000/42000 [==============================] - 6s 147us/sample - loss: 0.8844 - accuracy: 0.7305 - val_loss: 0.8736 - val_accuracy: 0.7356\n",
      "Epoch 8/50\n",
      "42000/42000 [==============================] - 6s 145us/sample - loss: 0.8651 - accuracy: 0.7324 - val_loss: 0.8461 - val_accuracy: 0.7413\n",
      "Epoch 9/50\n",
      "42000/42000 [==============================] - 6s 136us/sample - loss: 0.8195 - accuracy: 0.7483 - val_loss: 0.8219 - val_accuracy: 0.7503\n",
      "Epoch 10/50\n",
      "42000/42000 [==============================] - 6s 139us/sample - loss: 0.7835 - accuracy: 0.7608 - val_loss: 0.7504 - val_accuracy: 0.7733\n",
      "Epoch 11/50\n",
      "42000/42000 [==============================] - 6s 137us/sample - loss: 0.7595 - accuracy: 0.7686 - val_loss: 0.7791 - val_accuracy: 0.7602\n",
      "Epoch 12/50\n",
      "42000/42000 [==============================] - 6s 136us/sample - loss: 0.7366 - accuracy: 0.7755 - val_loss: 0.7204 - val_accuracy: 0.7813\n",
      "Epoch 13/50\n",
      "42000/42000 [==============================] - 6s 138us/sample - loss: 0.7127 - accuracy: 0.7824 - val_loss: 0.6989 - val_accuracy: 0.7911\n",
      "Epoch 14/50\n",
      "42000/42000 [==============================] - 6s 141us/sample - loss: 0.6895 - accuracy: 0.7918 - val_loss: 0.6983 - val_accuracy: 0.7878\n",
      "Epoch 15/50\n",
      "42000/42000 [==============================] - 6s 145us/sample - loss: 0.6747 - accuracy: 0.7942 - val_loss: 0.6610 - val_accuracy: 0.8030\n",
      "Epoch 16/50\n",
      "42000/42000 [==============================] - 6s 142us/sample - loss: 0.6588 - accuracy: 0.7992 - val_loss: 0.6808 - val_accuracy: 0.7922\n",
      "Epoch 17/50\n",
      "42000/42000 [==============================] - 6s 136us/sample - loss: 0.6516 - accuracy: 0.8019 - val_loss: 0.6791 - val_accuracy: 0.7984\n",
      "Epoch 18/50\n",
      "42000/42000 [==============================] - 6s 135us/sample - loss: 0.6416 - accuracy: 0.8064 - val_loss: 0.6455 - val_accuracy: 0.8065\n",
      "Epoch 19/50\n",
      "42000/42000 [==============================] - 6s 140us/sample - loss: 0.6137 - accuracy: 0.8140 - val_loss: 0.6255 - val_accuracy: 0.8124\n",
      "Epoch 20/50\n",
      "42000/42000 [==============================] - 6s 137us/sample - loss: 0.5984 - accuracy: 0.8192 - val_loss: 0.6394 - val_accuracy: 0.8077\n",
      "Epoch 21/50\n",
      "42000/42000 [==============================] - 6s 144us/sample - loss: 0.5871 - accuracy: 0.8213 - val_loss: 0.6178 - val_accuracy: 0.8144\n",
      "Epoch 22/50\n",
      "42000/42000 [==============================] - 6s 147us/sample - loss: 0.5850 - accuracy: 0.8223 - val_loss: 0.5981 - val_accuracy: 0.8245\n",
      "Epoch 23/50\n",
      "42000/42000 [==============================] - 6s 142us/sample - loss: 0.5605 - accuracy: 0.8306 - val_loss: 0.5672 - val_accuracy: 0.8317\n",
      "Epoch 24/50\n",
      "42000/42000 [==============================] - 6s 140us/sample - loss: 0.5561 - accuracy: 0.8303 - val_loss: 0.5779 - val_accuracy: 0.8288\n",
      "Epoch 25/50\n",
      "42000/42000 [==============================] - 6s 138us/sample - loss: 0.5514 - accuracy: 0.8300 - val_loss: 0.6020 - val_accuracy: 0.8188\n",
      "Epoch 26/50\n",
      "42000/42000 [==============================] - 6s 141us/sample - loss: 0.5403 - accuracy: 0.8364 - val_loss: 0.5371 - val_accuracy: 0.8409\n",
      "Epoch 27/50\n",
      "42000/42000 [==============================] - 6s 140us/sample - loss: 0.5366 - accuracy: 0.8376 - val_loss: 0.5549 - val_accuracy: 0.8334\n",
      "Epoch 28/50\n",
      "42000/42000 [==============================] - 6s 147us/sample - loss: 0.5102 - accuracy: 0.8445 - val_loss: 0.5199 - val_accuracy: 0.8455\n",
      "Epoch 29/50\n",
      "42000/42000 [==============================] - 6s 139us/sample - loss: 0.5162 - accuracy: 0.8434 - val_loss: 0.5466 - val_accuracy: 0.8364\n",
      "Epoch 30/50\n",
      "42000/42000 [==============================] - 6s 147us/sample - loss: 0.5008 - accuracy: 0.8469 - val_loss: 0.5400 - val_accuracy: 0.8372\n",
      "Epoch 31/50\n",
      "42000/42000 [==============================] - 6s 146us/sample - loss: 0.4984 - accuracy: 0.8477 - val_loss: 0.5425 - val_accuracy: 0.8367\n",
      "Epoch 32/50\n",
      "42000/42000 [==============================] - 6s 148us/sample - loss: 0.4881 - accuracy: 0.8505 - val_loss: 0.5161 - val_accuracy: 0.8482\n",
      "Epoch 33/50\n",
      "42000/42000 [==============================] - 6s 152us/sample - loss: 0.4859 - accuracy: 0.8511 - val_loss: 0.5043 - val_accuracy: 0.8496\n",
      "Epoch 34/50\n",
      "42000/42000 [==============================] - 6s 152us/sample - loss: 0.4714 - accuracy: 0.8557 - val_loss: 0.5057 - val_accuracy: 0.8505\n",
      "Epoch 35/50\n",
      "42000/42000 [==============================] - 7s 163us/sample - loss: 0.4754 - accuracy: 0.8536 - val_loss: 0.4845 - val_accuracy: 0.8581\n",
      "Epoch 36/50\n",
      "42000/42000 [==============================] - 7s 171us/sample - loss: 0.4639 - accuracy: 0.8575 - val_loss: 0.4996 - val_accuracy: 0.8513\n",
      "Epoch 37/50\n",
      "42000/42000 [==============================] - 6s 145us/sample - loss: 0.4535 - accuracy: 0.8632 - val_loss: 0.4918 - val_accuracy: 0.8543\n",
      "Epoch 38/50\n",
      "42000/42000 [==============================] - 6s 146us/sample - loss: 0.4481 - accuracy: 0.8633 - val_loss: 0.5118 - val_accuracy: 0.8449\n",
      "Epoch 39/50\n",
      "42000/42000 [==============================] - 6s 150us/sample - loss: 0.4423 - accuracy: 0.8656 - val_loss: 0.4936 - val_accuracy: 0.8530\n",
      "Epoch 40/50\n",
      "42000/42000 [==============================] - 6s 150us/sample - loss: 0.4394 - accuracy: 0.8643 - val_loss: 0.4778 - val_accuracy: 0.8581\n",
      "Epoch 41/50\n",
      "42000/42000 [==============================] - 6s 152us/sample - loss: 0.4404 - accuracy: 0.8642 - val_loss: 0.4981 - val_accuracy: 0.8517\n",
      "Epoch 42/50\n",
      "42000/42000 [==============================] - 6s 153us/sample - loss: 0.4370 - accuracy: 0.8668 - val_loss: 0.4526 - val_accuracy: 0.8679\n",
      "Epoch 43/50\n",
      "42000/42000 [==============================] - 6s 153us/sample - loss: 0.4277 - accuracy: 0.8685 - val_loss: 0.4543 - val_accuracy: 0.8680\n",
      "Epoch 44/50\n",
      "42000/42000 [==============================] - 7s 156us/sample - loss: 0.4192 - accuracy: 0.8727 - val_loss: 0.4682 - val_accuracy: 0.8612\n",
      "Epoch 45/50\n",
      "42000/42000 [==============================] - 6s 137us/sample - loss: 0.4096 - accuracy: 0.8729 - val_loss: 0.4388 - val_accuracy: 0.8715\n",
      "Epoch 46/50\n",
      "42000/42000 [==============================] - 6s 136us/sample - loss: 0.3989 - accuracy: 0.8775 - val_loss: 0.5085 - val_accuracy: 0.8472\n",
      "Epoch 47/50\n",
      "42000/42000 [==============================] - 6s 135us/sample - loss: 0.4024 - accuracy: 0.8767 - val_loss: 0.4627 - val_accuracy: 0.8618\n",
      "Epoch 48/50\n",
      "42000/42000 [==============================] - 6s 134us/sample - loss: 0.3960 - accuracy: 0.8775 - val_loss: 0.4551 - val_accuracy: 0.8653\n",
      "Epoch 49/50\n",
      "42000/42000 [==============================] - 6s 145us/sample - loss: 0.3990 - accuracy: 0.8761 - val_loss: 0.4331 - val_accuracy: 0.8723\n",
      "Epoch 50/50\n",
      "42000/42000 [==============================] - 6s 152us/sample - loss: 0.3841 - accuracy: 0.8816 - val_loss: 0.4785 - val_accuracy: 0.8583\n"
     ]
    },
    {
     "data": {
      "text/plain": [
       "<tensorflow.python.keras.callbacks.History at 0x20d1aac3908>"
      ]
     },
     "execution_count": 76,
     "metadata": {},
     "output_type": "execute_result"
    }
   ],
   "source": [
    "import tensorflow as tf\n",
    "tf.keras.backend.clear_session()\n",
    "\n",
    "mod1 = Sequential()\n",
    "mod1.add(Dense(777, input_shape = (1024,), activation='relu', name='Hidden_Layer_1')) #first hidden layer with 777 neurons, and activation function relu.\n",
    "mod1.add(Dense(340, activation='relu', name='Hidden_Layer_2')) #second hidden layer with 340 neurons, and activation function relu.\n",
    "mod1.add(Dense(10, activation='softmax', name='Output_Layer')) #output layer with 10 neurons since we have 10 different classes\n",
    "mod1.compile(optimizer='adam', loss='categorical_crossentropy', metrics=['accuracy']) # Adam optimizer is used\n",
    "mod1.fit(X_train_fi, y_train, batch_size = 200, validation_data=(X_val_fi,y_val), epochs = 50, verbose = 1) #50 epochs with batch size 200."
   ]
  },
  {
   "cell_type": "code",
   "execution_count": 77,
   "metadata": {},
   "outputs": [
    {
     "name": "stdout",
     "output_type": "stream",
     "text": [
      "Model: \"sequential\"\n",
      "_________________________________________________________________\n",
      "Layer (type)                 Output Shape              Param #   \n",
      "=================================================================\n",
      "Hidden_Layer_1 (Dense)       (None, 777)               796425    \n",
      "_________________________________________________________________\n",
      "Hidden_Layer_2 (Dense)       (None, 340)               264520    \n",
      "_________________________________________________________________\n",
      "Output_Layer (Dense)         (None, 10)                3410      \n",
      "=================================================================\n",
      "Total params: 1,064,355\n",
      "Trainable params: 1,064,355\n",
      "Non-trainable params: 0\n",
      "_________________________________________________________________\n"
     ]
    }
   ],
   "source": [
    "mod1.summary()"
   ]
  },
  {
   "cell_type": "code",
   "execution_count": 78,
   "metadata": {},
   "outputs": [
    {
     "name": "stdout",
     "output_type": "stream",
     "text": [
      "18000/18000 [==============================] - 2s 103us/sample - loss: 0.6450 - accuracy: 0.8247\n"
     ]
    }
   ],
   "source": [
    "res2 = mod1.evaluate(X_test_fi, y_test)"
   ]
  },
  {
   "cell_type": "code",
   "execution_count": 79,
   "metadata": {},
   "outputs": [
    {
     "data": {
      "text/html": [
       "<div>\n",
       "<style scoped>\n",
       "    .dataframe tbody tr th:only-of-type {\n",
       "        vertical-align: middle;\n",
       "    }\n",
       "\n",
       "    .dataframe tbody tr th {\n",
       "        vertical-align: top;\n",
       "    }\n",
       "\n",
       "    .dataframe thead th {\n",
       "        text-align: right;\n",
       "    }\n",
       "</style>\n",
       "<table border=\"1\" class=\"dataframe\">\n",
       "  <thead>\n",
       "    <tr style=\"text-align: right;\">\n",
       "      <th></th>\n",
       "      <th>Models</th>\n",
       "      <th>Accuracy</th>\n",
       "    </tr>\n",
       "  </thead>\n",
       "  <tbody>\n",
       "    <tr>\n",
       "      <th>1</th>\n",
       "      <td>FI_1Lyr</td>\n",
       "      <td>0.814722</td>\n",
       "    </tr>\n",
       "    <tr>\n",
       "      <th>2</th>\n",
       "      <td>FI_1Lyr_Flatten</td>\n",
       "      <td>0.681556</td>\n",
       "    </tr>\n",
       "    <tr>\n",
       "      <th>3</th>\n",
       "      <td>CI_1Lyr</td>\n",
       "      <td>0.838056</td>\n",
       "    </tr>\n",
       "    <tr>\n",
       "      <th>4</th>\n",
       "      <td>FI_2Lyrs</td>\n",
       "      <td>0.824722</td>\n",
       "    </tr>\n",
       "  </tbody>\n",
       "</table>\n",
       "</div>"
      ],
      "text/plain": [
       "            Models  Accuracy\n",
       "1          FI_1Lyr  0.814722\n",
       "2  FI_1Lyr_Flatten  0.681556\n",
       "3          CI_1Lyr  0.838056\n",
       "4         FI_2Lyrs  0.824722"
      ]
     },
     "execution_count": 79,
     "metadata": {},
     "output_type": "execute_result"
    }
   ],
   "source": [
    "temp_df = pd.DataFrame({'Models':['FI_2Lyrs'], 'Accuracy': [res2[1]]},index={'4'})\n",
    "final_df= pd.concat([final_df, temp_df])\n",
    "final_df = final_df[['Models', 'Accuracy']]\n",
    "final_df"
   ]
  },
  {
   "cell_type": "markdown",
   "metadata": {},
   "source": [
    "**There is a slight increase in accuracy with Two hidden layers**"
   ]
  },
  {
   "cell_type": "markdown",
   "metadata": {},
   "source": [
    "### Two hidden layer NN for CROPPED image"
   ]
  },
  {
   "cell_type": "code",
   "execution_count": 80,
   "metadata": {
    "scrolled": true
   },
   "outputs": [
    {
     "name": "stdout",
     "output_type": "stream",
     "text": [
      "Train on 42000 samples, validate on 60000 samples\n",
      "Epoch 1/50\n",
      "42000/42000 [==============================] - 2s 53us/sample - loss: 1.9862 - accuracy: 0.3153 - val_loss: 1.4992 - val_accuracy: 0.5415\n",
      "Epoch 2/50\n",
      "42000/42000 [==============================] - 2s 46us/sample - loss: 1.3130 - accuracy: 0.5951 - val_loss: 1.1434 - val_accuracy: 0.6559\n",
      "Epoch 3/50\n",
      "42000/42000 [==============================] - 2s 47us/sample - loss: 1.0875 - accuracy: 0.6701 - val_loss: 1.0151 - val_accuracy: 0.6926\n",
      "Epoch 4/50\n",
      "42000/42000 [==============================] - 2s 48us/sample - loss: 0.9736 - accuracy: 0.7048 - val_loss: 0.9262 - val_accuracy: 0.7214\n",
      "Epoch 5/50\n",
      "42000/42000 [==============================] - 2s 49us/sample - loss: 0.8996 - accuracy: 0.7279 - val_loss: 0.8881 - val_accuracy: 0.7316\n",
      "Epoch 6/50\n",
      "42000/42000 [==============================] - 2s 49us/sample - loss: 0.8487 - accuracy: 0.7455 - val_loss: 0.8474 - val_accuracy: 0.7409\n",
      "Epoch 7/50\n",
      "42000/42000 [==============================] - 2s 50us/sample - loss: 0.8070 - accuracy: 0.7584 - val_loss: 0.7789 - val_accuracy: 0.7684\n",
      "Epoch 8/50\n",
      "42000/42000 [==============================] - 2s 51us/sample - loss: 0.7774 - accuracy: 0.7674 - val_loss: 0.7621 - val_accuracy: 0.7742\n",
      "Epoch 9/50\n",
      "42000/42000 [==============================] - 2s 49us/sample - loss: 0.7449 - accuracy: 0.7776 - val_loss: 0.7319 - val_accuracy: 0.7850\n",
      "Epoch 10/50\n",
      "42000/42000 [==============================] - 2s 48us/sample - loss: 0.7267 - accuracy: 0.7840 - val_loss: 0.7179 - val_accuracy: 0.7900\n",
      "Epoch 11/50\n",
      "42000/42000 [==============================] - 2s 48us/sample - loss: 0.6964 - accuracy: 0.7940 - val_loss: 0.7195 - val_accuracy: 0.7862\n",
      "Epoch 12/50\n",
      "42000/42000 [==============================] - 2s 49us/sample - loss: 0.6793 - accuracy: 0.7982 - val_loss: 0.6643 - val_accuracy: 0.8046\n",
      "Epoch 13/50\n",
      "42000/42000 [==============================] - 2s 50us/sample - loss: 0.6569 - accuracy: 0.8049 - val_loss: 0.6704 - val_accuracy: 0.8019\n",
      "Epoch 14/50\n",
      "42000/42000 [==============================] - 2s 49us/sample - loss: 0.6430 - accuracy: 0.8085 - val_loss: 0.6603 - val_accuracy: 0.8037\n",
      "Epoch 15/50\n",
      "42000/42000 [==============================] - 2s 50us/sample - loss: 0.6337 - accuracy: 0.8122 - val_loss: 0.6297 - val_accuracy: 0.8148\n",
      "Epoch 16/50\n",
      "42000/42000 [==============================] - 2s 49us/sample - loss: 0.6219 - accuracy: 0.8138 - val_loss: 0.6168 - val_accuracy: 0.8184\n",
      "Epoch 17/50\n",
      "42000/42000 [==============================] - 2s 50us/sample - loss: 0.6046 - accuracy: 0.8221 - val_loss: 0.6022 - val_accuracy: 0.8236\n",
      "Epoch 18/50\n",
      "42000/42000 [==============================] - 2s 50us/sample - loss: 0.5935 - accuracy: 0.8225 - val_loss: 0.5911 - val_accuracy: 0.8242\n",
      "Epoch 19/50\n",
      "42000/42000 [==============================] - 2s 49us/sample - loss: 0.5781 - accuracy: 0.8272 - val_loss: 0.5631 - val_accuracy: 0.8358\n",
      "Epoch 20/50\n",
      "42000/42000 [==============================] - 2s 51us/sample - loss: 0.5672 - accuracy: 0.8304 - val_loss: 0.6076 - val_accuracy: 0.8199\n",
      "Epoch 21/50\n",
      "42000/42000 [==============================] - 2s 50us/sample - loss: 0.5599 - accuracy: 0.8325 - val_loss: 0.5759 - val_accuracy: 0.8288\n",
      "Epoch 22/50\n",
      "42000/42000 [==============================] - 2s 50us/sample - loss: 0.5519 - accuracy: 0.8347 - val_loss: 0.5614 - val_accuracy: 0.8346\n",
      "Epoch 23/50\n",
      "42000/42000 [==============================] - 2s 50us/sample - loss: 0.5417 - accuracy: 0.8388 - val_loss: 0.5783 - val_accuracy: 0.8299\n",
      "Epoch 24/50\n",
      "42000/42000 [==============================] - 2s 52us/sample - loss: 0.5321 - accuracy: 0.8416 - val_loss: 0.5566 - val_accuracy: 0.8345\n",
      "Epoch 25/50\n",
      "42000/42000 [==============================] - 2s 47us/sample - loss: 0.5206 - accuracy: 0.8452 - val_loss: 0.5453 - val_accuracy: 0.8389\n",
      "Epoch 26/50\n",
      "42000/42000 [==============================] - 2s 49us/sample - loss: 0.5240 - accuracy: 0.8426 - val_loss: 0.5451 - val_accuracy: 0.8403\n",
      "Epoch 27/50\n",
      "42000/42000 [==============================] - 2s 50us/sample - loss: 0.5051 - accuracy: 0.8479 - val_loss: 0.5210 - val_accuracy: 0.8464\n",
      "Epoch 28/50\n",
      "42000/42000 [==============================] - 2s 51us/sample - loss: 0.5028 - accuracy: 0.8492 - val_loss: 0.5240 - val_accuracy: 0.8463\n",
      "Epoch 29/50\n",
      "42000/42000 [==============================] - 2s 49us/sample - loss: 0.4867 - accuracy: 0.8533 - val_loss: 0.5216 - val_accuracy: 0.8463\n",
      "Epoch 30/50\n",
      "42000/42000 [==============================] - 2s 49us/sample - loss: 0.4829 - accuracy: 0.8546 - val_loss: 0.4953 - val_accuracy: 0.8543\n",
      "Epoch 31/50\n",
      "42000/42000 [==============================] - 2s 49us/sample - loss: 0.4796 - accuracy: 0.8559 - val_loss: 0.5204 - val_accuracy: 0.8441\n",
      "Epoch 32/50\n",
      "42000/42000 [==============================] - 2s 48us/sample - loss: 0.4730 - accuracy: 0.8566 - val_loss: 0.5027 - val_accuracy: 0.8518\n",
      "Epoch 33/50\n",
      "42000/42000 [==============================] - 2s 51us/sample - loss: 0.4662 - accuracy: 0.8592 - val_loss: 0.4924 - val_accuracy: 0.8555\n",
      "Epoch 34/50\n",
      "42000/42000 [==============================] - 2s 49us/sample - loss: 0.4642 - accuracy: 0.8586 - val_loss: 0.4885 - val_accuracy: 0.8554\n",
      "Epoch 35/50\n",
      "42000/42000 [==============================] - 2s 48us/sample - loss: 0.4578 - accuracy: 0.8605 - val_loss: 0.4876 - val_accuracy: 0.8564\n",
      "Epoch 36/50\n",
      "42000/42000 [==============================] - 2s 48us/sample - loss: 0.4556 - accuracy: 0.8617 - val_loss: 0.4894 - val_accuracy: 0.8547\n",
      "Epoch 37/50\n",
      "42000/42000 [==============================] - 2s 48us/sample - loss: 0.4440 - accuracy: 0.8650 - val_loss: 0.4937 - val_accuracy: 0.8526\n",
      "Epoch 38/50\n",
      "42000/42000 [==============================] - 2s 48us/sample - loss: 0.4437 - accuracy: 0.8661 - val_loss: 0.4872 - val_accuracy: 0.8547\n",
      "Epoch 39/50\n",
      "42000/42000 [==============================] - 2s 47us/sample - loss: 0.4371 - accuracy: 0.8676 - val_loss: 0.4879 - val_accuracy: 0.8556\n",
      "Epoch 40/50\n",
      "42000/42000 [==============================] - 2s 47us/sample - loss: 0.4303 - accuracy: 0.8703 - val_loss: 0.4741 - val_accuracy: 0.8600\n",
      "Epoch 41/50\n",
      "42000/42000 [==============================] - 2s 52us/sample - loss: 0.4216 - accuracy: 0.8715 - val_loss: 0.4567 - val_accuracy: 0.8658\n",
      "Epoch 42/50\n",
      "42000/42000 [==============================] - 2s 49us/sample - loss: 0.4165 - accuracy: 0.8744 - val_loss: 0.4609 - val_accuracy: 0.8640\n",
      "Epoch 43/50\n",
      "42000/42000 [==============================] - 2s 48us/sample - loss: 0.4198 - accuracy: 0.8718 - val_loss: 0.4289 - val_accuracy: 0.8746\n",
      "Epoch 44/50\n",
      "42000/42000 [==============================] - 2s 48us/sample - loss: 0.4076 - accuracy: 0.8760 - val_loss: 0.4741 - val_accuracy: 0.8574\n",
      "Epoch 45/50\n",
      "42000/42000 [==============================] - 2s 48us/sample - loss: 0.4159 - accuracy: 0.8722 - val_loss: 0.4688 - val_accuracy: 0.8594\n",
      "Epoch 46/50\n",
      "42000/42000 [==============================] - 2s 48us/sample - loss: 0.4007 - accuracy: 0.8775 - val_loss: 0.4423 - val_accuracy: 0.8691\n",
      "Epoch 47/50\n",
      "42000/42000 [==============================] - 2s 48us/sample - loss: 0.4018 - accuracy: 0.8777 - val_loss: 0.4354 - val_accuracy: 0.8728\n",
      "Epoch 48/50\n",
      "42000/42000 [==============================] - 2s 48us/sample - loss: 0.3940 - accuracy: 0.8809 - val_loss: 0.4326 - val_accuracy: 0.8729\n",
      "Epoch 49/50\n",
      "42000/42000 [==============================] - 2s 48us/sample - loss: 0.3930 - accuracy: 0.8787 - val_loss: 0.4311 - val_accuracy: 0.8734\n",
      "Epoch 50/50\n",
      "42000/42000 [==============================] - 2s 49us/sample - loss: 0.3847 - accuracy: 0.8808 - val_loss: 0.4198 - val_accuracy: 0.8782\n"
     ]
    },
    {
     "data": {
      "text/plain": [
       "<tensorflow.python.keras.callbacks.History at 0x20cfea46ba8>"
      ]
     },
     "execution_count": 80,
     "metadata": {},
     "output_type": "execute_result"
    }
   ],
   "source": [
    "tf.keras.backend.clear_session()\n",
    "\n",
    "mod2 = Sequential()\n",
    "mod2.add(Dense(340, input_shape = (476,), activation='relu', name='Hidden_Layer_1')) #first hidden layer with 340 neurons, and activation function relu.\n",
    "mod2.add(Dense(170, activation='relu', name='Hidden_Layer_2')) #second hidden layer with 170 neurons, and activation function relu.\n",
    "mod2.add(Dense(10, activation='softmax', name='Output_Layer')) #output layer with 10 neurons since we have 10 different classes\n",
    "mod2.compile(optimizer='adam', loss='categorical_crossentropy', metrics=['accuracy']) # Adam optimizer is used\n",
    "mod2.fit(X_train_ci, y_train, batch_size = 200, validation_data=(X_val_ci,y_val), epochs = 50, verbose = 1) #50 epochs with batch size 200."
   ]
  },
  {
   "cell_type": "code",
   "execution_count": 81,
   "metadata": {},
   "outputs": [
    {
     "name": "stdout",
     "output_type": "stream",
     "text": [
      "Model: \"sequential\"\n",
      "_________________________________________________________________\n",
      "Layer (type)                 Output Shape              Param #   \n",
      "=================================================================\n",
      "Hidden_Layer_1 (Dense)       (None, 340)               162180    \n",
      "_________________________________________________________________\n",
      "Hidden_Layer_2 (Dense)       (None, 170)               57970     \n",
      "_________________________________________________________________\n",
      "Output_Layer (Dense)         (None, 10)                1710      \n",
      "=================================================================\n",
      "Total params: 221,860\n",
      "Trainable params: 221,860\n",
      "Non-trainable params: 0\n",
      "_________________________________________________________________\n"
     ]
    }
   ],
   "source": [
    "mod2.summary()"
   ]
  },
  {
   "cell_type": "code",
   "execution_count": 82,
   "metadata": {},
   "outputs": [
    {
     "name": "stdout",
     "output_type": "stream",
     "text": [
      "18000/18000 [==============================] - 1s 51us/sample - loss: 0.5696 - accuracy: 0.8443\n"
     ]
    }
   ],
   "source": [
    "res3 = mod2.evaluate(X_test_ci, y_test)"
   ]
  },
  {
   "cell_type": "code",
   "execution_count": 83,
   "metadata": {},
   "outputs": [
    {
     "data": {
      "text/html": [
       "<div>\n",
       "<style scoped>\n",
       "    .dataframe tbody tr th:only-of-type {\n",
       "        vertical-align: middle;\n",
       "    }\n",
       "\n",
       "    .dataframe tbody tr th {\n",
       "        vertical-align: top;\n",
       "    }\n",
       "\n",
       "    .dataframe thead th {\n",
       "        text-align: right;\n",
       "    }\n",
       "</style>\n",
       "<table border=\"1\" class=\"dataframe\">\n",
       "  <thead>\n",
       "    <tr style=\"text-align: right;\">\n",
       "      <th></th>\n",
       "      <th>Models</th>\n",
       "      <th>Accuracy</th>\n",
       "    </tr>\n",
       "  </thead>\n",
       "  <tbody>\n",
       "    <tr>\n",
       "      <th>1</th>\n",
       "      <td>FI_1Lyr</td>\n",
       "      <td>0.814722</td>\n",
       "    </tr>\n",
       "    <tr>\n",
       "      <th>2</th>\n",
       "      <td>FI_1Lyr_Flatten</td>\n",
       "      <td>0.681556</td>\n",
       "    </tr>\n",
       "    <tr>\n",
       "      <th>3</th>\n",
       "      <td>CI_1Lyr</td>\n",
       "      <td>0.838056</td>\n",
       "    </tr>\n",
       "    <tr>\n",
       "      <th>4</th>\n",
       "      <td>FI_2Lyrs</td>\n",
       "      <td>0.824722</td>\n",
       "    </tr>\n",
       "    <tr>\n",
       "      <th>5</th>\n",
       "      <td>CI_2Lyrs</td>\n",
       "      <td>0.844278</td>\n",
       "    </tr>\n",
       "  </tbody>\n",
       "</table>\n",
       "</div>"
      ],
      "text/plain": [
       "            Models  Accuracy\n",
       "1          FI_1Lyr  0.814722\n",
       "2  FI_1Lyr_Flatten  0.681556\n",
       "3          CI_1Lyr  0.838056\n",
       "4         FI_2Lyrs  0.824722\n",
       "5         CI_2Lyrs  0.844278"
      ]
     },
     "execution_count": 83,
     "metadata": {},
     "output_type": "execute_result"
    }
   ],
   "source": [
    "temp_df = pd.DataFrame({'Models':['CI_2Lyrs'], 'Accuracy': [res3[1]]},index={'5'})\n",
    "final_df= pd.concat([final_df, temp_df])\n",
    "final_df = final_df[['Models', 'Accuracy']]\n",
    "final_df"
   ]
  },
  {
   "cell_type": "markdown",
   "metadata": {},
   "source": [
    "**There is a slight increase in accuracy with Two hidden layers**"
   ]
  },
  {
   "cell_type": "markdown",
   "metadata": {},
   "source": [
    "### 3. Build neural networks with Three hidden layers"
   ]
  },
  {
   "cell_type": "markdown",
   "metadata": {},
   "source": [
    "### Three hidden layers NN for Full image"
   ]
  },
  {
   "cell_type": "code",
   "execution_count": 86,
   "metadata": {
    "scrolled": true
   },
   "outputs": [
    {
     "name": "stdout",
     "output_type": "stream",
     "text": [
      "Train on 42000 samples, validate on 60000 samples\n",
      "Epoch 1/50\n",
      "42000/42000 [==============================] - 6s 152us/sample - loss: 2.2454 - accuracy: 0.1527 - val_loss: 1.8817 - val_accuracy: 0.3050\n",
      "Epoch 2/50\n",
      "42000/42000 [==============================] - 6s 145us/sample - loss: 1.5967 - accuracy: 0.4519 - val_loss: 1.2749 - val_accuracy: 0.5936\n",
      "Epoch 3/50\n",
      "42000/42000 [==============================] - 6s 146us/sample - loss: 1.2090 - accuracy: 0.6150 - val_loss: 1.0915 - val_accuracy: 0.6553\n",
      "Epoch 4/50\n",
      "42000/42000 [==============================] - 6s 154us/sample - loss: 1.0406 - accuracy: 0.6762 - val_loss: 0.9587 - val_accuracy: 0.7059\n",
      "Epoch 5/50\n",
      "42000/42000 [==============================] - 6s 151us/sample - loss: 0.9652 - accuracy: 0.6998 - val_loss: 0.9949 - val_accuracy: 0.6783\n",
      "Epoch 6/50\n",
      "42000/42000 [==============================] - 6s 150us/sample - loss: 0.9005 - accuracy: 0.7179 - val_loss: 0.8649 - val_accuracy: 0.7297\n",
      "Epoch 7/50\n",
      "42000/42000 [==============================] - 6s 146us/sample - loss: 0.8406 - accuracy: 0.7365 - val_loss: 0.8204 - val_accuracy: 0.7442\n",
      "Epoch 8/50\n",
      "42000/42000 [==============================] - 6s 150us/sample - loss: 0.7859 - accuracy: 0.7557 - val_loss: 0.7855 - val_accuracy: 0.7585\n",
      "Epoch 9/50\n",
      "42000/42000 [==============================] - 6s 153us/sample - loss: 0.7663 - accuracy: 0.7621 - val_loss: 0.7507 - val_accuracy: 0.7691\n",
      "Epoch 10/50\n",
      "42000/42000 [==============================] - 6s 150us/sample - loss: 0.7403 - accuracy: 0.7710 - val_loss: 0.7611 - val_accuracy: 0.7637\n",
      "Epoch 11/50\n",
      "42000/42000 [==============================] - 7s 159us/sample - loss: 0.7124 - accuracy: 0.7776 - val_loss: 0.6840 - val_accuracy: 0.7914\n",
      "Epoch 12/50\n",
      "42000/42000 [==============================] - 7s 158us/sample - loss: 0.6842 - accuracy: 0.7857 - val_loss: 0.7222 - val_accuracy: 0.7749\n",
      "Epoch 13/50\n",
      "42000/42000 [==============================] - 7s 157us/sample - loss: 0.6523 - accuracy: 0.7977 - val_loss: 0.6656 - val_accuracy: 0.7940\n",
      "Epoch 14/50\n",
      "42000/42000 [==============================] - 7s 163us/sample - loss: 0.6358 - accuracy: 0.8015 - val_loss: 0.6695 - val_accuracy: 0.7906\n",
      "Epoch 15/50\n",
      "42000/42000 [==============================] - 7s 165us/sample - loss: 0.6185 - accuracy: 0.8079 - val_loss: 0.6326 - val_accuracy: 0.8022\n",
      "Epoch 16/50\n",
      "42000/42000 [==============================] - 7s 161us/sample - loss: 0.5920 - accuracy: 0.8137 - val_loss: 0.5674 - val_accuracy: 0.8274\n",
      "Epoch 17/50\n",
      "42000/42000 [==============================] - 7s 157us/sample - loss: 0.5876 - accuracy: 0.8161 - val_loss: 0.5857 - val_accuracy: 0.8195\n",
      "Epoch 18/50\n",
      "42000/42000 [==============================] - 7s 157us/sample - loss: 0.5594 - accuracy: 0.8245 - val_loss: 0.5812 - val_accuracy: 0.8207\n",
      "Epoch 19/50\n",
      "42000/42000 [==============================] - 7s 158us/sample - loss: 0.5414 - accuracy: 0.8298 - val_loss: 0.5317 - val_accuracy: 0.8370\n",
      "Epoch 20/50\n",
      "42000/42000 [==============================] - 7s 157us/sample - loss: 0.5319 - accuracy: 0.8323 - val_loss: 0.5372 - val_accuracy: 0.8326\n",
      "Epoch 21/50\n",
      "42000/42000 [==============================] - 7s 158us/sample - loss: 0.5148 - accuracy: 0.8374 - val_loss: 0.5266 - val_accuracy: 0.8381\n",
      "Epoch 22/50\n",
      "42000/42000 [==============================] - 7s 159us/sample - loss: 0.5079 - accuracy: 0.8400 - val_loss: 0.5126 - val_accuracy: 0.8417\n",
      "Epoch 23/50\n",
      "42000/42000 [==============================] - 7s 160us/sample - loss: 0.4819 - accuracy: 0.8481 - val_loss: 0.5352 - val_accuracy: 0.8346\n",
      "Epoch 24/50\n",
      "42000/42000 [==============================] - 7s 164us/sample - loss: 0.4723 - accuracy: 0.8501 - val_loss: 0.4887 - val_accuracy: 0.8490\n",
      "Epoch 25/50\n",
      "42000/42000 [==============================] - 7s 163us/sample - loss: 0.4557 - accuracy: 0.8547 - val_loss: 0.5213 - val_accuracy: 0.8371\n",
      "Epoch 26/50\n",
      "42000/42000 [==============================] - 7s 175us/sample - loss: 0.4479 - accuracy: 0.8589 - val_loss: 0.5463 - val_accuracy: 0.8260\n",
      "Epoch 27/50\n",
      "42000/42000 [==============================] - 7s 178us/sample - loss: 0.4468 - accuracy: 0.8572 - val_loss: 0.4635 - val_accuracy: 0.8570\n",
      "Epoch 28/50\n",
      "42000/42000 [==============================] - 7s 174us/sample - loss: 0.4258 - accuracy: 0.8638 - val_loss: 0.4492 - val_accuracy: 0.8620\n",
      "Epoch 29/50\n",
      "42000/42000 [==============================] - 7s 164us/sample - loss: 0.4115 - accuracy: 0.8695 - val_loss: 0.4524 - val_accuracy: 0.8609\n",
      "Epoch 30/50\n",
      "42000/42000 [==============================] - 7s 161us/sample - loss: 0.4081 - accuracy: 0.8700 - val_loss: 0.4818 - val_accuracy: 0.8488\n",
      "Epoch 31/50\n",
      "42000/42000 [==============================] - 6s 148us/sample - loss: 0.4038 - accuracy: 0.8696 - val_loss: 0.4462 - val_accuracy: 0.8633\n",
      "Epoch 32/50\n",
      "42000/42000 [==============================] - 6s 152us/sample - loss: 0.3840 - accuracy: 0.8750 - val_loss: 0.4630 - val_accuracy: 0.8573\n",
      "Epoch 33/50\n",
      "42000/42000 [==============================] - 7s 173us/sample - loss: 0.3723 - accuracy: 0.8810 - val_loss: 0.4431 - val_accuracy: 0.8644\n",
      "Epoch 34/50\n",
      "42000/42000 [==============================] - 8s 179us/sample - loss: 0.3697 - accuracy: 0.8805 - val_loss: 0.5039 - val_accuracy: 0.8416\n",
      "Epoch 35/50\n",
      "42000/42000 [==============================] - 7s 174us/sample - loss: 0.3654 - accuracy: 0.8810 - val_loss: 0.4608 - val_accuracy: 0.8572\n",
      "Epoch 36/50\n",
      "42000/42000 [==============================] - 7s 176us/sample - loss: 0.3472 - accuracy: 0.8876 - val_loss: 0.3956 - val_accuracy: 0.8811\n",
      "Epoch 37/50\n",
      "42000/42000 [==============================] - 7s 173us/sample - loss: 0.3389 - accuracy: 0.8918 - val_loss: 0.4227 - val_accuracy: 0.8697\n",
      "Epoch 38/50\n",
      "42000/42000 [==============================] - 7s 173us/sample - loss: 0.3277 - accuracy: 0.8943 - val_loss: 0.3823 - val_accuracy: 0.8863\n",
      "Epoch 39/50\n",
      "42000/42000 [==============================] - 7s 177us/sample - loss: 0.3195 - accuracy: 0.8969 - val_loss: 0.3963 - val_accuracy: 0.8817\n",
      "Epoch 40/50\n",
      "42000/42000 [==============================] - 7s 178us/sample - loss: 0.3237 - accuracy: 0.8931 - val_loss: 0.4054 - val_accuracy: 0.8788\n",
      "Epoch 41/50\n",
      "42000/42000 [==============================] - 8s 181us/sample - loss: 0.3143 - accuracy: 0.8990 - val_loss: 0.3668 - val_accuracy: 0.8929\n",
      "Epoch 42/50\n",
      "42000/42000 [==============================] - 8s 186us/sample - loss: 0.2929 - accuracy: 0.9043 - val_loss: 0.3754 - val_accuracy: 0.8877\n",
      "Epoch 43/50\n",
      "42000/42000 [==============================] - 7s 172us/sample - loss: 0.2809 - accuracy: 0.9076 - val_loss: 0.4214 - val_accuracy: 0.8752\n",
      "Epoch 44/50\n",
      "42000/42000 [==============================] - 8s 183us/sample - loss: 0.2856 - accuracy: 0.9077 - val_loss: 0.4397 - val_accuracy: 0.8684\n",
      "Epoch 45/50\n",
      "42000/42000 [==============================] - 8s 193us/sample - loss: 0.2778 - accuracy: 0.9103 - val_loss: 0.3826 - val_accuracy: 0.8859\n",
      "Epoch 46/50\n",
      "42000/42000 [==============================] - 7s 176us/sample - loss: 0.2821 - accuracy: 0.9081 - val_loss: 0.3632 - val_accuracy: 0.8943\n",
      "Epoch 47/50\n",
      "42000/42000 [==============================] - 8s 182us/sample - loss: 0.2673 - accuracy: 0.9119 - val_loss: 0.3894 - val_accuracy: 0.8859\n",
      "Epoch 48/50\n",
      "42000/42000 [==============================] - 8s 183us/sample - loss: 0.2488 - accuracy: 0.9201 - val_loss: 0.3622 - val_accuracy: 0.8958\n",
      "Epoch 49/50\n",
      "42000/42000 [==============================] - 7s 178us/sample - loss: 0.2581 - accuracy: 0.9151 - val_loss: 0.3572 - val_accuracy: 0.8974\n",
      "Epoch 50/50\n",
      "42000/42000 [==============================] - 8s 187us/sample - loss: 0.2398 - accuracy: 0.9216 - val_loss: 0.3730 - val_accuracy: 0.8924\n"
     ]
    },
    {
     "data": {
      "text/plain": [
       "<tensorflow.python.keras.callbacks.History at 0x20d1ad74080>"
      ]
     },
     "execution_count": 86,
     "metadata": {},
     "output_type": "execute_result"
    }
   ],
   "source": [
    "tf.keras.backend.clear_session()\n",
    "\n",
    "mod1 = Sequential()\n",
    "mod1.add(Dense(777, input_shape = (1024,), activation='relu', name='Hidden_Layer_1')) #first hidden layer with 777 neurons, and activation function relu.\n",
    "mod1.add(Dense(340, activation='relu', name='Hidden_Layer_2')) #second hidden layer with 340 neurons, and activation function relu.\n",
    "mod1.add(Dense(170, activation='relu', name='Hidden_Layer_3')) #Third hidden layer with 170 neurons, and activation function relu.\n",
    "mod1.add(Dense(10, activation='softmax', name='Output_Layer')) #output layer with 10 neurons since we have 10 different classes\n",
    "mod1.compile(optimizer='adam', loss='categorical_crossentropy', metrics=['accuracy']) # Adam optimizer is used\n",
    "mod1.fit(X_train_fi, y_train, batch_size = 200, validation_data=(X_val_fi,y_val), epochs = 50, verbose = 1) #50 epochs with batch size 200."
   ]
  },
  {
   "cell_type": "code",
   "execution_count": 87,
   "metadata": {},
   "outputs": [
    {
     "name": "stdout",
     "output_type": "stream",
     "text": [
      "Model: \"sequential\"\n",
      "_________________________________________________________________\n",
      "Layer (type)                 Output Shape              Param #   \n",
      "=================================================================\n",
      "Hidden_Layer_1 (Dense)       (None, 777)               796425    \n",
      "_________________________________________________________________\n",
      "Hidden_Layer_2 (Dense)       (None, 340)               264520    \n",
      "_________________________________________________________________\n",
      "Hidden_Layer_3 (Dense)       (None, 170)               57970     \n",
      "_________________________________________________________________\n",
      "Output_Layer (Dense)         (None, 10)                1710      \n",
      "=================================================================\n",
      "Total params: 1,120,625\n",
      "Trainable params: 1,120,625\n",
      "Non-trainable params: 0\n",
      "_________________________________________________________________\n"
     ]
    }
   ],
   "source": [
    "mod1.summary()"
   ]
  },
  {
   "cell_type": "code",
   "execution_count": 88,
   "metadata": {},
   "outputs": [
    {
     "name": "stdout",
     "output_type": "stream",
     "text": [
      "18000/18000 [==============================] - 2s 111us/sample - loss: 0.6931 - accuracy: 0.8239\n"
     ]
    }
   ],
   "source": [
    "res4 = mod1.evaluate(X_test_fi, y_test)"
   ]
  },
  {
   "cell_type": "code",
   "execution_count": 89,
   "metadata": {},
   "outputs": [
    {
     "data": {
      "text/html": [
       "<div>\n",
       "<style scoped>\n",
       "    .dataframe tbody tr th:only-of-type {\n",
       "        vertical-align: middle;\n",
       "    }\n",
       "\n",
       "    .dataframe tbody tr th {\n",
       "        vertical-align: top;\n",
       "    }\n",
       "\n",
       "    .dataframe thead th {\n",
       "        text-align: right;\n",
       "    }\n",
       "</style>\n",
       "<table border=\"1\" class=\"dataframe\">\n",
       "  <thead>\n",
       "    <tr style=\"text-align: right;\">\n",
       "      <th></th>\n",
       "      <th>Models</th>\n",
       "      <th>Accuracy</th>\n",
       "    </tr>\n",
       "  </thead>\n",
       "  <tbody>\n",
       "    <tr>\n",
       "      <th>1</th>\n",
       "      <td>FI_1Lyr</td>\n",
       "      <td>0.814722</td>\n",
       "    </tr>\n",
       "    <tr>\n",
       "      <th>2</th>\n",
       "      <td>FI_1Lyr_Flatten</td>\n",
       "      <td>0.681556</td>\n",
       "    </tr>\n",
       "    <tr>\n",
       "      <th>3</th>\n",
       "      <td>CI_1Lyr</td>\n",
       "      <td>0.838056</td>\n",
       "    </tr>\n",
       "    <tr>\n",
       "      <th>4</th>\n",
       "      <td>FI_2Lyrs</td>\n",
       "      <td>0.824722</td>\n",
       "    </tr>\n",
       "    <tr>\n",
       "      <th>5</th>\n",
       "      <td>CI_2Lyrs</td>\n",
       "      <td>0.844278</td>\n",
       "    </tr>\n",
       "    <tr>\n",
       "      <th>6</th>\n",
       "      <td>FI_3Lyrs</td>\n",
       "      <td>0.823944</td>\n",
       "    </tr>\n",
       "  </tbody>\n",
       "</table>\n",
       "</div>"
      ],
      "text/plain": [
       "            Models  Accuracy\n",
       "1          FI_1Lyr  0.814722\n",
       "2  FI_1Lyr_Flatten  0.681556\n",
       "3          CI_1Lyr  0.838056\n",
       "4         FI_2Lyrs  0.824722\n",
       "5         CI_2Lyrs  0.844278\n",
       "6         FI_3Lyrs  0.823944"
      ]
     },
     "execution_count": 89,
     "metadata": {},
     "output_type": "execute_result"
    }
   ],
   "source": [
    "temp_df = pd.DataFrame({'Models':['FI_3Lyrs'], 'Accuracy': [res4[1]]},index={'6'})\n",
    "final_df= pd.concat([final_df, temp_df])\n",
    "final_df = final_df[['Models', 'Accuracy']]\n",
    "final_df"
   ]
  },
  {
   "cell_type": "markdown",
   "metadata": {},
   "source": [
    "**No significant increase in accuracy with Three hidden layers**"
   ]
  },
  {
   "cell_type": "markdown",
   "metadata": {},
   "source": [
    "### Three hidden layer NN for Cropped image"
   ]
  },
  {
   "cell_type": "code",
   "execution_count": 91,
   "metadata": {
    "scrolled": true
   },
   "outputs": [
    {
     "name": "stdout",
     "output_type": "stream",
     "text": [
      "Train on 42000 samples, validate on 60000 samples\n",
      "Epoch 1/50\n",
      "42000/42000 [==============================] - 2s 57us/sample - loss: 1.8816 - accuracy: 0.3419 - val_loss: 1.4126 - val_accuracy: 0.5443\n",
      "Epoch 2/50\n",
      "42000/42000 [==============================] - 2s 53us/sample - loss: 1.2174 - accuracy: 0.6193 - val_loss: 1.0703 - val_accuracy: 0.6731\n",
      "Epoch 3/50\n",
      "42000/42000 [==============================] - 2s 52us/sample - loss: 1.0333 - accuracy: 0.6828 - val_loss: 0.9625 - val_accuracy: 0.7065\n",
      "Epoch 4/50\n",
      "42000/42000 [==============================] - 2s 53us/sample - loss: 0.9328 - accuracy: 0.7134 - val_loss: 0.8974 - val_accuracy: 0.7291\n",
      "Epoch 5/50\n",
      "42000/42000 [==============================] - 2s 52us/sample - loss: 0.8587 - accuracy: 0.7387 - val_loss: 0.8425 - val_accuracy: 0.7404\n",
      "Epoch 6/50\n",
      "42000/42000 [==============================] - 2s 55us/sample - loss: 0.8201 - accuracy: 0.7514 - val_loss: 0.8019 - val_accuracy: 0.7572\n",
      "Epoch 7/50\n",
      "42000/42000 [==============================] - 2s 54us/sample - loss: 0.7764 - accuracy: 0.7643 - val_loss: 0.8013 - val_accuracy: 0.7570\n",
      "Epoch 8/50\n",
      "42000/42000 [==============================] - 2s 55us/sample - loss: 0.7362 - accuracy: 0.7763 - val_loss: 0.7124 - val_accuracy: 0.7867\n",
      "Epoch 9/50\n",
      "42000/42000 [==============================] - 2s 55us/sample - loss: 0.7100 - accuracy: 0.7839 - val_loss: 0.7150 - val_accuracy: 0.7859\n",
      "Epoch 10/50\n",
      "42000/42000 [==============================] - 2s 52us/sample - loss: 0.6734 - accuracy: 0.7985 - val_loss: 0.6626 - val_accuracy: 0.8020\n",
      "Epoch 11/50\n",
      "42000/42000 [==============================] - 2s 51us/sample - loss: 0.6514 - accuracy: 0.8041 - val_loss: 0.6442 - val_accuracy: 0.8077\n",
      "Epoch 12/50\n",
      "42000/42000 [==============================] - 2s 50us/sample - loss: 0.6327 - accuracy: 0.8084 - val_loss: 0.6480 - val_accuracy: 0.8069\n",
      "Epoch 13/50\n",
      "42000/42000 [==============================] - 2s 51us/sample - loss: 0.6103 - accuracy: 0.8160 - val_loss: 0.6392 - val_accuracy: 0.8097\n",
      "Epoch 14/50\n",
      "42000/42000 [==============================] - 2s 55us/sample - loss: 0.5961 - accuracy: 0.8197 - val_loss: 0.5963 - val_accuracy: 0.8216\n",
      "Epoch 15/50\n",
      "42000/42000 [==============================] - 2s 53us/sample - loss: 0.5832 - accuracy: 0.8242 - val_loss: 0.5816 - val_accuracy: 0.8270\n",
      "Epoch 16/50\n",
      "42000/42000 [==============================] - 2s 51us/sample - loss: 0.5618 - accuracy: 0.8312 - val_loss: 0.5701 - val_accuracy: 0.8280\n",
      "Epoch 17/50\n",
      "42000/42000 [==============================] - 2s 51us/sample - loss: 0.5489 - accuracy: 0.8326 - val_loss: 0.5715 - val_accuracy: 0.8281\n",
      "Epoch 18/50\n",
      "42000/42000 [==============================] - 2s 53us/sample - loss: 0.5457 - accuracy: 0.8334 - val_loss: 0.5900 - val_accuracy: 0.8219\n",
      "Epoch 19/50\n",
      "42000/42000 [==============================] - 2s 53us/sample - loss: 0.5343 - accuracy: 0.8375 - val_loss: 0.6235 - val_accuracy: 0.8083\n",
      "Epoch 20/50\n",
      "42000/42000 [==============================] - 2s 54us/sample - loss: 0.5219 - accuracy: 0.8404 - val_loss: 0.5488 - val_accuracy: 0.8327\n",
      "Epoch 21/50\n",
      "42000/42000 [==============================] - 2s 54us/sample - loss: 0.5074 - accuracy: 0.8439 - val_loss: 0.5254 - val_accuracy: 0.8433\n",
      "Epoch 22/50\n",
      "42000/42000 [==============================] - 2s 52us/sample - loss: 0.4961 - accuracy: 0.8473 - val_loss: 0.5411 - val_accuracy: 0.8343\n",
      "Epoch 23/50\n",
      "42000/42000 [==============================] - 2s 51us/sample - loss: 0.4892 - accuracy: 0.8485 - val_loss: 0.4857 - val_accuracy: 0.8555\n",
      "Epoch 24/50\n",
      "42000/42000 [==============================] - 2s 55us/sample - loss: 0.4822 - accuracy: 0.8528 - val_loss: 0.4973 - val_accuracy: 0.8502\n",
      "Epoch 25/50\n",
      "42000/42000 [==============================] - 2s 53us/sample - loss: 0.4631 - accuracy: 0.8569 - val_loss: 0.4885 - val_accuracy: 0.8541\n",
      "Epoch 26/50\n",
      "42000/42000 [==============================] - 2s 52us/sample - loss: 0.4596 - accuracy: 0.8571 - val_loss: 0.4931 - val_accuracy: 0.8526\n",
      "Epoch 27/50\n",
      "42000/42000 [==============================] - 2s 53us/sample - loss: 0.4562 - accuracy: 0.8597 - val_loss: 0.5068 - val_accuracy: 0.8471\n",
      "Epoch 28/50\n",
      "42000/42000 [==============================] - 2s 54us/sample - loss: 0.4538 - accuracy: 0.8605 - val_loss: 0.5375 - val_accuracy: 0.8335\n",
      "Epoch 29/50\n",
      "42000/42000 [==============================] - 2s 53us/sample - loss: 0.4363 - accuracy: 0.8650 - val_loss: 0.4872 - val_accuracy: 0.8523\n",
      "Epoch 30/50\n",
      "42000/42000 [==============================] - 2s 55us/sample - loss: 0.4319 - accuracy: 0.8667 - val_loss: 0.4338 - val_accuracy: 0.8723\n",
      "Epoch 31/50\n",
      "42000/42000 [==============================] - 2s 56us/sample - loss: 0.4243 - accuracy: 0.8676 - val_loss: 0.4664 - val_accuracy: 0.8591\n",
      "Epoch 32/50\n",
      "42000/42000 [==============================] - 2s 53us/sample - loss: 0.4252 - accuracy: 0.8669 - val_loss: 0.4457 - val_accuracy: 0.8662\n",
      "Epoch 33/50\n",
      "42000/42000 [==============================] - 2s 59us/sample - loss: 0.4225 - accuracy: 0.8697 - val_loss: 0.4640 - val_accuracy: 0.8607\n",
      "Epoch 34/50\n",
      "42000/42000 [==============================] - 2s 55us/sample - loss: 0.4059 - accuracy: 0.8738 - val_loss: 0.4632 - val_accuracy: 0.8602\n",
      "Epoch 35/50\n",
      "42000/42000 [==============================] - 2s 52us/sample - loss: 0.4033 - accuracy: 0.8737 - val_loss: 0.4394 - val_accuracy: 0.8682\n",
      "Epoch 36/50\n",
      "42000/42000 [==============================] - 2s 53us/sample - loss: 0.3934 - accuracy: 0.8781 - val_loss: 0.4235 - val_accuracy: 0.8742\n",
      "Epoch 37/50\n",
      "42000/42000 [==============================] - 2s 54us/sample - loss: 0.3882 - accuracy: 0.8789 - val_loss: 0.4264 - val_accuracy: 0.8723\n",
      "Epoch 38/50\n",
      "42000/42000 [==============================] - 2s 52us/sample - loss: 0.3799 - accuracy: 0.8808 - val_loss: 0.4017 - val_accuracy: 0.8822\n",
      "Epoch 39/50\n",
      "42000/42000 [==============================] - 2s 51us/sample - loss: 0.3846 - accuracy: 0.8799 - val_loss: 0.4404 - val_accuracy: 0.8668\n",
      "Epoch 40/50\n",
      "42000/42000 [==============================] - 2s 51us/sample - loss: 0.3823 - accuracy: 0.8805 - val_loss: 0.4169 - val_accuracy: 0.8763\n",
      "Epoch 41/50\n",
      "42000/42000 [==============================] - 2s 50us/sample - loss: 0.3612 - accuracy: 0.8851 - val_loss: 0.4181 - val_accuracy: 0.8761\n",
      "Epoch 42/50\n",
      "42000/42000 [==============================] - 2s 50us/sample - loss: 0.3649 - accuracy: 0.8854 - val_loss: 0.4099 - val_accuracy: 0.8768\n",
      "Epoch 43/50\n",
      "42000/42000 [==============================] - 2s 51us/sample - loss: 0.3602 - accuracy: 0.8873 - val_loss: 0.4256 - val_accuracy: 0.8725\n",
      "Epoch 44/50\n",
      "42000/42000 [==============================] - 2s 50us/sample - loss: 0.3524 - accuracy: 0.8889 - val_loss: 0.3878 - val_accuracy: 0.8846\n",
      "Epoch 45/50\n",
      "42000/42000 [==============================] - 2s 51us/sample - loss: 0.3407 - accuracy: 0.8933 - val_loss: 0.3946 - val_accuracy: 0.8830\n",
      "Epoch 46/50\n",
      "42000/42000 [==============================] - 2s 51us/sample - loss: 0.3400 - accuracy: 0.8926 - val_loss: 0.4097 - val_accuracy: 0.8788\n",
      "Epoch 47/50\n",
      "42000/42000 [==============================] - 2s 50us/sample - loss: 0.3394 - accuracy: 0.8925 - val_loss: 0.3982 - val_accuracy: 0.8823\n",
      "Epoch 48/50\n",
      "42000/42000 [==============================] - 2s 50us/sample - loss: 0.3326 - accuracy: 0.8954 - val_loss: 0.3927 - val_accuracy: 0.8834\n",
      "Epoch 49/50\n",
      "42000/42000 [==============================] - 2s 50us/sample - loss: 0.3357 - accuracy: 0.8931 - val_loss: 0.4366 - val_accuracy: 0.8700\n",
      "Epoch 50/50\n",
      "42000/42000 [==============================] - 2s 50us/sample - loss: 0.3255 - accuracy: 0.8965 - val_loss: 0.3701 - val_accuracy: 0.8915\n"
     ]
    },
    {
     "data": {
      "text/plain": [
       "<tensorflow.python.keras.callbacks.History at 0x20d1cb0f860>"
      ]
     },
     "execution_count": 91,
     "metadata": {},
     "output_type": "execute_result"
    }
   ],
   "source": [
    "tf.keras.backend.clear_session()\n",
    "\n",
    "mod2 = Sequential()\n",
    "mod2.add(Dense(340, input_shape = (476,), activation='relu', name='Hidden_Layer_1')) #first hidden layer with 340 neurons, and activation function relu.\n",
    "mod2.add(Dense(170, activation='relu', name='Hidden_Layer_2')) #second hidden layer with 340 neurons, and activation function relu.\n",
    "mod2.add(Dense(85, activation='relu', name='Hidden_Layer_3')) #third hidden layer with 85 neurons, and activation function relu.\n",
    "mod2.add(Dense(10, activation='softmax', name='Output_Layer')) #output layer with 10 neurons since we have 10 different classes\n",
    "mod2.compile(optimizer='adam', loss='categorical_crossentropy', metrics=['accuracy']) # Adam optimizer is used\n",
    "mod2.fit(X_train_ci, y_train, batch_size = 200, validation_data=(X_val_ci,y_val), epochs = 50, verbose = 1) #50 epochs with batch size 200."
   ]
  },
  {
   "cell_type": "code",
   "execution_count": 92,
   "metadata": {},
   "outputs": [
    {
     "name": "stdout",
     "output_type": "stream",
     "text": [
      "Model: \"sequential\"\n",
      "_________________________________________________________________\n",
      "Layer (type)                 Output Shape              Param #   \n",
      "=================================================================\n",
      "Hidden_Layer_1 (Dense)       (None, 340)               162180    \n",
      "_________________________________________________________________\n",
      "Hidden_Layer_2 (Dense)       (None, 170)               57970     \n",
      "_________________________________________________________________\n",
      "Hidden_Layer_3 (Dense)       (None, 85)                14535     \n",
      "_________________________________________________________________\n",
      "Output_Layer (Dense)         (None, 10)                860       \n",
      "=================================================================\n",
      "Total params: 235,545\n",
      "Trainable params: 235,545\n",
      "Non-trainable params: 0\n",
      "_________________________________________________________________\n"
     ]
    }
   ],
   "source": [
    "mod2.summary()"
   ]
  },
  {
   "cell_type": "code",
   "execution_count": 94,
   "metadata": {},
   "outputs": [
    {
     "name": "stdout",
     "output_type": "stream",
     "text": [
      "18000/18000 [==============================] - 2s 125us/sample - loss: 0.5674 - accuracy: 0.8459\n"
     ]
    }
   ],
   "source": [
    "res5 = mod2.evaluate(X_test_ci, y_test)"
   ]
  },
  {
   "cell_type": "code",
   "execution_count": 95,
   "metadata": {},
   "outputs": [
    {
     "data": {
      "text/html": [
       "<div>\n",
       "<style scoped>\n",
       "    .dataframe tbody tr th:only-of-type {\n",
       "        vertical-align: middle;\n",
       "    }\n",
       "\n",
       "    .dataframe tbody tr th {\n",
       "        vertical-align: top;\n",
       "    }\n",
       "\n",
       "    .dataframe thead th {\n",
       "        text-align: right;\n",
       "    }\n",
       "</style>\n",
       "<table border=\"1\" class=\"dataframe\">\n",
       "  <thead>\n",
       "    <tr style=\"text-align: right;\">\n",
       "      <th></th>\n",
       "      <th>Models</th>\n",
       "      <th>Accuracy</th>\n",
       "    </tr>\n",
       "  </thead>\n",
       "  <tbody>\n",
       "    <tr>\n",
       "      <th>1</th>\n",
       "      <td>FI_1Lyr</td>\n",
       "      <td>0.814722</td>\n",
       "    </tr>\n",
       "    <tr>\n",
       "      <th>2</th>\n",
       "      <td>FI_1Lyr_Flatten</td>\n",
       "      <td>0.681556</td>\n",
       "    </tr>\n",
       "    <tr>\n",
       "      <th>3</th>\n",
       "      <td>CI_1Lyr</td>\n",
       "      <td>0.838056</td>\n",
       "    </tr>\n",
       "    <tr>\n",
       "      <th>4</th>\n",
       "      <td>FI_2Lyrs</td>\n",
       "      <td>0.824722</td>\n",
       "    </tr>\n",
       "    <tr>\n",
       "      <th>5</th>\n",
       "      <td>CI_2Lyrs</td>\n",
       "      <td>0.844278</td>\n",
       "    </tr>\n",
       "    <tr>\n",
       "      <th>6</th>\n",
       "      <td>FI_3Lyrs</td>\n",
       "      <td>0.823944</td>\n",
       "    </tr>\n",
       "    <tr>\n",
       "      <th>7</th>\n",
       "      <td>CI_3Lyrs</td>\n",
       "      <td>0.845889</td>\n",
       "    </tr>\n",
       "  </tbody>\n",
       "</table>\n",
       "</div>"
      ],
      "text/plain": [
       "            Models  Accuracy\n",
       "1          FI_1Lyr  0.814722\n",
       "2  FI_1Lyr_Flatten  0.681556\n",
       "3          CI_1Lyr  0.838056\n",
       "4         FI_2Lyrs  0.824722\n",
       "5         CI_2Lyrs  0.844278\n",
       "6         FI_3Lyrs  0.823944\n",
       "7         CI_3Lyrs  0.845889"
      ]
     },
     "execution_count": 95,
     "metadata": {},
     "output_type": "execute_result"
    }
   ],
   "source": [
    "temp_df = pd.DataFrame({'Models':['CI_3Lyrs'], 'Accuracy': [res5[1]]},index={'7'})\n",
    "final_df= pd.concat([final_df, temp_df])\n",
    "final_df = final_df[['Models', 'Accuracy']]\n",
    "final_df"
   ]
  },
  {
   "cell_type": "markdown",
   "metadata": {},
   "source": [
    "**No significant increase in accuracy with 3 hidden layers.** "
   ]
  },
  {
   "cell_type": "markdown",
   "metadata": {},
   "source": [
    "### 4. Tuning of NN"
   ]
  },
  {
   "cell_type": "markdown",
   "metadata": {},
   "source": [
    "**Two layered networks provide better accuracy than single and three layer networks; therefore, only Two layer Neural Networks will be considered for tuning.**  "
   ]
  },
  {
   "cell_type": "markdown",
   "metadata": {},
   "source": [
    "### Tuning of NN On Full image"
   ]
  },
  {
   "cell_type": "markdown",
   "metadata": {},
   "source": [
    "    Before finalizing the NN architecture, various combinations of below parameters were tested. \n",
    "        * Sigmoid, Relu, LeakyRelu and tanh Activations were tried. \n",
    "        * he_normal and glorot_uniform kernel initializers were tried.  \n",
    "        * 0.1 to 0.5 Dropouts were tried.  \n",
    "        * Multiple combinations of Hidden neurons were tried. \n",
    "        * Adam and sgd Optimizers(with different learning and decay paramters) were tried. \n",
    "        * Various epochs(100, 200, 300, 400, 500) were tried. \n",
    "        * Various batch_size(100, 150, 200) were tried. \n",
    "        * Various values of kernel_regularizers were tried. \n",
    "        \n",
    "    Out of all these combinations, below architecture's accuracy is the highest. Therefore, retained the below architecture \n",
    "    and removed others.         "
   ]
  },
  {
   "cell_type": "code",
   "execution_count": 293,
   "metadata": {
    "scrolled": true
   },
   "outputs": [
    {
     "name": "stdout",
     "output_type": "stream",
     "text": [
      "Train on 42000 samples, validate on 60000 samples\n",
      "Epoch 1/200\n",
      "42000/42000 [==============================] - 14s 329us/sample - loss: 1.5051 - accuracy: 0.5055 - val_loss: 1.6684 - val_accuracy: 0.4260\n",
      "Epoch 2/200\n",
      "42000/42000 [==============================] - 13s 313us/sample - loss: 0.9807 - accuracy: 0.6906 - val_loss: 1.1826 - val_accuracy: 0.6306\n",
      "Epoch 3/200\n",
      "42000/42000 [==============================] - 13s 313us/sample - loss: 0.8317 - accuracy: 0.7430 - val_loss: 0.9682 - val_accuracy: 0.6995\n",
      "Epoch 4/200\n",
      "42000/42000 [==============================] - 14s 322us/sample - loss: 0.7423 - accuracy: 0.7705 - val_loss: 1.3236 - val_accuracy: 0.5747\n",
      "Epoch 5/200\n",
      "42000/42000 [==============================] - 13s 313us/sample - loss: 0.6851 - accuracy: 0.7881 - val_loss: 0.8718 - val_accuracy: 0.7247\n",
      "Epoch 6/200\n",
      "42000/42000 [==============================] - 13s 309us/sample - loss: 0.6387 - accuracy: 0.8041 - val_loss: 0.9268 - val_accuracy: 0.7014\n",
      "Epoch 7/200\n",
      "42000/42000 [==============================] - 13s 310us/sample - loss: 0.6055 - accuracy: 0.8133 - val_loss: 0.7623 - val_accuracy: 0.7530\n",
      "Epoch 8/200\n",
      "42000/42000 [==============================] - 14s 326us/sample - loss: 0.5733 - accuracy: 0.8229 - val_loss: 0.6786 - val_accuracy: 0.7933\n",
      "Epoch 9/200\n",
      "42000/42000 [==============================] - 14s 327us/sample - loss: 0.5561 - accuracy: 0.8288 - val_loss: 0.6352 - val_accuracy: 0.8027\n",
      "Epoch 10/200\n",
      "42000/42000 [==============================] - 13s 320us/sample - loss: 0.5253 - accuracy: 0.8375 - val_loss: 0.6406 - val_accuracy: 0.8069\n",
      "Epoch 11/200\n",
      "42000/42000 [==============================] - 14s 328us/sample - loss: 0.5060 - accuracy: 0.8438 - val_loss: 0.6813 - val_accuracy: 0.7800\n",
      "Epoch 12/200\n",
      "42000/42000 [==============================] - 13s 312us/sample - loss: 0.4860 - accuracy: 0.8508 - val_loss: 0.5940 - val_accuracy: 0.8129\n",
      "Epoch 13/200\n",
      "42000/42000 [==============================] - 13s 305us/sample - loss: 0.4768 - accuracy: 0.8535 - val_loss: 0.5530 - val_accuracy: 0.8286\n",
      "Epoch 14/200\n",
      "42000/42000 [==============================] - 13s 306us/sample - loss: 0.4560 - accuracy: 0.8596 - val_loss: 0.5452 - val_accuracy: 0.8357\n",
      "Epoch 15/200\n",
      "42000/42000 [==============================] - 13s 307us/sample - loss: 0.4506 - accuracy: 0.8605 - val_loss: 0.5820 - val_accuracy: 0.8127\n",
      "Epoch 16/200\n",
      "42000/42000 [==============================] - 13s 307us/sample - loss: 0.4354 - accuracy: 0.8647 - val_loss: 0.5814 - val_accuracy: 0.8233\n",
      "Epoch 17/200\n",
      "42000/42000 [==============================] - 13s 308us/sample - loss: 0.4173 - accuracy: 0.8707 - val_loss: 0.4948 - val_accuracy: 0.8508\n",
      "Epoch 18/200\n",
      "42000/42000 [==============================] - 14s 329us/sample - loss: 0.4111 - accuracy: 0.8730 - val_loss: 0.4792 - val_accuracy: 0.8573\n",
      "Epoch 19/200\n",
      "42000/42000 [==============================] - 14s 339us/sample - loss: 0.4035 - accuracy: 0.8745 - val_loss: 0.5349 - val_accuracy: 0.8342\n",
      "Epoch 20/200\n",
      "42000/42000 [==============================] - 14s 343us/sample - loss: 0.3904 - accuracy: 0.8787 - val_loss: 0.4412 - val_accuracy: 0.8683\n",
      "Epoch 21/200\n",
      "42000/42000 [==============================] - 14s 343us/sample - loss: 0.3791 - accuracy: 0.8818 - val_loss: 0.4753 - val_accuracy: 0.8525\n",
      "Epoch 22/200\n",
      "42000/42000 [==============================] - 14s 344us/sample - loss: 0.3787 - accuracy: 0.8813 - val_loss: 0.4223 - val_accuracy: 0.8746\n",
      "Epoch 23/200\n",
      "42000/42000 [==============================] - 15s 346us/sample - loss: 0.3633 - accuracy: 0.8865 - val_loss: 0.4467 - val_accuracy: 0.8617\n",
      "Epoch 24/200\n",
      "42000/42000 [==============================] - 15s 354us/sample - loss: 0.3538 - accuracy: 0.8900 - val_loss: 0.4037 - val_accuracy: 0.8835\n",
      "Epoch 25/200\n",
      "42000/42000 [==============================] - 14s 345us/sample - loss: 0.3585 - accuracy: 0.8892 - val_loss: 0.4049 - val_accuracy: 0.8798\n",
      "Epoch 26/200\n",
      "42000/42000 [==============================] - 14s 344us/sample - loss: 0.3452 - accuracy: 0.8933 - val_loss: 0.4769 - val_accuracy: 0.8515\n",
      "Epoch 27/200\n",
      "42000/42000 [==============================] - 15s 346us/sample - loss: 0.3385 - accuracy: 0.8929 - val_loss: 0.4400 - val_accuracy: 0.8633\n",
      "Epoch 28/200\n",
      "42000/42000 [==============================] - 14s 344us/sample - loss: 0.3341 - accuracy: 0.8956 - val_loss: 0.4565 - val_accuracy: 0.8648\n",
      "Epoch 29/200\n",
      "42000/42000 [==============================] - 15s 348us/sample - loss: 0.3281 - accuracy: 0.8964 - val_loss: 0.3729 - val_accuracy: 0.8921\n",
      "Epoch 30/200\n",
      "42000/42000 [==============================] - 15s 348us/sample - loss: 0.3230 - accuracy: 0.8988 - val_loss: 0.3421 - val_accuracy: 0.9040\n",
      "Epoch 31/200\n",
      "42000/42000 [==============================] - 15s 360us/sample - loss: 0.3100 - accuracy: 0.9011 - val_loss: 0.3680 - val_accuracy: 0.8892\n",
      "Epoch 32/200\n",
      "42000/42000 [==============================] - 15s 348us/sample - loss: 0.3085 - accuracy: 0.9032 - val_loss: 0.3422 - val_accuracy: 0.9026\n",
      "Epoch 33/200\n",
      "42000/42000 [==============================] - 15s 351us/sample - loss: 0.3124 - accuracy: 0.9021 - val_loss: 0.3498 - val_accuracy: 0.8974\n",
      "Epoch 34/200\n",
      "42000/42000 [==============================] - 15s 348us/sample - loss: 0.3027 - accuracy: 0.9056 - val_loss: 0.4133 - val_accuracy: 0.8706\n",
      "Epoch 35/200\n",
      "42000/42000 [==============================] - 15s 352us/sample - loss: 0.2982 - accuracy: 0.9050 - val_loss: 0.3291 - val_accuracy: 0.9072\n",
      "Epoch 36/200\n",
      "42000/42000 [==============================] - 15s 350us/sample - loss: 0.2945 - accuracy: 0.9071 - val_loss: 0.3871 - val_accuracy: 0.8838\n",
      "Epoch 37/200\n",
      "42000/42000 [==============================] - 15s 349us/sample - loss: 0.2883 - accuracy: 0.9108 - val_loss: 0.3577 - val_accuracy: 0.8947\n",
      "Epoch 38/200\n",
      "42000/42000 [==============================] - 15s 349us/sample - loss: 0.2868 - accuracy: 0.9096 - val_loss: 0.3302 - val_accuracy: 0.9036\n",
      "Epoch 39/200\n",
      "42000/42000 [==============================] - 15s 353us/sample - loss: 0.2808 - accuracy: 0.9092 - val_loss: 0.3223 - val_accuracy: 0.9074\n",
      "Epoch 40/200\n",
      "42000/42000 [==============================] - 15s 352us/sample - loss: 0.2842 - accuracy: 0.9090 - val_loss: 0.3411 - val_accuracy: 0.9030\n",
      "Epoch 41/200\n",
      "42000/42000 [==============================] - 15s 350us/sample - loss: 0.2749 - accuracy: 0.9129 - val_loss: 0.3439 - val_accuracy: 0.8981\n",
      "Epoch 42/200\n",
      "42000/42000 [==============================] - 15s 349us/sample - loss: 0.2737 - accuracy: 0.9139 - val_loss: 0.3253 - val_accuracy: 0.9047\n",
      "Epoch 43/200\n",
      "42000/42000 [==============================] - 15s 353us/sample - loss: 0.2713 - accuracy: 0.9141 - val_loss: 0.3560 - val_accuracy: 0.8967\n",
      "Epoch 44/200\n",
      "42000/42000 [==============================] - 15s 352us/sample - loss: 0.2632 - accuracy: 0.9170 - val_loss: 0.3532 - val_accuracy: 0.8931\n",
      "Epoch 45/200\n",
      "42000/42000 [==============================] - 15s 351us/sample - loss: 0.2660 - accuracy: 0.9154 - val_loss: 0.3574 - val_accuracy: 0.8940\n",
      "Epoch 46/200\n",
      "42000/42000 [==============================] - 15s 351us/sample - loss: 0.2616 - accuracy: 0.9175 - val_loss: 0.2986 - val_accuracy: 0.9142\n",
      "Epoch 47/200\n",
      "42000/42000 [==============================] - 15s 353us/sample - loss: 0.2525 - accuracy: 0.9196 - val_loss: 0.2993 - val_accuracy: 0.9172\n",
      "Epoch 48/200\n",
      "42000/42000 [==============================] - 15s 352us/sample - loss: 0.2540 - accuracy: 0.9204 - val_loss: 0.3165 - val_accuracy: 0.9115\n",
      "Epoch 49/200\n",
      "42000/42000 [==============================] - 15s 349us/sample - loss: 0.2538 - accuracy: 0.9190 - val_loss: 0.2888 - val_accuracy: 0.9175\n",
      "Epoch 50/200\n",
      "42000/42000 [==============================] - 15s 352us/sample - loss: 0.2525 - accuracy: 0.9209 - val_loss: 0.3171 - val_accuracy: 0.9112\n",
      "Epoch 51/200\n",
      "42000/42000 [==============================] - 15s 354us/sample - loss: 0.2473 - accuracy: 0.9221 - val_loss: 0.2971 - val_accuracy: 0.9143\n",
      "Epoch 52/200\n",
      "42000/42000 [==============================] - 15s 352us/sample - loss: 0.2431 - accuracy: 0.9240 - val_loss: 0.2982 - val_accuracy: 0.9153\n",
      "Epoch 53/200\n",
      "42000/42000 [==============================] - 15s 351us/sample - loss: 0.2392 - accuracy: 0.9244 - val_loss: 0.2847 - val_accuracy: 0.9208\n",
      "Epoch 54/200\n",
      "42000/42000 [==============================] - 14s 342us/sample - loss: 0.2412 - accuracy: 0.9222 - val_loss: 0.2848 - val_accuracy: 0.9206\n",
      "Epoch 55/200\n",
      "42000/42000 [==============================] - 14s 343us/sample - loss: 0.2376 - accuracy: 0.9257 - val_loss: 0.2557 - val_accuracy: 0.9302\n",
      "Epoch 56/200\n",
      "42000/42000 [==============================] - 15s 345us/sample - loss: 0.2350 - accuracy: 0.9252 - val_loss: 0.2764 - val_accuracy: 0.9230\n",
      "Epoch 57/200\n",
      "42000/42000 [==============================] - 14s 343us/sample - loss: 0.2302 - accuracy: 0.9261 - val_loss: 0.2839 - val_accuracy: 0.9206\n",
      "Epoch 58/200\n",
      "42000/42000 [==============================] - 14s 342us/sample - loss: 0.2318 - accuracy: 0.9256 - val_loss: 0.2670 - val_accuracy: 0.9271\n",
      "Epoch 59/200\n",
      "42000/42000 [==============================] - 14s 342us/sample - loss: 0.2276 - accuracy: 0.9276 - val_loss: 0.2637 - val_accuracy: 0.9275\n",
      "Epoch 60/200\n",
      "42000/42000 [==============================] - 15s 347us/sample - loss: 0.2304 - accuracy: 0.9244 - val_loss: 0.2758 - val_accuracy: 0.9250\n",
      "Epoch 61/200\n",
      "42000/42000 [==============================] - 15s 346us/sample - loss: 0.2226 - accuracy: 0.9301 - val_loss: 0.2756 - val_accuracy: 0.9236\n",
      "Epoch 62/200\n",
      "42000/42000 [==============================] - 15s 345us/sample - loss: 0.2215 - accuracy: 0.9290 - val_loss: 0.2877 - val_accuracy: 0.9190\n",
      "Epoch 63/200\n",
      "42000/42000 [==============================] - 15s 346us/sample - loss: 0.2204 - accuracy: 0.9293 - val_loss: 0.2770 - val_accuracy: 0.9218\n",
      "Epoch 64/200\n",
      "42000/42000 [==============================] - 14s 343us/sample - loss: 0.2191 - accuracy: 0.9295 - val_loss: 0.2542 - val_accuracy: 0.9307\n",
      "Epoch 65/200\n",
      "42000/42000 [==============================] - 15s 347us/sample - loss: 0.2138 - accuracy: 0.9330 - val_loss: 0.2659 - val_accuracy: 0.9267\n",
      "Epoch 66/200\n",
      "42000/42000 [==============================] - 14s 345us/sample - loss: 0.2132 - accuracy: 0.9313 - val_loss: 0.2529 - val_accuracy: 0.9325\n",
      "Epoch 67/200\n",
      "42000/42000 [==============================] - 14s 344us/sample - loss: 0.2129 - accuracy: 0.9314 - val_loss: 0.2562 - val_accuracy: 0.9298\n",
      "Epoch 68/200\n",
      "42000/42000 [==============================] - 15s 349us/sample - loss: 0.2109 - accuracy: 0.9325 - val_loss: 0.2605 - val_accuracy: 0.9292\n",
      "Epoch 69/200\n",
      "42000/42000 [==============================] - 15s 347us/sample - loss: 0.2138 - accuracy: 0.9317 - val_loss: 0.2349 - val_accuracy: 0.9403\n",
      "Epoch 70/200\n",
      "42000/42000 [==============================] - 14s 345us/sample - loss: 0.2088 - accuracy: 0.9346 - val_loss: 0.2443 - val_accuracy: 0.9334\n",
      "Epoch 71/200\n",
      "42000/42000 [==============================] - 15s 349us/sample - loss: 0.2060 - accuracy: 0.9342 - val_loss: 0.2447 - val_accuracy: 0.9336\n",
      "Epoch 72/200\n",
      "42000/42000 [==============================] - 15s 347us/sample - loss: 0.2039 - accuracy: 0.9341 - val_loss: 0.2623 - val_accuracy: 0.9277\n",
      "Epoch 73/200\n",
      "42000/42000 [==============================] - 15s 356us/sample - loss: 0.2032 - accuracy: 0.9355 - val_loss: 0.2594 - val_accuracy: 0.9296\n",
      "Epoch 74/200\n",
      "42000/42000 [==============================] - 15s 367us/sample - loss: 0.2014 - accuracy: 0.9352 - val_loss: 0.2705 - val_accuracy: 0.9250\n",
      "Epoch 75/200\n",
      "42000/42000 [==============================] - 15s 360us/sample - loss: 0.2000 - accuracy: 0.9358 - val_loss: 0.2515 - val_accuracy: 0.9305\n",
      "Epoch 76/200\n",
      "42000/42000 [==============================] - 15s 354us/sample - loss: 0.1965 - accuracy: 0.9378 - val_loss: 0.2297 - val_accuracy: 0.9395\n",
      "Epoch 77/200\n",
      "42000/42000 [==============================] - 15s 347us/sample - loss: 0.1982 - accuracy: 0.9365 - val_loss: 0.2292 - val_accuracy: 0.9393\n",
      "Epoch 78/200\n",
      "42000/42000 [==============================] - 15s 347us/sample - loss: 0.1948 - accuracy: 0.9380 - val_loss: 0.2414 - val_accuracy: 0.9358\n",
      "Epoch 79/200\n",
      "42000/42000 [==============================] - 15s 351us/sample - loss: 0.1992 - accuracy: 0.9369 - val_loss: 0.2316 - val_accuracy: 0.9397\n",
      "Epoch 80/200\n",
      "42000/42000 [==============================] - 15s 349us/sample - loss: 0.1950 - accuracy: 0.9364 - val_loss: 0.2399 - val_accuracy: 0.9366\n",
      "Epoch 81/200\n",
      "42000/42000 [==============================] - 15s 349us/sample - loss: 0.1945 - accuracy: 0.9373 - val_loss: 0.2475 - val_accuracy: 0.9329\n",
      "Epoch 82/200\n",
      "42000/42000 [==============================] - 15s 347us/sample - loss: 0.1937 - accuracy: 0.9390 - val_loss: 0.2355 - val_accuracy: 0.9370\n",
      "Epoch 83/200\n",
      "42000/42000 [==============================] - 15s 349us/sample - loss: 0.1884 - accuracy: 0.9388 - val_loss: 0.2602 - val_accuracy: 0.9295\n",
      "Epoch 84/200\n",
      "42000/42000 [==============================] - 15s 351us/sample - loss: 0.1888 - accuracy: 0.9392 - val_loss: 0.2258 - val_accuracy: 0.9409\n",
      "Epoch 85/200\n",
      "42000/42000 [==============================] - 15s 348us/sample - loss: 0.1892 - accuracy: 0.9388 - val_loss: 0.2230 - val_accuracy: 0.9426\n",
      "Epoch 86/200\n",
      "42000/42000 [==============================] - 15s 349us/sample - loss: 0.1875 - accuracy: 0.9388 - val_loss: 0.2259 - val_accuracy: 0.9412\n",
      "Epoch 87/200\n",
      "42000/42000 [==============================] - 15s 346us/sample - loss: 0.1870 - accuracy: 0.9400 - val_loss: 0.2743 - val_accuracy: 0.9229\n",
      "Epoch 88/200\n",
      "42000/42000 [==============================] - 15s 348us/sample - loss: 0.1846 - accuracy: 0.9407 - val_loss: 0.2402 - val_accuracy: 0.9348\n",
      "Epoch 89/200\n",
      "42000/42000 [==============================] - 15s 347us/sample - loss: 0.1824 - accuracy: 0.9427 - val_loss: 0.2212 - val_accuracy: 0.9438\n",
      "Epoch 90/200\n",
      "42000/42000 [==============================] - 15s 349us/sample - loss: 0.1829 - accuracy: 0.9409 - val_loss: 0.2215 - val_accuracy: 0.9441\n",
      "Epoch 91/200\n",
      "42000/42000 [==============================] - 14s 345us/sample - loss: 0.1831 - accuracy: 0.9410 - val_loss: 0.2223 - val_accuracy: 0.9445\n",
      "Epoch 92/200\n",
      "42000/42000 [==============================] - 15s 351us/sample - loss: 0.1785 - accuracy: 0.9410 - val_loss: 0.2136 - val_accuracy: 0.9458\n",
      "Epoch 93/200\n",
      "42000/42000 [==============================] - 15s 358us/sample - loss: 0.1748 - accuracy: 0.9443 - val_loss: 0.2162 - val_accuracy: 0.9456\n",
      "Epoch 94/200\n",
      "42000/42000 [==============================] - 15s 347us/sample - loss: 0.1792 - accuracy: 0.9423 - val_loss: 0.2251 - val_accuracy: 0.9426\n",
      "Epoch 95/200\n",
      "42000/42000 [==============================] - 15s 346us/sample - loss: 0.1750 - accuracy: 0.9433 - val_loss: 0.2108 - val_accuracy: 0.9483\n",
      "Epoch 96/200\n",
      "42000/42000 [==============================] - 15s 348us/sample - loss: 0.1756 - accuracy: 0.9431 - val_loss: 0.2188 - val_accuracy: 0.9443\n",
      "Epoch 97/200\n",
      "42000/42000 [==============================] - 15s 367us/sample - loss: 0.1750 - accuracy: 0.9439 - val_loss: 0.2199 - val_accuracy: 0.9428\n",
      "Epoch 98/200\n",
      "42000/42000 [==============================] - 15s 348us/sample - loss: 0.1768 - accuracy: 0.9430 - val_loss: 0.2313 - val_accuracy: 0.9394\n",
      "Epoch 99/200\n",
      "42000/42000 [==============================] - 14s 345us/sample - loss: 0.1727 - accuracy: 0.9455 - val_loss: 0.2088 - val_accuracy: 0.9473\n",
      "Epoch 100/200\n",
      "42000/42000 [==============================] - 15s 350us/sample - loss: 0.1736 - accuracy: 0.9442 - val_loss: 0.2253 - val_accuracy: 0.9416\n",
      "Epoch 101/200\n",
      "42000/42000 [==============================] - 15s 350us/sample - loss: 0.1722 - accuracy: 0.9448 - val_loss: 0.2314 - val_accuracy: 0.9381\n",
      "Epoch 102/200\n",
      "42000/42000 [==============================] - 15s 346us/sample - loss: 0.1717 - accuracy: 0.9452 - val_loss: 0.2158 - val_accuracy: 0.9457\n",
      "Epoch 103/200\n",
      "42000/42000 [==============================] - 14s 344us/sample - loss: 0.1716 - accuracy: 0.9443 - val_loss: 0.2323 - val_accuracy: 0.9399\n",
      "Epoch 104/200\n",
      "42000/42000 [==============================] - 15s 347us/sample - loss: 0.1686 - accuracy: 0.9445 - val_loss: 0.2227 - val_accuracy: 0.9416\n",
      "Epoch 105/200\n",
      "42000/42000 [==============================] - 15s 347us/sample - loss: 0.1627 - accuracy: 0.9482 - val_loss: 0.2065 - val_accuracy: 0.9488\n",
      "Epoch 106/200\n",
      "42000/42000 [==============================] - 14s 340us/sample - loss: 0.1669 - accuracy: 0.9461 - val_loss: 0.2127 - val_accuracy: 0.9470\n",
      "Epoch 107/200\n"
     ]
    },
    {
     "name": "stdout",
     "output_type": "stream",
     "text": [
      "42000/42000 [==============================] - 15s 367us/sample - loss: 0.1655 - accuracy: 0.9476 - val_loss: 0.2112 - val_accuracy: 0.9470\n",
      "Epoch 108/200\n",
      "42000/42000 [==============================] - 14s 342us/sample - loss: 0.1665 - accuracy: 0.9457 - val_loss: 0.2037 - val_accuracy: 0.9501\n",
      "Epoch 109/200\n",
      "42000/42000 [==============================] - 14s 342us/sample - loss: 0.1632 - accuracy: 0.9485 - val_loss: 0.2080 - val_accuracy: 0.9491\n",
      "Epoch 110/200\n",
      "42000/42000 [==============================] - 14s 344us/sample - loss: 0.1632 - accuracy: 0.9472 - val_loss: 0.2054 - val_accuracy: 0.9495\n",
      "Epoch 111/200\n",
      "42000/42000 [==============================] - 14s 342us/sample - loss: 0.1619 - accuracy: 0.9470 - val_loss: 0.2097 - val_accuracy: 0.9481\n",
      "Epoch 112/200\n",
      "42000/42000 [==============================] - 15s 348us/sample - loss: 0.1647 - accuracy: 0.9464 - val_loss: 0.2230 - val_accuracy: 0.9417\n",
      "Epoch 113/200\n",
      "42000/42000 [==============================] - 15s 345us/sample - loss: 0.1604 - accuracy: 0.9488 - val_loss: 0.2120 - val_accuracy: 0.9461\n",
      "Epoch 114/200\n",
      "42000/42000 [==============================] - 14s 344us/sample - loss: 0.1593 - accuracy: 0.9487 - val_loss: 0.2028 - val_accuracy: 0.9507\n",
      "Epoch 115/200\n",
      "42000/42000 [==============================] - 15s 345us/sample - loss: 0.1590 - accuracy: 0.9484 - val_loss: 0.2007 - val_accuracy: 0.9512\n",
      "Epoch 116/200\n",
      "42000/42000 [==============================] - 14s 345us/sample - loss: 0.1570 - accuracy: 0.9490 - val_loss: 0.1919 - val_accuracy: 0.9544\n",
      "Epoch 117/200\n",
      "42000/42000 [==============================] - 15s 346us/sample - loss: 0.1594 - accuracy: 0.9500 - val_loss: 0.2005 - val_accuracy: 0.9501\n",
      "Epoch 118/200\n",
      "42000/42000 [==============================] - 15s 347us/sample - loss: 0.1538 - accuracy: 0.9504 - val_loss: 0.2055 - val_accuracy: 0.9494\n",
      "Epoch 119/200\n",
      "42000/42000 [==============================] - 15s 348us/sample - loss: 0.1552 - accuracy: 0.9509 - val_loss: 0.2064 - val_accuracy: 0.9480\n",
      "Epoch 120/200\n",
      "42000/42000 [==============================] - 14s 345us/sample - loss: 0.1574 - accuracy: 0.9479 - val_loss: 0.2063 - val_accuracy: 0.9492\n",
      "Epoch 121/200\n",
      "42000/42000 [==============================] - 14s 345us/sample - loss: 0.1579 - accuracy: 0.9500 - val_loss: 0.1928 - val_accuracy: 0.9539\n",
      "Epoch 122/200\n",
      "42000/42000 [==============================] - 15s 346us/sample - loss: 0.1541 - accuracy: 0.9495 - val_loss: 0.1994 - val_accuracy: 0.9527\n",
      "Epoch 123/200\n",
      "42000/42000 [==============================] - 14s 344us/sample - loss: 0.1521 - accuracy: 0.9508 - val_loss: 0.1997 - val_accuracy: 0.9506\n",
      "Epoch 124/200\n",
      "42000/42000 [==============================] - 14s 344us/sample - loss: 0.1533 - accuracy: 0.9500 - val_loss: 0.2066 - val_accuracy: 0.9493\n",
      "Epoch 125/200\n",
      "42000/42000 [==============================] - 15s 347us/sample - loss: 0.1541 - accuracy: 0.9511 - val_loss: 0.1920 - val_accuracy: 0.9545\n",
      "Epoch 126/200\n",
      "42000/42000 [==============================] - 15s 345us/sample - loss: 0.1520 - accuracy: 0.9513 - val_loss: 0.1942 - val_accuracy: 0.9525\n",
      "Epoch 127/200\n",
      "42000/42000 [==============================] - 15s 346us/sample - loss: 0.1502 - accuracy: 0.9515 - val_loss: 0.1919 - val_accuracy: 0.9547\n",
      "Epoch 128/200\n",
      "42000/42000 [==============================] - 14s 343us/sample - loss: 0.1479 - accuracy: 0.9520 - val_loss: 0.1944 - val_accuracy: 0.9538\n",
      "Epoch 129/200\n",
      "42000/42000 [==============================] - 14s 342us/sample - loss: 0.1484 - accuracy: 0.9519 - val_loss: 0.2026 - val_accuracy: 0.9509\n",
      "Epoch 130/200\n",
      "42000/42000 [==============================] - 14s 344us/sample - loss: 0.1510 - accuracy: 0.9514 - val_loss: 0.1914 - val_accuracy: 0.9550\n",
      "Epoch 131/200\n",
      "42000/42000 [==============================] - 14s 343us/sample - loss: 0.1484 - accuracy: 0.9514 - val_loss: 0.1997 - val_accuracy: 0.9508\n",
      "Epoch 132/200\n",
      "42000/42000 [==============================] - 14s 341us/sample - loss: 0.1468 - accuracy: 0.9532 - val_loss: 0.2021 - val_accuracy: 0.9511\n",
      "Epoch 133/200\n",
      "42000/42000 [==============================] - 15s 348us/sample - loss: 0.1471 - accuracy: 0.9532 - val_loss: 0.1930 - val_accuracy: 0.9532\n",
      "Epoch 134/200\n",
      "42000/42000 [==============================] - 14s 336us/sample - loss: 0.1452 - accuracy: 0.9530 - val_loss: 0.1905 - val_accuracy: 0.9556\n",
      "Epoch 135/200\n",
      "42000/42000 [==============================] - 14s 340us/sample - loss: 0.1495 - accuracy: 0.9516 - val_loss: 0.1951 - val_accuracy: 0.9534\n",
      "Epoch 136/200\n",
      "42000/42000 [==============================] - 14s 340us/sample - loss: 0.1481 - accuracy: 0.9520 - val_loss: 0.2040 - val_accuracy: 0.9501\n",
      "Epoch 137/200\n",
      "42000/42000 [==============================] - 14s 342us/sample - loss: 0.1437 - accuracy: 0.9538 - val_loss: 0.1909 - val_accuracy: 0.9550\n",
      "Epoch 138/200\n",
      "42000/42000 [==============================] - 14s 341us/sample - loss: 0.1464 - accuracy: 0.9523 - val_loss: 0.1982 - val_accuracy: 0.9522\n",
      "Epoch 139/200\n",
      "42000/42000 [==============================] - 14s 341us/sample - loss: 0.1434 - accuracy: 0.9540 - val_loss: 0.1946 - val_accuracy: 0.9526\n",
      "Epoch 140/200\n",
      "42000/42000 [==============================] - 14s 340us/sample - loss: 0.1443 - accuracy: 0.9540 - val_loss: 0.2284 - val_accuracy: 0.9409\n",
      "Epoch 141/200\n",
      "42000/42000 [==============================] - 14s 340us/sample - loss: 0.1418 - accuracy: 0.9558 - val_loss: 0.1936 - val_accuracy: 0.9543\n",
      "Epoch 142/200\n",
      "42000/42000 [==============================] - 14s 342us/sample - loss: 0.1418 - accuracy: 0.9549 - val_loss: 0.1843 - val_accuracy: 0.9577\n",
      "Epoch 143/200\n",
      "42000/42000 [==============================] - 14s 342us/sample - loss: 0.1383 - accuracy: 0.9565 - val_loss: 0.2017 - val_accuracy: 0.9510\n",
      "Epoch 144/200\n",
      "42000/42000 [==============================] - 14s 342us/sample - loss: 0.1426 - accuracy: 0.9538 - val_loss: 0.1930 - val_accuracy: 0.9539\n",
      "Epoch 145/200\n",
      "42000/42000 [==============================] - 14s 343us/sample - loss: 0.1387 - accuracy: 0.9558 - val_loss: 0.1950 - val_accuracy: 0.9536\n",
      "Epoch 146/200\n",
      "42000/42000 [==============================] - 14s 345us/sample - loss: 0.1389 - accuracy: 0.9542 - val_loss: 0.2094 - val_accuracy: 0.9493\n",
      "Epoch 147/200\n",
      "42000/42000 [==============================] - 14s 343us/sample - loss: 0.1408 - accuracy: 0.9547 - val_loss: 0.1865 - val_accuracy: 0.9567\n",
      "Epoch 148/200\n",
      "42000/42000 [==============================] - 14s 343us/sample - loss: 0.1383 - accuracy: 0.9557 - val_loss: 0.1876 - val_accuracy: 0.9555\n",
      "Epoch 149/200\n",
      "42000/42000 [==============================] - 14s 338us/sample - loss: 0.1361 - accuracy: 0.9553 - val_loss: 0.1924 - val_accuracy: 0.9548\n",
      "Epoch 150/200\n",
      "42000/42000 [==============================] - 14s 341us/sample - loss: 0.1398 - accuracy: 0.9558 - val_loss: 0.1993 - val_accuracy: 0.9515\n",
      "Epoch 151/200\n",
      "42000/42000 [==============================] - 14s 342us/sample - loss: 0.1392 - accuracy: 0.9552 - val_loss: 0.1973 - val_accuracy: 0.9524\n",
      "Epoch 152/200\n",
      "42000/42000 [==============================] - 14s 341us/sample - loss: 0.1362 - accuracy: 0.9568 - val_loss: 0.1866 - val_accuracy: 0.9562\n",
      "Epoch 153/200\n",
      "42000/42000 [==============================] - 14s 340us/sample - loss: 0.1358 - accuracy: 0.9566 - val_loss: 0.1916 - val_accuracy: 0.9547\n",
      "Epoch 154/200\n",
      "42000/42000 [==============================] - 14s 345us/sample - loss: 0.1365 - accuracy: 0.9563 - val_loss: 0.1861 - val_accuracy: 0.9570\n",
      "Epoch 155/200\n",
      "42000/42000 [==============================] - 14s 343us/sample - loss: 0.1335 - accuracy: 0.9580 - val_loss: 0.1857 - val_accuracy: 0.9564\n",
      "Epoch 156/200\n",
      "42000/42000 [==============================] - 15s 349us/sample - loss: 0.1354 - accuracy: 0.9569 - val_loss: 0.1929 - val_accuracy: 0.9550\n",
      "Epoch 157/200\n",
      "42000/42000 [==============================] - 14s 344us/sample - loss: 0.1365 - accuracy: 0.9559 - val_loss: 0.1889 - val_accuracy: 0.9562\n",
      "Epoch 158/200\n",
      "42000/42000 [==============================] - 14s 343us/sample - loss: 0.1352 - accuracy: 0.9560 - val_loss: 0.1808 - val_accuracy: 0.9586\n",
      "Epoch 159/200\n",
      "42000/42000 [==============================] - 14s 342us/sample - loss: 0.1332 - accuracy: 0.9573 - val_loss: 0.1817 - val_accuracy: 0.9586\n",
      "Epoch 160/200\n",
      "42000/42000 [==============================] - 14s 339us/sample - loss: 0.1356 - accuracy: 0.9560 - val_loss: 0.1908 - val_accuracy: 0.9553\n",
      "Epoch 161/200\n",
      "42000/42000 [==============================] - 14s 340us/sample - loss: 0.1384 - accuracy: 0.9550 - val_loss: 0.1899 - val_accuracy: 0.9556\n",
      "Epoch 162/200\n",
      "42000/42000 [==============================] - 14s 344us/sample - loss: 0.1323 - accuracy: 0.9569 - val_loss: 0.1930 - val_accuracy: 0.9546\n",
      "Epoch 163/200\n",
      "42000/42000 [==============================] - 15s 349us/sample - loss: 0.1332 - accuracy: 0.9569 - val_loss: 0.1932 - val_accuracy: 0.9552\n",
      "Epoch 164/200\n",
      "42000/42000 [==============================] - 15s 347us/sample - loss: 0.1308 - accuracy: 0.9575 - val_loss: 0.1938 - val_accuracy: 0.9547\n",
      "Epoch 165/200\n",
      "42000/42000 [==============================] - 14s 341us/sample - loss: 0.1336 - accuracy: 0.9572 - val_loss: 0.1864 - val_accuracy: 0.9567\n",
      "Epoch 166/200\n",
      "42000/42000 [==============================] - 14s 345us/sample - loss: 0.1287 - accuracy: 0.9595 - val_loss: 0.1843 - val_accuracy: 0.9569\n",
      "Epoch 167/200\n",
      "42000/42000 [==============================] - 14s 345us/sample - loss: 0.1292 - accuracy: 0.9588 - val_loss: 0.1857 - val_accuracy: 0.9568\n",
      "Epoch 168/200\n",
      "42000/42000 [==============================] - 15s 348us/sample - loss: 0.1313 - accuracy: 0.9571 - val_loss: 0.1814 - val_accuracy: 0.9589\n",
      "Epoch 169/200\n",
      "42000/42000 [==============================] - 14s 343us/sample - loss: 0.1294 - accuracy: 0.9589 - val_loss: 0.1882 - val_accuracy: 0.9558\n",
      "Epoch 170/200\n",
      "42000/42000 [==============================] - 14s 344us/sample - loss: 0.1308 - accuracy: 0.9573 - val_loss: 0.1986 - val_accuracy: 0.9535\n",
      "Epoch 171/200\n",
      "42000/42000 [==============================] - 14s 345us/sample - loss: 0.1298 - accuracy: 0.9578 - val_loss: 0.1928 - val_accuracy: 0.9543\n",
      "Epoch 172/200\n",
      "42000/42000 [==============================] - 15s 347us/sample - loss: 0.1313 - accuracy: 0.9580 - val_loss: 0.1810 - val_accuracy: 0.9585\n",
      "Epoch 173/200\n",
      "42000/42000 [==============================] - 15s 347us/sample - loss: 0.1300 - accuracy: 0.9578 - val_loss: 0.1849 - val_accuracy: 0.9574\n",
      "Epoch 174/200\n",
      "42000/42000 [==============================] - 15s 352us/sample - loss: 0.1290 - accuracy: 0.9590 - val_loss: 0.1924 - val_accuracy: 0.9541\n",
      "Epoch 175/200\n",
      "42000/42000 [==============================] - 16s 382us/sample - loss: 0.1257 - accuracy: 0.9596 - val_loss: 0.1844 - val_accuracy: 0.9578\n",
      "Epoch 176/200\n",
      "42000/42000 [==============================] - 16s 372us/sample - loss: 0.1295 - accuracy: 0.9577 - val_loss: 0.1831 - val_accuracy: 0.9584\n",
      "Epoch 177/200\n",
      "42000/42000 [==============================] - 16s 381us/sample - loss: 0.1227 - accuracy: 0.9604 - val_loss: 0.1831 - val_accuracy: 0.9583\n",
      "Epoch 178/200\n",
      "42000/42000 [==============================] - 16s 383us/sample - loss: 0.1259 - accuracy: 0.9597 - val_loss: 0.1896 - val_accuracy: 0.9558\n",
      "Epoch 179/200\n",
      "42000/42000 [==============================] - 16s 380us/sample - loss: 0.1245 - accuracy: 0.9598 - val_loss: 0.1901 - val_accuracy: 0.9561\n",
      "Epoch 180/200\n",
      "42000/42000 [==============================] - 16s 372us/sample - loss: 0.1269 - accuracy: 0.9590 - val_loss: 0.1806 - val_accuracy: 0.9590\n",
      "Epoch 181/200\n",
      "42000/42000 [==============================] - 16s 380us/sample - loss: 0.1246 - accuracy: 0.9602 - val_loss: 0.1877 - val_accuracy: 0.9561\n",
      "Epoch 182/200\n",
      "42000/42000 [==============================] - 14s 341us/sample - loss: 0.1232 - accuracy: 0.9602 - val_loss: 0.1803 - val_accuracy: 0.9593\n",
      "Epoch 183/200\n",
      "42000/42000 [==============================] - 14s 342us/sample - loss: 0.1261 - accuracy: 0.9581 - val_loss: 0.1860 - val_accuracy: 0.9573\n",
      "Epoch 184/200\n",
      "42000/42000 [==============================] - 14s 339us/sample - loss: 0.1249 - accuracy: 0.9597 - val_loss: 0.1897 - val_accuracy: 0.9557\n",
      "Epoch 185/200\n",
      "42000/42000 [==============================] - 14s 340us/sample - loss: 0.1240 - accuracy: 0.9598 - val_loss: 0.1803 - val_accuracy: 0.9594\n",
      "Epoch 186/200\n",
      "42000/42000 [==============================] - 14s 340us/sample - loss: 0.1229 - accuracy: 0.9608 - val_loss: 0.1791 - val_accuracy: 0.9604\n",
      "Epoch 187/200\n",
      "42000/42000 [==============================] - 14s 339us/sample - loss: 0.1261 - accuracy: 0.9580 - val_loss: 0.1943 - val_accuracy: 0.9541\n",
      "Epoch 188/200\n",
      "42000/42000 [==============================] - 15s 352us/sample - loss: 0.1225 - accuracy: 0.9605 - val_loss: 0.1803 - val_accuracy: 0.9596\n",
      "Epoch 189/200\n",
      "42000/42000 [==============================] - 14s 336us/sample - loss: 0.1209 - accuracy: 0.9617 - val_loss: 0.1875 - val_accuracy: 0.9566\n",
      "Epoch 190/200\n",
      "42000/42000 [==============================] - 14s 336us/sample - loss: 0.1218 - accuracy: 0.9617 - val_loss: 0.1850 - val_accuracy: 0.9572\n",
      "Epoch 191/200\n",
      "42000/42000 [==============================] - 14s 338us/sample - loss: 0.1221 - accuracy: 0.9611 - val_loss: 0.1891 - val_accuracy: 0.9562\n",
      "Epoch 192/200\n",
      "42000/42000 [==============================] - 16s 392us/sample - loss: 0.1208 - accuracy: 0.9608 - val_loss: 0.1856 - val_accuracy: 0.9580\n",
      "Epoch 193/200\n",
      "42000/42000 [==============================] - 16s 387us/sample - loss: 0.1237 - accuracy: 0.9593 - val_loss: 0.1789 - val_accuracy: 0.9596\n",
      "Epoch 194/200\n",
      "42000/42000 [==============================] - 16s 382us/sample - loss: 0.1192 - accuracy: 0.9625 - val_loss: 0.1832 - val_accuracy: 0.9590\n",
      "Epoch 195/200\n",
      "42000/42000 [==============================] - 15s 362us/sample - loss: 0.1219 - accuracy: 0.9616 - val_loss: 0.1808 - val_accuracy: 0.9590\n",
      "Epoch 196/200\n",
      "42000/42000 [==============================] - 17s 395us/sample - loss: 0.1192 - accuracy: 0.9620 - val_loss: 0.1819 - val_accuracy: 0.9587\n",
      "Epoch 197/200\n",
      "42000/42000 [==============================] - 16s 392us/sample - loss: 0.1181 - accuracy: 0.9626 - val_loss: 0.1811 - val_accuracy: 0.9594\n",
      "Epoch 198/200\n",
      "42000/42000 [==============================] - 16s 380us/sample - loss: 0.1208 - accuracy: 0.9611 - val_loss: 0.1820 - val_accuracy: 0.9585\n",
      "Epoch 199/200\n",
      "42000/42000 [==============================] - 16s 376us/sample - loss: 0.1222 - accuracy: 0.9603 - val_loss: 0.1886 - val_accuracy: 0.9569\n",
      "Epoch 200/200\n",
      "42000/42000 [==============================] - 15s 358us/sample - loss: 0.1224 - accuracy: 0.9610 - val_loss: 0.1796 - val_accuracy: 0.9590\n"
     ]
    },
    {
     "data": {
      "text/plain": [
       "<tensorflow.python.keras.callbacks.History at 0x20d9676ccf8>"
      ]
     },
     "execution_count": 293,
     "metadata": {},
     "output_type": "execute_result"
    }
   ],
   "source": [
    "# finalized NN architecture for Full image data\n",
    "tf.keras.backend.clear_session()\n",
    "\n",
    "modta = Sequential(Flatten()) #Flatten layer\n",
    "modta.add(Dense(1024, kernel_initializer='he_normal')) #First hidden layer with 1024 neurons, equal to input neurons. \n",
    "modta.add(BatchNormalization()) \n",
    "modta.add(LeakyReLU(alpha=0.05)) #activation function Leakyrelu.\n",
    "modta.add(Dropout(0.3)) \n",
    "\n",
    "modta.add(Dense(1024, kernel_initializer='he_normal')) #Second hidden layer with 1024 neurons. \n",
    "modta.add(BatchNormalization()) \n",
    "modta.add(LeakyReLU(alpha=0.05)) #activation function Leakyrelu.\n",
    "modta.add(Dropout(0.3))\n",
    "\n",
    "modta.add(Dense(10)) #output layer with 10 neurons since we have 10 different classes\n",
    "modta.add(Activation('softmax'))\n",
    "\n",
    "adam1 = optimizers.Adam(lr = 0.001,beta_2=0.999, decay=0.001, amsgrad=False) # Updated Adam Optimizers default values \n",
    "modta.compile(optimizer=adam1, loss='categorical_crossentropy', metrics=['accuracy'])\n",
    " \n",
    "modta.fit(X_train_fi, y_train, batch_size = 200, validation_data=(X_val_fi,y_val), epochs = 200) #200 epochs with batch size 200."
   ]
  },
  {
   "cell_type": "code",
   "execution_count": 294,
   "metadata": {},
   "outputs": [
    {
     "name": "stdout",
     "output_type": "stream",
     "text": [
      "18000/18000 [==============================] - 4s 210us/sample - loss: 0.5030 - accuracy: 0.8807\n"
     ]
    }
   ],
   "source": [
    "res6 = modta.evaluate(X_test_fi, y_test)"
   ]
  },
  {
   "cell_type": "code",
   "execution_count": 297,
   "metadata": {
    "scrolled": true
   },
   "outputs": [
    {
     "data": {
      "text/html": [
       "<div>\n",
       "<style scoped>\n",
       "    .dataframe tbody tr th:only-of-type {\n",
       "        vertical-align: middle;\n",
       "    }\n",
       "\n",
       "    .dataframe tbody tr th {\n",
       "        vertical-align: top;\n",
       "    }\n",
       "\n",
       "    .dataframe thead th {\n",
       "        text-align: right;\n",
       "    }\n",
       "</style>\n",
       "<table border=\"1\" class=\"dataframe\">\n",
       "  <thead>\n",
       "    <tr style=\"text-align: right;\">\n",
       "      <th></th>\n",
       "      <th>Models</th>\n",
       "      <th>Accuracy</th>\n",
       "    </tr>\n",
       "  </thead>\n",
       "  <tbody>\n",
       "    <tr>\n",
       "      <th>1</th>\n",
       "      <td>FI_1Lyr</td>\n",
       "      <td>0.814722</td>\n",
       "    </tr>\n",
       "    <tr>\n",
       "      <th>2</th>\n",
       "      <td>FI_1Lyr_Flatten</td>\n",
       "      <td>0.681556</td>\n",
       "    </tr>\n",
       "    <tr>\n",
       "      <th>3</th>\n",
       "      <td>CI_1Lyr</td>\n",
       "      <td>0.838056</td>\n",
       "    </tr>\n",
       "    <tr>\n",
       "      <th>4</th>\n",
       "      <td>FI_2Lyrs</td>\n",
       "      <td>0.824722</td>\n",
       "    </tr>\n",
       "    <tr>\n",
       "      <th>5</th>\n",
       "      <td>CI_2Lyrs</td>\n",
       "      <td>0.844278</td>\n",
       "    </tr>\n",
       "    <tr>\n",
       "      <th>6</th>\n",
       "      <td>FI_3Lyrs</td>\n",
       "      <td>0.823944</td>\n",
       "    </tr>\n",
       "    <tr>\n",
       "      <th>7</th>\n",
       "      <td>CI_3Lyrs</td>\n",
       "      <td>0.845889</td>\n",
       "    </tr>\n",
       "    <tr>\n",
       "      <th>8</th>\n",
       "      <td>FI_2Lyrs_TN</td>\n",
       "      <td>0.880722</td>\n",
       "    </tr>\n",
       "  </tbody>\n",
       "</table>\n",
       "</div>"
      ],
      "text/plain": [
       "            Models  Accuracy\n",
       "1          FI_1Lyr  0.814722\n",
       "2  FI_1Lyr_Flatten  0.681556\n",
       "3          CI_1Lyr  0.838056\n",
       "4         FI_2Lyrs  0.824722\n",
       "5         CI_2Lyrs  0.844278\n",
       "6         FI_3Lyrs  0.823944\n",
       "7         CI_3Lyrs  0.845889\n",
       "8      FI_2Lyrs_TN  0.880722"
      ]
     },
     "execution_count": 297,
     "metadata": {},
     "output_type": "execute_result"
    }
   ],
   "source": [
    "temp_df = pd.DataFrame({'Models':['FI_2Lyrs_TN'], 'Accuracy': [res6[1]]},index={'8'})\n",
    "final_df= pd.concat([final_df, temp_df])\n",
    "final_df = final_df[['Models', 'Accuracy']]\n",
    "final_df"
   ]
  },
  {
   "cell_type": "markdown",
   "metadata": {},
   "source": [
    "**NN's on full image had accuracy of 82.4%, with Tuning ACCURACY INCREASED TO 88%. Significant increase in Accuracy.**"
   ]
  },
  {
   "cell_type": "code",
   "execution_count": 311,
   "metadata": {},
   "outputs": [],
   "source": [
    "preda = modta.predict(X_test_fi)"
   ]
  },
  {
   "cell_type": "code",
   "execution_count": 318,
   "metadata": {},
   "outputs": [],
   "source": [
    "#function to print and plot the confusion matrix\n",
    "\n",
    "def plot_confusion_matrix(cm, classes,\n",
    "                          normalize=False,\n",
    "                          title='Confusion matrix',\n",
    "                          cmap=plt.cm.Blues,fmt='.1f', square=True):\n",
    "\n",
    "    plt.imshow(cm, interpolation='nearest', cmap=cmap)\n",
    "    plt.title(title)\n",
    "    plt.colorbar()\n",
    "    tick_marks = np.arange(len(classes))\n",
    "    plt.xticks(tick_marks, classes, rotation=90)\n",
    "    plt.yticks(tick_marks, classes)\n",
    "\n",
    "    if normalize:\n",
    "        cm = cm.astype('float') / cm.sum(axis=1)[:, np.newaxis]\n",
    "\n",
    "    thresh = cm.max() / 2.\n",
    "    for i, j in itertools.product(range(cm.shape[0]), range(cm.shape[1])):\n",
    "        plt.text(j, i, cm[i, j],\n",
    "                 horizontalalignment=\"center\",\n",
    "                 color=\"white\" if cm[i, j] > thresh else \"black\")\n",
    "\n",
    "    plt.tight_layout()\n",
    "    plt.ylabel('True label')\n",
    "    plt.xlabel('Predicted label')"
   ]
  },
  {
   "cell_type": "code",
   "execution_count": 319,
   "metadata": {},
   "outputs": [
    {
     "name": "stdout",
     "output_type": "stream",
     "text": [
      "[[1681   19    5    8   11    5   13   20   10   42]\n",
      " [  36 1603   19   19   40    8   13   59   11   20]\n",
      " [  14   14 1610   25   18    9    5   55   19   34]\n",
      " [  17   20   27 1414   16   89   22   38   31   45]\n",
      " [  24   35   14   15 1639    6   20   11    9   39]\n",
      " [  16   12   12   55    8 1524   59   11   28   43]\n",
      " [  53   14   13   14   24   48 1583   13   46   24]\n",
      " [  14   40   16   10   12    5    5 1680    6   20]\n",
      " [  37   27   18   34   11   24   62   12 1504   83]\n",
      " [  45   14   13   25    8   34   10   19   21 1615]]\n"
     ]
    },
    {
     "data": {
      "image/png": "[encoded data removed]",
      "text/plain": [
       "<Figure size 1152x576 with 2 Axes>"
      ]
     },
     "metadata": {
      "needs_background": "light"
     },
     "output_type": "display_data"
    }
   ],
   "source": [
    "plt.figure(figsize=(16, 8))\n",
    "Y_pred_classes21 = np.argmax(preda,axis = 1) \n",
    "# Convert validation observations to one hot vectors\n",
    "Y_true21 = np.argmax(y_test,axis = 1) \n",
    "# compute the confusion matrix\n",
    "confusion_mtx21 = confusion_matrix(Y_true21, Y_pred_classes21) \n",
    "# plot the confusion matrix\n",
    "plot_confusion_matrix(confusion_mtx21, classes = range(10)) \n",
    "print(confusion_mtx21)"
   ]
  },
  {
   "cell_type": "markdown",
   "metadata": {},
   "source": [
    "    * True positives are impressive for all the classes. "
   ]
  },
  {
   "cell_type": "markdown",
   "metadata": {},
   "source": [
    "### Tuning of NN On CROPPED image"
   ]
  },
  {
   "cell_type": "markdown",
   "metadata": {},
   "source": [
    "    Before finalizing the NN architecture, various combinations of below parameters were tested. \n",
    "        * Sigmoid, Relu, LeakyRelu and tanh Activations were tried. \n",
    "        * he_normal and glorot_uniform kernel initializers were tried.  \n",
    "        * 0.1 to 0.5 Dropouts were tried.  \n",
    "        * Multiple combinations of Hidden neurons were tried. \n",
    "        * Adam and sgd Optimizers(with different learning and decay paramters) were tried. \n",
    "        * Various epochs(100, 200, 300, 400, 500) were tried. \n",
    "        * Various batch_size(100, 150, 200) were tried. \n",
    "        * Various values of kernel_regularizers were tried. \n",
    "        \n",
    "    Out of all these combinations, below architecture's accuracy is the highest. Therefore, retained the below architecture \n",
    "    and removed others.         "
   ]
  },
  {
   "cell_type": "code",
   "execution_count": 272,
   "metadata": {
    "scrolled": true
   },
   "outputs": [
    {
     "name": "stdout",
     "output_type": "stream",
     "text": [
      "Train on 42000 samples, validate on 60000 samples\n",
      "Epoch 1/200\n",
      "42000/42000 [==============================] - 11s 253us/sample - loss: 1.2871 - accuracy: 0.5895 - val_loss: 1.2553 - val_accuracy: 0.6138\n",
      "Epoch 2/200\n",
      "42000/42000 [==============================] - 10s 230us/sample - loss: 0.8432 - accuracy: 0.7400 - val_loss: 1.0062 - val_accuracy: 0.6868\n",
      "Epoch 3/200\n",
      "42000/42000 [==============================] - 10s 231us/sample - loss: 0.7318 - accuracy: 0.7743 - val_loss: 0.9425 - val_accuracy: 0.6942\n",
      "Epoch 4/200\n",
      "42000/42000 [==============================] - 10s 234us/sample - loss: 0.6612 - accuracy: 0.7984 - val_loss: 0.7079 - val_accuracy: 0.7870\n",
      "Epoch 5/200\n",
      "42000/42000 [==============================] - 10s 234us/sample - loss: 0.6161 - accuracy: 0.8127 - val_loss: 0.7855 - val_accuracy: 0.7465\n",
      "Epoch 6/200\n",
      "42000/42000 [==============================] - 10s 237us/sample - loss: 0.5893 - accuracy: 0.8200 - val_loss: 0.6706 - val_accuracy: 0.7846\n",
      "Epoch 7/200\n",
      "42000/42000 [==============================] - 10s 241us/sample - loss: 0.5606 - accuracy: 0.8288 - val_loss: 0.6414 - val_accuracy: 0.8022\n",
      "Epoch 8/200\n",
      "42000/42000 [==============================] - 10s 245us/sample - loss: 0.5399 - accuracy: 0.8369 - val_loss: 0.6494 - val_accuracy: 0.7950\n",
      "Epoch 9/200\n",
      "42000/42000 [==============================] - 10s 241us/sample - loss: 0.5212 - accuracy: 0.8421 - val_loss: 0.5452 - val_accuracy: 0.8384\n",
      "Epoch 10/200\n",
      "42000/42000 [==============================] - 10s 240us/sample - loss: 0.5017 - accuracy: 0.8470 - val_loss: 0.4980 - val_accuracy: 0.8571\n",
      "Epoch 11/200\n",
      "42000/42000 [==============================] - 10s 249us/sample - loss: 0.4870 - accuracy: 0.8510 - val_loss: 0.6702 - val_accuracy: 0.7973\n",
      "Epoch 12/200\n",
      "42000/42000 [==============================] - 11s 252us/sample - loss: 0.4705 - accuracy: 0.8567 - val_loss: 0.5870 - val_accuracy: 0.8198\n",
      "Epoch 13/200\n",
      "42000/42000 [==============================] - 11s 254us/sample - loss: 0.4565 - accuracy: 0.8608 - val_loss: 0.5771 - val_accuracy: 0.8181\n",
      "Epoch 14/200\n",
      "42000/42000 [==============================] - 11s 262us/sample - loss: 0.4517 - accuracy: 0.8603 - val_loss: 0.4698 - val_accuracy: 0.8559\n",
      "Epoch 15/200\n",
      "42000/42000 [==============================] - 11s 257us/sample - loss: 0.4410 - accuracy: 0.8627 - val_loss: 0.4585 - val_accuracy: 0.8648\n",
      "Epoch 16/200\n",
      "42000/42000 [==============================] - 11s 257us/sample - loss: 0.4336 - accuracy: 0.8649 - val_loss: 0.4537 - val_accuracy: 0.8666\n",
      "Epoch 17/200\n",
      "42000/42000 [==============================] - 11s 258us/sample - loss: 0.4172 - accuracy: 0.8710 - val_loss: 0.4259 - val_accuracy: 0.8737\n",
      "Epoch 18/200\n",
      "42000/42000 [==============================] - 11s 256us/sample - loss: 0.4084 - accuracy: 0.8735 - val_loss: 0.4707 - val_accuracy: 0.8557\n",
      "Epoch 19/200\n",
      "42000/42000 [==============================] - 11s 256us/sample - loss: 0.4071 - accuracy: 0.8758 - val_loss: 0.4055 - val_accuracy: 0.8838\n",
      "Epoch 20/200\n",
      "42000/42000 [==============================] - 11s 256us/sample - loss: 0.3972 - accuracy: 0.8767 - val_loss: 0.3973 - val_accuracy: 0.8833\n",
      "Epoch 21/200\n",
      "42000/42000 [==============================] - 11s 256us/sample - loss: 0.3914 - accuracy: 0.8796 - val_loss: 0.4508 - val_accuracy: 0.8633\n",
      "Epoch 22/200\n",
      "42000/42000 [==============================] - 11s 256us/sample - loss: 0.3861 - accuracy: 0.8815 - val_loss: 0.3721 - val_accuracy: 0.8928\n",
      "Epoch 23/200\n",
      "42000/42000 [==============================] - 11s 260us/sample - loss: 0.3795 - accuracy: 0.8823 - val_loss: 0.4045 - val_accuracy: 0.8766\n",
      "Epoch 24/200\n",
      "42000/42000 [==============================] - 11s 254us/sample - loss: 0.3758 - accuracy: 0.8840 - val_loss: 0.3580 - val_accuracy: 0.8966\n",
      "Epoch 25/200\n",
      "42000/42000 [==============================] - 12s 274us/sample - loss: 0.3671 - accuracy: 0.8850 - val_loss: 0.3972 - val_accuracy: 0.8796\n",
      "Epoch 26/200\n",
      "42000/42000 [==============================] - 11s 259us/sample - loss: 0.3575 - accuracy: 0.8885 - val_loss: 0.3376 - val_accuracy: 0.9030\n",
      "Epoch 27/200\n",
      "42000/42000 [==============================] - 11s 256us/sample - loss: 0.3495 - accuracy: 0.8913 - val_loss: 0.3514 - val_accuracy: 0.8998\n",
      "Epoch 28/200\n",
      "42000/42000 [==============================] - 11s 260us/sample - loss: 0.3520 - accuracy: 0.8912 - val_loss: 0.3971 - val_accuracy: 0.8796\n",
      "Epoch 29/200\n",
      "42000/42000 [==============================] - 11s 256us/sample - loss: 0.3497 - accuracy: 0.8904 - val_loss: 0.3857 - val_accuracy: 0.8832\n",
      "Epoch 30/200\n",
      "42000/42000 [==============================] - 11s 254us/sample - loss: 0.3435 - accuracy: 0.8922 - val_loss: 0.3660 - val_accuracy: 0.8954\n",
      "Epoch 31/200\n",
      "42000/42000 [==============================] - 11s 257us/sample - loss: 0.3424 - accuracy: 0.8928 - val_loss: 0.3912 - val_accuracy: 0.8801\n",
      "Epoch 32/200\n",
      "42000/42000 [==============================] - 11s 256us/sample - loss: 0.3330 - accuracy: 0.8964 - val_loss: 0.3839 - val_accuracy: 0.8816\n",
      "Epoch 33/200\n",
      "42000/42000 [==============================] - 11s 256us/sample - loss: 0.3333 - accuracy: 0.8951 - val_loss: 0.3418 - val_accuracy: 0.9015\n",
      "Epoch 34/200\n",
      "42000/42000 [==============================] - 11s 258us/sample - loss: 0.3266 - accuracy: 0.8975 - val_loss: 0.3252 - val_accuracy: 0.9069\n",
      "Epoch 35/200\n",
      "42000/42000 [==============================] - 11s 256us/sample - loss: 0.3217 - accuracy: 0.8995 - val_loss: 0.3413 - val_accuracy: 0.8982\n",
      "Epoch 36/200\n",
      "42000/42000 [==============================] - 11s 257us/sample - loss: 0.3201 - accuracy: 0.8997 - val_loss: 0.3279 - val_accuracy: 0.9048\n",
      "Epoch 37/200\n",
      "42000/42000 [==============================] - 11s 257us/sample - loss: 0.3218 - accuracy: 0.8980 - val_loss: 0.3156 - val_accuracy: 0.9104\n",
      "Epoch 38/200\n",
      "42000/42000 [==============================] - 11s 257us/sample - loss: 0.3159 - accuracy: 0.9001 - val_loss: 0.3250 - val_accuracy: 0.9067\n",
      "Epoch 39/200\n",
      "42000/42000 [==============================] - 11s 257us/sample - loss: 0.3125 - accuracy: 0.9013 - val_loss: 0.3236 - val_accuracy: 0.9046\n",
      "Epoch 40/200\n",
      "42000/42000 [==============================] - 11s 258us/sample - loss: 0.3096 - accuracy: 0.9017 - val_loss: 0.3191 - val_accuracy: 0.9082\n",
      "Epoch 41/200\n",
      "42000/42000 [==============================] - 11s 257us/sample - loss: 0.3067 - accuracy: 0.9043 - val_loss: 0.3208 - val_accuracy: 0.9095\n",
      "Epoch 42/200\n",
      "42000/42000 [==============================] - 11s 259us/sample - loss: 0.3018 - accuracy: 0.9039 - val_loss: 0.2915 - val_accuracy: 0.9163\n",
      "Epoch 43/200\n",
      "42000/42000 [==============================] - 11s 259us/sample - loss: 0.3028 - accuracy: 0.9042 - val_loss: 0.3128 - val_accuracy: 0.9097\n",
      "Epoch 44/200\n",
      "42000/42000 [==============================] - 11s 258us/sample - loss: 0.2984 - accuracy: 0.9060 - val_loss: 0.2992 - val_accuracy: 0.9162\n",
      "Epoch 45/200\n",
      "42000/42000 [==============================] - 11s 258us/sample - loss: 0.3000 - accuracy: 0.9050 - val_loss: 0.3018 - val_accuracy: 0.9123\n",
      "Epoch 46/200\n",
      "42000/42000 [==============================] - 11s 257us/sample - loss: 0.2919 - accuracy: 0.9081 - val_loss: 0.3014 - val_accuracy: 0.9143\n",
      "Epoch 47/200\n",
      "42000/42000 [==============================] - 11s 258us/sample - loss: 0.2929 - accuracy: 0.9052 - val_loss: 0.3071 - val_accuracy: 0.9113\n",
      "Epoch 48/200\n",
      "42000/42000 [==============================] - 11s 263us/sample - loss: 0.2883 - accuracy: 0.9092 - val_loss: 0.2867 - val_accuracy: 0.9184\n",
      "Epoch 49/200\n",
      "42000/42000 [==============================] - 11s 254us/sample - loss: 0.2882 - accuracy: 0.9102 - val_loss: 0.2962 - val_accuracy: 0.9160\n",
      "Epoch 50/200\n",
      "42000/42000 [==============================] - 11s 273us/sample - loss: 0.2823 - accuracy: 0.9095 - val_loss: 0.2846 - val_accuracy: 0.9214\n",
      "Epoch 51/200\n",
      "42000/42000 [==============================] - 12s 292us/sample - loss: 0.2822 - accuracy: 0.9107 - val_loss: 0.2752 - val_accuracy: 0.9241\n",
      "Epoch 52/200\n",
      "42000/42000 [==============================] - 12s 275us/sample - loss: 0.2781 - accuracy: 0.9129 - val_loss: 0.2855 - val_accuracy: 0.9186\n",
      "Epoch 53/200\n",
      "42000/42000 [==============================] - 12s 282us/sample - loss: 0.2798 - accuracy: 0.9115 - val_loss: 0.2793 - val_accuracy: 0.9225\n",
      "Epoch 54/200\n",
      "42000/42000 [==============================] - 11s 271us/sample - loss: 0.2792 - accuracy: 0.9114 - val_loss: 0.2787 - val_accuracy: 0.9205\n",
      "Epoch 55/200\n",
      "42000/42000 [==============================] - 11s 271us/sample - loss: 0.2819 - accuracy: 0.9095 - val_loss: 0.2671 - val_accuracy: 0.9261\n",
      "Epoch 56/200\n",
      "42000/42000 [==============================] - 11s 271us/sample - loss: 0.2774 - accuracy: 0.9097 - val_loss: 0.2640 - val_accuracy: 0.9283\n",
      "Epoch 57/200\n",
      "42000/42000 [==============================] - 11s 272us/sample - loss: 0.2714 - accuracy: 0.9140 - val_loss: 0.2810 - val_accuracy: 0.9208\n",
      "Epoch 58/200\n",
      "42000/42000 [==============================] - 11s 271us/sample - loss: 0.2695 - accuracy: 0.9148 - val_loss: 0.2757 - val_accuracy: 0.9224\n",
      "Epoch 59/200\n",
      "42000/42000 [==============================] - 11s 269us/sample - loss: 0.2729 - accuracy: 0.9142 - val_loss: 0.2550 - val_accuracy: 0.9298\n",
      "Epoch 60/200\n",
      "42000/42000 [==============================] - 11s 269us/sample - loss: 0.2669 - accuracy: 0.9144 - val_loss: 0.2558 - val_accuracy: 0.9314\n",
      "Epoch 61/200\n",
      "42000/42000 [==============================] - 11s 274us/sample - loss: 0.2634 - accuracy: 0.9157 - val_loss: 0.2631 - val_accuracy: 0.9285\n",
      "Epoch 62/200\n",
      "42000/42000 [==============================] - 11s 268us/sample - loss: 0.2633 - accuracy: 0.9164 - val_loss: 0.2652 - val_accuracy: 0.9251\n",
      "Epoch 63/200\n",
      "42000/42000 [==============================] - 11s 270us/sample - loss: 0.2626 - accuracy: 0.9164 - val_loss: 0.2613 - val_accuracy: 0.9272\n",
      "Epoch 64/200\n",
      "42000/42000 [==============================] - 13s 302us/sample - loss: 0.2602 - accuracy: 0.9170 - val_loss: 0.2584 - val_accuracy: 0.9281\n",
      "Epoch 65/200\n",
      "42000/42000 [==============================] - 12s 288us/sample - loss: 0.2597 - accuracy: 0.9164 - val_loss: 0.2700 - val_accuracy: 0.9239\n",
      "Epoch 66/200\n",
      "42000/42000 [==============================] - 11s 271us/sample - loss: 0.2634 - accuracy: 0.9159 - val_loss: 0.2463 - val_accuracy: 0.9335\n",
      "Epoch 67/200\n",
      "42000/42000 [==============================] - 12s 275us/sample - loss: 0.2612 - accuracy: 0.9160 - val_loss: 0.2516 - val_accuracy: 0.9309\n",
      "Epoch 68/200\n",
      "42000/42000 [==============================] - 11s 271us/sample - loss: 0.2574 - accuracy: 0.9184 - val_loss: 0.2502 - val_accuracy: 0.9311\n",
      "Epoch 69/200\n",
      "42000/42000 [==============================] - 11s 269us/sample - loss: 0.2541 - accuracy: 0.9187 - val_loss: 0.2510 - val_accuracy: 0.9312\n",
      "Epoch 70/200\n",
      "42000/42000 [==============================] - 11s 271us/sample - loss: 0.2565 - accuracy: 0.9178 - val_loss: 0.2425 - val_accuracy: 0.9342\n",
      "Epoch 71/200\n",
      "42000/42000 [==============================] - 11s 271us/sample - loss: 0.2571 - accuracy: 0.9174 - val_loss: 0.2405 - val_accuracy: 0.9365\n",
      "Epoch 72/200\n",
      "42000/42000 [==============================] - 12s 282us/sample - loss: 0.2527 - accuracy: 0.9188 - val_loss: 0.2661 - val_accuracy: 0.9259\n",
      "Epoch 73/200\n",
      "42000/42000 [==============================] - 11s 270us/sample - loss: 0.2513 - accuracy: 0.9212 - val_loss: 0.2509 - val_accuracy: 0.9304\n",
      "Epoch 74/200\n",
      "42000/42000 [==============================] - 11s 272us/sample - loss: 0.2504 - accuracy: 0.9207 - val_loss: 0.2444 - val_accuracy: 0.9341\n",
      "Epoch 75/200\n",
      "42000/42000 [==============================] - 11s 271us/sample - loss: 0.2495 - accuracy: 0.9203 - val_loss: 0.2527 - val_accuracy: 0.9300\n",
      "Epoch 76/200\n",
      "42000/42000 [==============================] - 11s 272us/sample - loss: 0.2496 - accuracy: 0.9181 - val_loss: 0.2519 - val_accuracy: 0.9307\n",
      "Epoch 77/200\n",
      "42000/42000 [==============================] - 11s 271us/sample - loss: 0.2465 - accuracy: 0.9213 - val_loss: 0.2311 - val_accuracy: 0.9385\n",
      "Epoch 78/200\n",
      "42000/42000 [==============================] - 11s 272us/sample - loss: 0.2426 - accuracy: 0.9236 - val_loss: 0.2316 - val_accuracy: 0.9384\n",
      "Epoch 79/200\n",
      "42000/42000 [==============================] - 11s 272us/sample - loss: 0.2465 - accuracy: 0.9201 - val_loss: 0.2442 - val_accuracy: 0.9346\n",
      "Epoch 80/200\n",
      "42000/42000 [==============================] - 11s 271us/sample - loss: 0.2429 - accuracy: 0.9219 - val_loss: 0.2361 - val_accuracy: 0.9376\n",
      "Epoch 81/200\n",
      "42000/42000 [==============================] - 11s 272us/sample - loss: 0.2403 - accuracy: 0.9231 - val_loss: 0.2297 - val_accuracy: 0.9390\n",
      "Epoch 82/200\n",
      "42000/42000 [==============================] - 11s 270us/sample - loss: 0.2400 - accuracy: 0.9246 - val_loss: 0.2400 - val_accuracy: 0.9355\n",
      "Epoch 83/200\n",
      "42000/42000 [==============================] - 12s 274us/sample - loss: 0.2378 - accuracy: 0.9230 - val_loss: 0.2319 - val_accuracy: 0.9380\n",
      "Epoch 84/200\n",
      "42000/42000 [==============================] - 11s 272us/sample - loss: 0.2371 - accuracy: 0.9243 - val_loss: 0.2358 - val_accuracy: 0.9364\n",
      "Epoch 85/200\n",
      "42000/42000 [==============================] - 11s 271us/sample - loss: 0.2348 - accuracy: 0.9247 - val_loss: 0.2350 - val_accuracy: 0.9373\n",
      "Epoch 86/200\n",
      "42000/42000 [==============================] - 11s 271us/sample - loss: 0.2373 - accuracy: 0.9242 - val_loss: 0.2306 - val_accuracy: 0.9390\n",
      "Epoch 87/200\n",
      "42000/42000 [==============================] - 11s 270us/sample - loss: 0.2312 - accuracy: 0.9257 - val_loss: 0.2360 - val_accuracy: 0.9364\n",
      "Epoch 88/200\n",
      "42000/42000 [==============================] - 11s 271us/sample - loss: 0.2346 - accuracy: 0.9245 - val_loss: 0.2349 - val_accuracy: 0.9363\n",
      "Epoch 89/200\n",
      "42000/42000 [==============================] - 12s 276us/sample - loss: 0.2325 - accuracy: 0.9252 - val_loss: 0.2278 - val_accuracy: 0.9389\n",
      "Epoch 90/200\n",
      "42000/42000 [==============================] - 11s 270us/sample - loss: 0.2301 - accuracy: 0.9264 - val_loss: 0.2454 - val_accuracy: 0.9327\n",
      "Epoch 91/200\n",
      "42000/42000 [==============================] - 11s 270us/sample - loss: 0.2282 - accuracy: 0.9274 - val_loss: 0.2176 - val_accuracy: 0.9432\n",
      "Epoch 92/200\n",
      "42000/42000 [==============================] - 11s 272us/sample - loss: 0.2306 - accuracy: 0.9260 - val_loss: 0.2288 - val_accuracy: 0.9389\n",
      "Epoch 93/200\n",
      "42000/42000 [==============================] - 11s 274us/sample - loss: 0.2292 - accuracy: 0.9277 - val_loss: 0.2347 - val_accuracy: 0.9359\n",
      "Epoch 94/200\n",
      "42000/42000 [==============================] - 11s 272us/sample - loss: 0.2296 - accuracy: 0.9257 - val_loss: 0.2243 - val_accuracy: 0.9406\n",
      "Epoch 95/200\n",
      "42000/42000 [==============================] - 12s 277us/sample - loss: 0.2266 - accuracy: 0.9280 - val_loss: 0.2366 - val_accuracy: 0.9360\n",
      "Epoch 96/200\n",
      "42000/42000 [==============================] - 11s 271us/sample - loss: 0.2286 - accuracy: 0.9281 - val_loss: 0.2283 - val_accuracy: 0.9397\n",
      "Epoch 97/200\n",
      "42000/42000 [==============================] - 11s 273us/sample - loss: 0.2243 - accuracy: 0.9276 - val_loss: 0.2247 - val_accuracy: 0.9407\n",
      "Epoch 98/200\n",
      "42000/42000 [==============================] - 11s 271us/sample - loss: 0.2281 - accuracy: 0.9279 - val_loss: 0.2187 - val_accuracy: 0.9433\n",
      "Epoch 99/200\n",
      "42000/42000 [==============================] - 11s 270us/sample - loss: 0.2272 - accuracy: 0.9269 - val_loss: 0.2196 - val_accuracy: 0.9428\n",
      "Epoch 100/200\n",
      "42000/42000 [==============================] - 11s 273us/sample - loss: 0.2215 - accuracy: 0.9282 - val_loss: 0.2169 - val_accuracy: 0.9434\n",
      "Epoch 101/200\n",
      "42000/42000 [==============================] - 11s 271us/sample - loss: 0.2205 - accuracy: 0.9305 - val_loss: 0.2318 - val_accuracy: 0.9375\n",
      "Epoch 102/200\n",
      "42000/42000 [==============================] - 11s 273us/sample - loss: 0.2212 - accuracy: 0.9285 - val_loss: 0.2238 - val_accuracy: 0.9418\n",
      "Epoch 103/200\n",
      "42000/42000 [==============================] - 11s 274us/sample - loss: 0.2231 - accuracy: 0.9284 - val_loss: 0.2230 - val_accuracy: 0.9401\n",
      "Epoch 104/200\n",
      "42000/42000 [==============================] - 11s 272us/sample - loss: 0.2205 - accuracy: 0.9291 - val_loss: 0.2394 - val_accuracy: 0.9353\n",
      "Epoch 105/200\n",
      "42000/42000 [==============================] - 12s 275us/sample - loss: 0.2187 - accuracy: 0.9298 - val_loss: 0.2190 - val_accuracy: 0.9417\n",
      "Epoch 106/200\n",
      "42000/42000 [==============================] - 11s 272us/sample - loss: 0.2222 - accuracy: 0.9293 - val_loss: 0.2196 - val_accuracy: 0.9429\n",
      "Epoch 107/200\n"
     ]
    },
    {
     "name": "stdout",
     "output_type": "stream",
     "text": [
      "42000/42000 [==============================] - 11s 271us/sample - loss: 0.2170 - accuracy: 0.9313 - val_loss: 0.2229 - val_accuracy: 0.9418\n",
      "Epoch 108/200\n",
      "42000/42000 [==============================] - 11s 271us/sample - loss: 0.2185 - accuracy: 0.9289 - val_loss: 0.2170 - val_accuracy: 0.9430\n",
      "Epoch 109/200\n",
      "42000/42000 [==============================] - 11s 272us/sample - loss: 0.2170 - accuracy: 0.9291 - val_loss: 0.2153 - val_accuracy: 0.9444\n",
      "Epoch 110/200\n",
      "42000/42000 [==============================] - 11s 270us/sample - loss: 0.2150 - accuracy: 0.9323 - val_loss: 0.2175 - val_accuracy: 0.9426\n",
      "Epoch 111/200\n",
      "42000/42000 [==============================] - 11s 270us/sample - loss: 0.2166 - accuracy: 0.9314 - val_loss: 0.2249 - val_accuracy: 0.9395\n",
      "Epoch 112/200\n",
      "42000/42000 [==============================] - 12s 274us/sample - loss: 0.2171 - accuracy: 0.9305 - val_loss: 0.2196 - val_accuracy: 0.9433\n",
      "Epoch 113/200\n",
      "42000/42000 [==============================] - 11s 270us/sample - loss: 0.2165 - accuracy: 0.9302 - val_loss: 0.2192 - val_accuracy: 0.9426\n",
      "Epoch 114/200\n",
      "42000/42000 [==============================] - 11s 270us/sample - loss: 0.2101 - accuracy: 0.9321 - val_loss: 0.2255 - val_accuracy: 0.9397\n",
      "Epoch 115/200\n",
      "42000/42000 [==============================] - 11s 273us/sample - loss: 0.2110 - accuracy: 0.9317 - val_loss: 0.2182 - val_accuracy: 0.9430\n",
      "Epoch 116/200\n",
      "42000/42000 [==============================] - 11s 271us/sample - loss: 0.2125 - accuracy: 0.9322 - val_loss: 0.2141 - val_accuracy: 0.9445\n",
      "Epoch 117/200\n",
      "42000/42000 [==============================] - 12s 279us/sample - loss: 0.2078 - accuracy: 0.9324 - val_loss: 0.2091 - val_accuracy: 0.9467\n",
      "Epoch 118/200\n",
      "42000/42000 [==============================] - 11s 272us/sample - loss: 0.2102 - accuracy: 0.9317 - val_loss: 0.2087 - val_accuracy: 0.9458\n",
      "Epoch 119/200\n",
      "42000/42000 [==============================] - 12s 277us/sample - loss: 0.2079 - accuracy: 0.9329 - val_loss: 0.2098 - val_accuracy: 0.9456\n",
      "Epoch 120/200\n",
      "42000/42000 [==============================] - 11s 273us/sample - loss: 0.2118 - accuracy: 0.9311 - val_loss: 0.2075 - val_accuracy: 0.9470\n",
      "Epoch 121/200\n",
      "42000/42000 [==============================] - 11s 270us/sample - loss: 0.2085 - accuracy: 0.9330 - val_loss: 0.2122 - val_accuracy: 0.9445\n",
      "Epoch 122/200\n",
      "42000/42000 [==============================] - 11s 272us/sample - loss: 0.2059 - accuracy: 0.9335 - val_loss: 0.2104 - val_accuracy: 0.9454\n",
      "Epoch 123/200\n",
      "42000/42000 [==============================] - 11s 271us/sample - loss: 0.2089 - accuracy: 0.9322 - val_loss: 0.2078 - val_accuracy: 0.9468\n",
      "Epoch 124/200\n",
      "42000/42000 [==============================] - 11s 272us/sample - loss: 0.2056 - accuracy: 0.9343 - val_loss: 0.2042 - val_accuracy: 0.9478\n",
      "Epoch 125/200\n",
      "42000/42000 [==============================] - 11s 271us/sample - loss: 0.2052 - accuracy: 0.9330 - val_loss: 0.2180 - val_accuracy: 0.9424\n",
      "Epoch 126/200\n",
      "42000/42000 [==============================] - 11s 272us/sample - loss: 0.2078 - accuracy: 0.9317 - val_loss: 0.2092 - val_accuracy: 0.9463\n",
      "Epoch 127/200\n",
      "42000/42000 [==============================] - 11s 270us/sample - loss: 0.2026 - accuracy: 0.9355 - val_loss: 0.2111 - val_accuracy: 0.9455\n",
      "Epoch 128/200\n",
      "42000/42000 [==============================] - 11s 269us/sample - loss: 0.2050 - accuracy: 0.9336 - val_loss: 0.2069 - val_accuracy: 0.9478\n",
      "Epoch 129/200\n",
      "42000/42000 [==============================] - 11s 272us/sample - loss: 0.2030 - accuracy: 0.9344 - val_loss: 0.2114 - val_accuracy: 0.9445\n",
      "Epoch 130/200\n",
      "42000/42000 [==============================] - 11s 271us/sample - loss: 0.2052 - accuracy: 0.9333 - val_loss: 0.2086 - val_accuracy: 0.9468\n",
      "Epoch 131/200\n",
      "42000/42000 [==============================] - 11s 270us/sample - loss: 0.2019 - accuracy: 0.9355 - val_loss: 0.2056 - val_accuracy: 0.9470\n",
      "Epoch 132/200\n",
      "42000/42000 [==============================] - 12s 274us/sample - loss: 0.1989 - accuracy: 0.9367 - val_loss: 0.2011 - val_accuracy: 0.9486\n",
      "Epoch 133/200\n",
      "42000/42000 [==============================] - 11s 270us/sample - loss: 0.2015 - accuracy: 0.9348 - val_loss: 0.2049 - val_accuracy: 0.9474\n",
      "Epoch 134/200\n",
      "42000/42000 [==============================] - 11s 270us/sample - loss: 0.2024 - accuracy: 0.9350 - val_loss: 0.2120 - val_accuracy: 0.9442\n",
      "Epoch 135/200\n",
      "42000/42000 [==============================] - 12s 275us/sample - loss: 0.2004 - accuracy: 0.9355 - val_loss: 0.2044 - val_accuracy: 0.9480\n",
      "Epoch 136/200\n",
      "42000/42000 [==============================] - 11s 272us/sample - loss: 0.1988 - accuracy: 0.9359 - val_loss: 0.1993 - val_accuracy: 0.9499\n",
      "Epoch 137/200\n",
      "42000/42000 [==============================] - 11s 274us/sample - loss: 0.2021 - accuracy: 0.9339 - val_loss: 0.2033 - val_accuracy: 0.9484\n",
      "Epoch 138/200\n",
      "42000/42000 [==============================] - 11s 273us/sample - loss: 0.1989 - accuracy: 0.9353 - val_loss: 0.2069 - val_accuracy: 0.9468\n",
      "Epoch 139/200\n",
      "42000/42000 [==============================] - 11s 272us/sample - loss: 0.1983 - accuracy: 0.9359 - val_loss: 0.2031 - val_accuracy: 0.9480\n",
      "Epoch 140/200\n",
      "42000/42000 [==============================] - 11s 271us/sample - loss: 0.1990 - accuracy: 0.9366 - val_loss: 0.2014 - val_accuracy: 0.9487\n",
      "Epoch 141/200\n",
      "42000/42000 [==============================] - 12s 275us/sample - loss: 0.1994 - accuracy: 0.9360 - val_loss: 0.2019 - val_accuracy: 0.9486\n",
      "Epoch 142/200\n",
      "42000/42000 [==============================] - 11s 272us/sample - loss: 0.1990 - accuracy: 0.9350 - val_loss: 0.2100 - val_accuracy: 0.9458\n",
      "Epoch 143/200\n",
      "42000/42000 [==============================] - 11s 270us/sample - loss: 0.1979 - accuracy: 0.9368 - val_loss: 0.1962 - val_accuracy: 0.9508\n",
      "Epoch 144/200\n",
      "42000/42000 [==============================] - 11s 271us/sample - loss: 0.1974 - accuracy: 0.9377 - val_loss: 0.1965 - val_accuracy: 0.9511\n",
      "Epoch 145/200\n",
      "42000/42000 [==============================] - 11s 270us/sample - loss: 0.1950 - accuracy: 0.9365 - val_loss: 0.2099 - val_accuracy: 0.9451\n",
      "Epoch 146/200\n",
      "42000/42000 [==============================] - 12s 280us/sample - loss: 0.1976 - accuracy: 0.9347 - val_loss: 0.2037 - val_accuracy: 0.9485\n",
      "Epoch 147/200\n",
      "42000/42000 [==============================] - 11s 272us/sample - loss: 0.1999 - accuracy: 0.9353 - val_loss: 0.1961 - val_accuracy: 0.9503\n",
      "Epoch 148/200\n",
      "42000/42000 [==============================] - 11s 271us/sample - loss: 0.1971 - accuracy: 0.9363 - val_loss: 0.1967 - val_accuracy: 0.9509\n",
      "Epoch 149/200\n",
      "42000/42000 [==============================] - 11s 273us/sample - loss: 0.1931 - accuracy: 0.9385 - val_loss: 0.2059 - val_accuracy: 0.9464\n",
      "Epoch 150/200\n",
      "42000/42000 [==============================] - 11s 264us/sample - loss: 0.1893 - accuracy: 0.9395 - val_loss: 0.1983 - val_accuracy: 0.9497\n",
      "Epoch 151/200\n",
      "42000/42000 [==============================] - 11s 265us/sample - loss: 0.1945 - accuracy: 0.9369 - val_loss: 0.1993 - val_accuracy: 0.9499\n",
      "Epoch 152/200\n",
      "42000/42000 [==============================] - 11s 269us/sample - loss: 0.1940 - accuracy: 0.9368 - val_loss: 0.1973 - val_accuracy: 0.9497\n",
      "Epoch 153/200\n",
      "42000/42000 [==============================] - 11s 264us/sample - loss: 0.1911 - accuracy: 0.9401 - val_loss: 0.1934 - val_accuracy: 0.9521\n",
      "Epoch 154/200\n",
      "42000/42000 [==============================] - 11s 266us/sample - loss: 0.1913 - accuracy: 0.9383 - val_loss: 0.1924 - val_accuracy: 0.9522\n",
      "Epoch 155/200\n",
      "42000/42000 [==============================] - 11s 266us/sample - loss: 0.1908 - accuracy: 0.9379 - val_loss: 0.1939 - val_accuracy: 0.9521\n",
      "Epoch 156/200\n",
      "42000/42000 [==============================] - 11s 264us/sample - loss: 0.1893 - accuracy: 0.9395 - val_loss: 0.1899 - val_accuracy: 0.9526\n",
      "Epoch 157/200\n",
      "42000/42000 [==============================] - 11s 267us/sample - loss: 0.1909 - accuracy: 0.9367 - val_loss: 0.2044 - val_accuracy: 0.9472\n",
      "Epoch 158/200\n",
      "42000/42000 [==============================] - 11s 266us/sample - loss: 0.1897 - accuracy: 0.9388 - val_loss: 0.1934 - val_accuracy: 0.9514\n",
      "Epoch 159/200\n",
      "42000/42000 [==============================] - 11s 265us/sample - loss: 0.1884 - accuracy: 0.9392 - val_loss: 0.1904 - val_accuracy: 0.9527\n",
      "Epoch 160/200\n",
      "42000/42000 [==============================] - 11s 267us/sample - loss: 0.1921 - accuracy: 0.9385 - val_loss: 0.1956 - val_accuracy: 0.9512\n",
      "Epoch 161/200\n",
      "42000/42000 [==============================] - 11s 265us/sample - loss: 0.1882 - accuracy: 0.9389 - val_loss: 0.2001 - val_accuracy: 0.9490\n",
      "Epoch 162/200\n",
      "42000/42000 [==============================] - 11s 266us/sample - loss: 0.1901 - accuracy: 0.9400 - val_loss: 0.1912 - val_accuracy: 0.9527\n",
      "Epoch 163/200\n",
      "42000/42000 [==============================] - 11s 266us/sample - loss: 0.1876 - accuracy: 0.9398 - val_loss: 0.1950 - val_accuracy: 0.9508\n",
      "Epoch 164/200\n",
      "42000/42000 [==============================] - 11s 263us/sample - loss: 0.1895 - accuracy: 0.9394 - val_loss: 0.1975 - val_accuracy: 0.9498\n",
      "Epoch 165/200\n",
      "42000/42000 [==============================] - 11s 264us/sample - loss: 0.1901 - accuracy: 0.9389 - val_loss: 0.1932 - val_accuracy: 0.9518\n",
      "Epoch 166/200\n",
      "42000/42000 [==============================] - 11s 265us/sample - loss: 0.1887 - accuracy: 0.9381 - val_loss: 0.1909 - val_accuracy: 0.9534\n",
      "Epoch 167/200\n",
      "42000/42000 [==============================] - 11s 264us/sample - loss: 0.1864 - accuracy: 0.9402 - val_loss: 0.1935 - val_accuracy: 0.9511\n",
      "Epoch 168/200\n",
      "42000/42000 [==============================] - 11s 266us/sample - loss: 0.1857 - accuracy: 0.9404 - val_loss: 0.1936 - val_accuracy: 0.9518\n",
      "Epoch 169/200\n",
      "42000/42000 [==============================] - 11s 263us/sample - loss: 0.1861 - accuracy: 0.9402 - val_loss: 0.1927 - val_accuracy: 0.9523\n",
      "Epoch 170/200\n",
      "42000/42000 [==============================] - 11s 266us/sample - loss: 0.1885 - accuracy: 0.9387 - val_loss: 0.1929 - val_accuracy: 0.9522\n",
      "Epoch 171/200\n",
      "42000/42000 [==============================] - 11s 265us/sample - loss: 0.1872 - accuracy: 0.9385 - val_loss: 0.1900 - val_accuracy: 0.9525\n",
      "Epoch 172/200\n",
      "42000/42000 [==============================] - 11s 263us/sample - loss: 0.1867 - accuracy: 0.9400 - val_loss: 0.1900 - val_accuracy: 0.9531\n",
      "Epoch 173/200\n",
      "42000/42000 [==============================] - 11s 263us/sample - loss: 0.1865 - accuracy: 0.9400 - val_loss: 0.1991 - val_accuracy: 0.9494\n",
      "Epoch 174/200\n",
      "42000/42000 [==============================] - 11s 269us/sample - loss: 0.1843 - accuracy: 0.9411 - val_loss: 0.1890 - val_accuracy: 0.9535\n",
      "Epoch 175/200\n",
      "42000/42000 [==============================] - 11s 265us/sample - loss: 0.1835 - accuracy: 0.9410 - val_loss: 0.1878 - val_accuracy: 0.9537\n",
      "Epoch 176/200\n",
      "42000/42000 [==============================] - 11s 265us/sample - loss: 0.1788 - accuracy: 0.9412 - val_loss: 0.1892 - val_accuracy: 0.9534\n",
      "Epoch 177/200\n",
      "42000/42000 [==============================] - 11s 265us/sample - loss: 0.1806 - accuracy: 0.9420 - val_loss: 0.1881 - val_accuracy: 0.9538\n",
      "Epoch 178/200\n",
      "42000/42000 [==============================] - 11s 265us/sample - loss: 0.1797 - accuracy: 0.9426 - val_loss: 0.1937 - val_accuracy: 0.9513\n",
      "Epoch 179/200\n",
      "42000/42000 [==============================] - 11s 265us/sample - loss: 0.1818 - accuracy: 0.9411 - val_loss: 0.1871 - val_accuracy: 0.9546\n",
      "Epoch 180/200\n",
      "42000/42000 [==============================] - 11s 265us/sample - loss: 0.1802 - accuracy: 0.9417 - val_loss: 0.1960 - val_accuracy: 0.9518\n",
      "Epoch 181/200\n",
      "42000/42000 [==============================] - 11s 264us/sample - loss: 0.1801 - accuracy: 0.9422 - val_loss: 0.1871 - val_accuracy: 0.9535\n",
      "Epoch 182/200\n",
      "42000/42000 [==============================] - 11s 265us/sample - loss: 0.1829 - accuracy: 0.9416 - val_loss: 0.1880 - val_accuracy: 0.9538\n",
      "Epoch 183/200\n",
      "42000/42000 [==============================] - 11s 265us/sample - loss: 0.1801 - accuracy: 0.9422 - val_loss: 0.1875 - val_accuracy: 0.9536\n",
      "Epoch 184/200\n",
      "42000/42000 [==============================] - 11s 264us/sample - loss: 0.1806 - accuracy: 0.9412 - val_loss: 0.1857 - val_accuracy: 0.9542\n",
      "Epoch 185/200\n",
      "42000/42000 [==============================] - 11s 268us/sample - loss: 0.1785 - accuracy: 0.9429 - val_loss: 0.1858 - val_accuracy: 0.9544\n",
      "Epoch 186/200\n",
      "42000/42000 [==============================] - 11s 265us/sample - loss: 0.1766 - accuracy: 0.9426 - val_loss: 0.1840 - val_accuracy: 0.9554\n",
      "Epoch 187/200\n",
      "42000/42000 [==============================] - 11s 264us/sample - loss: 0.1791 - accuracy: 0.9433 - val_loss: 0.1869 - val_accuracy: 0.9535\n",
      "Epoch 188/200\n",
      "42000/42000 [==============================] - 11s 265us/sample - loss: 0.1774 - accuracy: 0.9419 - val_loss: 0.1838 - val_accuracy: 0.9553\n",
      "Epoch 189/200\n",
      "42000/42000 [==============================] - 11s 268us/sample - loss: 0.1771 - accuracy: 0.9420 - val_loss: 0.1856 - val_accuracy: 0.9546\n",
      "Epoch 190/200\n",
      "42000/42000 [==============================] - 11s 269us/sample - loss: 0.1800 - accuracy: 0.9423 - val_loss: 0.1932 - val_accuracy: 0.9515\n",
      "Epoch 191/200\n",
      "42000/42000 [==============================] - 11s 269us/sample - loss: 0.1768 - accuracy: 0.9422 - val_loss: 0.1897 - val_accuracy: 0.9522\n",
      "Epoch 192/200\n",
      "42000/42000 [==============================] - 11s 267us/sample - loss: 0.1772 - accuracy: 0.9423 - val_loss: 0.1868 - val_accuracy: 0.9541\n",
      "Epoch 193/200\n",
      "42000/42000 [==============================] - 11s 270us/sample - loss: 0.1789 - accuracy: 0.9421 - val_loss: 0.1944 - val_accuracy: 0.9508\n",
      "Epoch 194/200\n",
      "42000/42000 [==============================] - 11s 266us/sample - loss: 0.1783 - accuracy: 0.9432 - val_loss: 0.1899 - val_accuracy: 0.9536\n",
      "Epoch 195/200\n",
      "42000/42000 [==============================] - 11s 267us/sample - loss: 0.1742 - accuracy: 0.9442 - val_loss: 0.1882 - val_accuracy: 0.9534\n",
      "Epoch 196/200\n",
      "42000/42000 [==============================] - 11s 267us/sample - loss: 0.1777 - accuracy: 0.9427 - val_loss: 0.1841 - val_accuracy: 0.9557\n",
      "Epoch 197/200\n",
      "42000/42000 [==============================] - 11s 266us/sample - loss: 0.1774 - accuracy: 0.9414 - val_loss: 0.1891 - val_accuracy: 0.9528\n",
      "Epoch 198/200\n",
      "42000/42000 [==============================] - 11s 266us/sample - loss: 0.1736 - accuracy: 0.9442 - val_loss: 0.1830 - val_accuracy: 0.9557\n",
      "Epoch 199/200\n",
      "42000/42000 [==============================] - 11s 267us/sample - loss: 0.1768 - accuracy: 0.9424 - val_loss: 0.1845 - val_accuracy: 0.9548\n",
      "Epoch 200/200\n",
      "42000/42000 [==============================] - 11s 266us/sample - loss: 0.1748 - accuracy: 0.9435 - val_loss: 0.1834 - val_accuracy: 0.9553\n"
     ]
    },
    {
     "data": {
      "text/plain": [
       "<tensorflow.python.keras.callbacks.History at 0x20da95be198>"
      ]
     },
     "execution_count": 272,
     "metadata": {},
     "output_type": "execute_result"
    }
   ],
   "source": [
    "# finalized NN architecture for CROPPED image data\n",
    "tf.keras.backend.clear_session()\n",
    "\n",
    "modt2 = Sequential()\n",
    "modt2.add(Dense(952, input_shape = (476, ), kernel_initializer='he_normal'))  #First hidden layer with 952 neurons, double the size of input neurons. \n",
    "modt2.add(BatchNormalization()) \n",
    "modt2.add(LeakyReLU(alpha=0.05)) #activation function Leakyrelu.\n",
    "modt2.add(Dropout(0.3)) \n",
    "\n",
    "modt2.add(Dense(952, kernel_initializer='he_normal')) #Second hidden layer with 952 neurons. \n",
    "modt2.add(BatchNormalization()) \n",
    "modt2.add(LeakyReLU(alpha=0.05)) #activation function Leakyrelu.\n",
    "modt2.add(Dropout(0.3))\n",
    "\n",
    "modt2.add(Dense(10)) #output layer with 10 neurons since we have 10 different classes\n",
    "modt2.add(Activation('softmax'))\n",
    "\n",
    "adam1 = optimizers.Adam(lr = 0.001,beta_2=0.999, decay=0.001, amsgrad=False) # Updated Adam Optimizers default values \n",
    "modt2.compile(optimizer=adam1, loss='categorical_crossentropy', metrics=['accuracy'])\n",
    " \n",
    "modt2.fit(X_train_ci, y_train, batch_size = 200, validation_data=(X_val_ci,y_val), epochs = 200) #200 epochs with batch size 200."
   ]
  },
  {
   "cell_type": "code",
   "execution_count": 274,
   "metadata": {},
   "outputs": [
    {
     "name": "stdout",
     "output_type": "stream",
     "text": [
      "18000/18000 [==============================] - 3s 166us/sample - loss: 0.4386 - accuracy: 0.8911\n"
     ]
    }
   ],
   "source": [
    "tempz = modt2.evaluate(X_test_ci, y_test)"
   ]
  },
  {
   "cell_type": "code",
   "execution_count": 299,
   "metadata": {
    "scrolled": true
   },
   "outputs": [
    {
     "data": {
      "text/html": [
       "<div>\n",
       "<style scoped>\n",
       "    .dataframe tbody tr th:only-of-type {\n",
       "        vertical-align: middle;\n",
       "    }\n",
       "\n",
       "    .dataframe tbody tr th {\n",
       "        vertical-align: top;\n",
       "    }\n",
       "\n",
       "    .dataframe thead th {\n",
       "        text-align: right;\n",
       "    }\n",
       "</style>\n",
       "<table border=\"1\" class=\"dataframe\">\n",
       "  <thead>\n",
       "    <tr style=\"text-align: right;\">\n",
       "      <th></th>\n",
       "      <th>Models</th>\n",
       "      <th>Accuracy</th>\n",
       "    </tr>\n",
       "  </thead>\n",
       "  <tbody>\n",
       "    <tr>\n",
       "      <th>1</th>\n",
       "      <td>FI_1Lyr</td>\n",
       "      <td>0.814722</td>\n",
       "    </tr>\n",
       "    <tr>\n",
       "      <th>2</th>\n",
       "      <td>FI_1Lyr_Flatten</td>\n",
       "      <td>0.681556</td>\n",
       "    </tr>\n",
       "    <tr>\n",
       "      <th>3</th>\n",
       "      <td>CI_1Lyr</td>\n",
       "      <td>0.838056</td>\n",
       "    </tr>\n",
       "    <tr>\n",
       "      <th>4</th>\n",
       "      <td>FI_2Lyrs</td>\n",
       "      <td>0.824722</td>\n",
       "    </tr>\n",
       "    <tr>\n",
       "      <th>5</th>\n",
       "      <td>CI_2Lyrs</td>\n",
       "      <td>0.844278</td>\n",
       "    </tr>\n",
       "    <tr>\n",
       "      <th>6</th>\n",
       "      <td>FI_3Lyrs</td>\n",
       "      <td>0.823944</td>\n",
       "    </tr>\n",
       "    <tr>\n",
       "      <th>7</th>\n",
       "      <td>CI_3Lyrs</td>\n",
       "      <td>0.845889</td>\n",
       "    </tr>\n",
       "    <tr>\n",
       "      <th>8</th>\n",
       "      <td>FI_2Lyrs_TN</td>\n",
       "      <td>0.880722</td>\n",
       "    </tr>\n",
       "    <tr>\n",
       "      <th>9</th>\n",
       "      <td>CI_2Lyrs_TN</td>\n",
       "      <td>0.891056</td>\n",
       "    </tr>\n",
       "  </tbody>\n",
       "</table>\n",
       "</div>"
      ],
      "text/plain": [
       "            Models  Accuracy\n",
       "1          FI_1Lyr  0.814722\n",
       "2  FI_1Lyr_Flatten  0.681556\n",
       "3          CI_1Lyr  0.838056\n",
       "4         FI_2Lyrs  0.824722\n",
       "5         CI_2Lyrs  0.844278\n",
       "6         FI_3Lyrs  0.823944\n",
       "7         CI_3Lyrs  0.845889\n",
       "8      FI_2Lyrs_TN  0.880722\n",
       "9      CI_2Lyrs_TN  0.891056"
      ]
     },
     "execution_count": 299,
     "metadata": {},
     "output_type": "execute_result"
    }
   ],
   "source": [
    "temp_df = pd.DataFrame({'Models':['CI_2Lyrs_TN'], 'Accuracy': [tempz[1]]},index={'9'})\n",
    "final_df= pd.concat([final_df, temp_df])\n",
    "final_df = final_df[['Models', 'Accuracy']]\n",
    "final_df"
   ]
  },
  {
   "cell_type": "markdown",
   "metadata": {},
   "source": [
    "**NN's on Cropped Image had accuracy of 84.5%, with Tuning ACCURACY INCREASED TO 89.1%. Significant increase in Accuracy.**"
   ]
  },
  {
   "cell_type": "code",
   "execution_count": 344,
   "metadata": {},
   "outputs": [],
   "source": [
    "final_df = final_df.set_index('Models')"
   ]
  },
  {
   "cell_type": "code",
   "execution_count": 355,
   "metadata": {},
   "outputs": [
    {
     "data": {
      "image/png": "[encoded data removed]",
      "text/plain": [
       "<Figure size 1080x504 with 1 Axes>"
      ]
     },
     "metadata": {
      "needs_background": "light"
     },
     "output_type": "display_data"
    }
   ],
   "source": [
    "# Plot the bar chart\n",
    "\n",
    "ax2 = final_df.plot(kind='bar',rot=0, figsize = (15,7), fontsize = 12,colormap=\"winter\",\n",
    "                  title=\"Comparison of Confidence Interval's\")\n",
    "ax2.legend(bbox_to_anchor=(1, 1), prop={'size': 15})\n",
    "ax2.set_ylabel(\"Accuracy\", fontsize=17)\n",
    "ax2.set_xlabel(\"Neural Networks\", fontsize=17)\n",
    "plt.show()"
   ]
  },
  {
   "cell_type": "markdown",
   "metadata": {},
   "source": [
    "**Bar chart shows Tuned NN(CI_2Lyrs_TN) built on Cropped image has the highest Accuracy.** "
   ]
  },
  {
   "cell_type": "code",
   "execution_count": 301,
   "metadata": {},
   "outputs": [],
   "source": [
    "predb = modt2.predict(X_test_ci)"
   ]
  },
  {
   "cell_type": "code",
   "execution_count": 320,
   "metadata": {},
   "outputs": [
    {
     "name": "stdout",
     "output_type": "stream",
     "text": [
      "[[1660   20   12   23   16    5   29   12   12   25]\n",
      " [  21 1606   24   36   51    8   20   31   22    9]\n",
      " [  13   10 1632   39   14   11    5   34   17   28]\n",
      " [   7   17   26 1496   11   81   19   16   27   19]\n",
      " [   9   31   11   35 1667    4   14   11    8   22]\n",
      " [   4    6   10   68    6 1583   45    9   17   20]\n",
      " [  33    9   15   18   24   65 1598    6   52   12]\n",
      " [  11   35   25   28   21   12   10 1648    7   11]\n",
      " [  20   20   24   52   10   25   57    7 1552   45]\n",
      " [  26   14   22   41   16   41   14   17   25 1588]]\n"
     ]
    },
    {
     "data": {
      "image/png": "[encoded data removed]",
      "text/plain": [
       "<Figure size 864x576 with 2 Axes>"
      ]
     },
     "metadata": {
      "needs_background": "light"
     },
     "output_type": "display_data"
    }
   ],
   "source": [
    "plt.figure(figsize=(12, 8))\n",
    "Y_pred_classes21 = np.argmax(predb,axis = 1) \n",
    "# Convert validation observations to one hot vectors\n",
    "Y_true21 = np.argmax(y_test,axis = 1) \n",
    "# compute the confusion matrix\n",
    "confusion_mtx21 = confusion_matrix(Y_true21, Y_pred_classes21) \n",
    "# plot the confusion matrix\n",
    "plot_confusion_matrix(confusion_mtx21, classes = range(10)) \n",
    "print(confusion_mtx21)"
   ]
  },
  {
   "cell_type": "markdown",
   "metadata": {},
   "source": [
    "**True positive(from Cropped Image NN) values are higher than True positive values from Full Image NN.**  "
   ]
  },
  {
   "cell_type": "code",
   "execution_count": 342,
   "metadata": {},
   "outputs": [
    {
     "data": {
      "image/png": "[encoded data removed]",
      "text/plain": [
       "<Figure size 1152x288 with 30 Axes>"
      ]
     },
     "metadata": {
      "needs_background": "light"
     },
     "output_type": "display_data"
    },
    {
     "name": "stdout",
     "output_type": "stream",
     "text": [
      "label for each of the above image: [1 7 2 9 0 9 1 8 4 4 8 9 1 4 3 5 8 6 5 5 0 6 5 8 3 2 0 1 9 5]\n"
     ]
    }
   ],
   "source": [
    "# visualizing the first 30 images in the dataset and their labels\n",
    "\n",
    "plt.figure(figsize=(16, 4))\n",
    "for i in range(30):\n",
    "    plt.subplot(3, 10, i+1)\n",
    "    plt.imshow(X_test1[i])\n",
    "    plt.axis('off')\n",
    "plt.show()\n",
    "print('label for each of the above image: %s' % (y_test1[0:30]))"
   ]
  },
  {
   "cell_type": "code",
   "execution_count": 358,
   "metadata": {},
   "outputs": [
    {
     "name": "stdout",
     "output_type": "stream",
     "text": [
      "Predictions made by NN built on Cropped Image data - \n"
     ]
    },
    {
     "data": {
      "text/plain": [
       "array([1, 7, 2, 9, 0, 9, 1, 6, 1, 4, 8, 2, 4, 4, 3, 5, 8, 6, 5, 5, 0, 6,\n",
       "       5, 8, 3, 2, 6, 5, 9, 5], dtype=int64)"
      ]
     },
     "execution_count": 358,
     "metadata": {},
     "output_type": "execute_result"
    }
   ],
   "source": [
    "print(\"Predictions made by NN built on Cropped Image data - \")\n",
    "modt2.predict_classes(X_test_temp)[0:30]"
   ]
  },
  {
   "cell_type": "code",
   "execution_count": 360,
   "metadata": {},
   "outputs": [
    {
     "name": "stdout",
     "output_type": "stream",
     "text": [
      "Predictions made by NN built on Full Image data - \n"
     ]
    },
    {
     "data": {
      "text/plain": [
       "array([1, 7, 2, 9, 0, 9, 1, 6, 1, 4, 8, 2, 1, 4, 3, 5, 8, 6, 5, 5, 0, 6,\n",
       "       5, 8, 3, 2, 0, 2, 9, 5], dtype=int64)"
      ]
     },
     "execution_count": 360,
     "metadata": {},
     "output_type": "execute_result"
    }
   ],
   "source": [
    "print(\"Predictions made by NN built on Full Image data - \")\n",
    "modta.predict_classes(X_test_fi)[0:30]"
   ]
  },
  {
   "cell_type": "markdown",
   "metadata": {},
   "source": [
    "    * Both the model(on Full Image and Cropped Image) predictions are similar for the first thirty images on test set.   "
   ]
  },
  {
   "cell_type": "markdown",
   "metadata": {},
   "source": [
    "## Conclusion"
   ]
  },
  {
   "cell_type": "markdown",
   "metadata": {},
   "source": [
    "The assignment is to build a Neural network to classify the labels in SVHN image dataset.  \n",
    "\n",
    "SVHN dataset contains 42000, 18000 and 60000 images of Train, Validation and Test set respectively. There were noise in the images, like additional numbers were present in the images. Left and right side of the Images are cropped to minimize the noise. \n",
    "Neural networks (with different parameter combinations) are built on both full image and cropped image data.\n",
    "\n",
    "**Tuned NN network built on Cropped image has the highest Accuracy (89.1%) followed by Tuned NN network accuracy (88%) built on full image**. "
   ]
  },
  {
   "cell_type": "code",
   "execution_count": null,
   "metadata": {},
   "outputs": [],
   "source": []
  }
 ],
 "metadata": {
  "kernelspec": {
   "display_name": "Python 3",
   "language": "python",
   "name": "python3"
  },
  "language_info": {
   "codemirror_mode": {
    "name": "ipython",
    "version": 3
   },
   "file_extension": ".py",
   "mimetype": "text/x-python",
   "name": "python",
   "nbconvert_exporter": "python",
   "pygments_lexer": "ipython3",
   "version": "3.6.10"
  }
 },
 "nbformat": 4,
 "nbformat_minor": 4
}
